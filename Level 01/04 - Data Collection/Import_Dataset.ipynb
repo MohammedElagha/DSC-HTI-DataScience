{
  "nbformat": 4,
  "nbformat_minor": 0,
  "metadata": {
    "colab": {
      "name": "Import Dataset.ipynb",
      "provenance": [],
      "collapsed_sections": []
    },
    "kernelspec": {
      "name": "python3",
      "display_name": "Python 3"
    }
  },
  "cells": [
    {
      "cell_type": "markdown",
      "metadata": {
        "id": "XpMpm9cD8gJj"
      },
      "source": [
        "# Import Dataset"
      ]
    },
    {
      "cell_type": "markdown",
      "metadata": {
        "id": "wu84pZoC8irK"
      },
      "source": [
        "3 methods  \n",
        "1. from local stoage  \n",
        "  - using file()  \n",
        "  - using pandas\n",
        "2. from cloud storage\n",
        "3. from URL\n",
        "  - using pandas\n",
        "  - using scrapping"
      ]
    },
    {
      "cell_type": "markdown",
      "metadata": {
        "id": "NrMUdT0d9v81"
      },
      "source": [
        "\n",
        "\n",
        "---\n",
        "\n"
      ]
    },
    {
      "cell_type": "markdown",
      "metadata": {
        "id": "p7MftGuF9xH0"
      },
      "source": [
        "##### In Google Colab"
      ]
    },
    {
      "cell_type": "code",
      "metadata": {
        "id": "ieXVKpct84jL"
      },
      "source": [
        "import pandas as pd"
      ],
      "execution_count": null,
      "outputs": []
    },
    {
      "cell_type": "code",
      "metadata": {
        "colab": {
          "base_uri": "https://localhost:8080/"
        },
        "id": "9dJNGqUm9b-D",
        "outputId": "fee9d7ae-75b1-42e7-dab5-2e5a53213db9"
      },
      "source": [
        "from google.colab import drive\n",
        "drive.mount('/content/drive', force_remount=True)"
      ],
      "execution_count": null,
      "outputs": [
        {
          "output_type": "stream",
          "text": [
            "Mounted at /content/drive\n"
          ],
          "name": "stdout"
        }
      ]
    },
    {
      "cell_type": "code",
      "metadata": {
        "id": "O5_TE14s9cx8"
      },
      "source": [
        "dataset_path = 'drive/My Drive/path-to-dataset-in-drive-filesystem/social-protection-and-labor-indicators-for-west-bank-and-gaza-1.csv'"
      ],
      "execution_count": null,
      "outputs": []
    },
    {
      "cell_type": "code",
      "metadata": {
        "colab": {
          "base_uri": "https://localhost:8080/",
          "height": 419
        },
        "id": "Aqz8mKaV9MoP",
        "outputId": "3c771e5b-8e98-4ccc-e1a4-6599622bba10"
      },
      "source": [
        "df = pd.read_csv(dataset_path)\n",
        "df"
      ],
      "execution_count": null,
      "outputs": [
        {
          "output_type": "execute_result",
          "data": {
            "text/html": [
              "<div>\n",
              "<style scoped>\n",
              "    .dataframe tbody tr th:only-of-type {\n",
              "        vertical-align: middle;\n",
              "    }\n",
              "\n",
              "    .dataframe tbody tr th {\n",
              "        vertical-align: top;\n",
              "    }\n",
              "\n",
              "    .dataframe thead th {\n",
              "        text-align: right;\n",
              "    }\n",
              "</style>\n",
              "<table border=\"1\" class=\"dataframe\">\n",
              "  <thead>\n",
              "    <tr style=\"text-align: right;\">\n",
              "      <th></th>\n",
              "      <th>Country Name</th>\n",
              "      <th>Country ISO3</th>\n",
              "      <th>Year</th>\n",
              "      <th>Indicator Name</th>\n",
              "      <th>Indicator Code</th>\n",
              "      <th>Value</th>\n",
              "    </tr>\n",
              "  </thead>\n",
              "  <tbody>\n",
              "    <tr>\n",
              "      <th>0</th>\n",
              "      <td>#country+name</td>\n",
              "      <td>#country+code</td>\n",
              "      <td>#date+year</td>\n",
              "      <td>#indicator+name</td>\n",
              "      <td>#indicator+code</td>\n",
              "      <td>#indicator+value+num</td>\n",
              "    </tr>\n",
              "    <tr>\n",
              "      <th>1</th>\n",
              "      <td>West Bank and Gaza</td>\n",
              "      <td>PSE</td>\n",
              "      <td>2009</td>\n",
              "      <td>Adequacy of benefits (%) -All Social Protectio...</td>\n",
              "      <td>per_allsp.adq_pop_preT_tot</td>\n",
              "      <td>20.6695276400199</td>\n",
              "    </tr>\n",
              "    <tr>\n",
              "      <th>2</th>\n",
              "      <td>West Bank and Gaza</td>\n",
              "      <td>PSE</td>\n",
              "      <td>2009</td>\n",
              "      <td>Adequacy of benefits (%) -All Social Protectio...</td>\n",
              "      <td>per_allsp.adq_pop_rur</td>\n",
              "      <td>31.6776073831523</td>\n",
              "    </tr>\n",
              "    <tr>\n",
              "      <th>3</th>\n",
              "      <td>West Bank and Gaza</td>\n",
              "      <td>PSE</td>\n",
              "      <td>2009</td>\n",
              "      <td>Adequacy of benefits (%) -All Social Protectio...</td>\n",
              "      <td>per_allsp.adq_pop_urb</td>\n",
              "      <td>18.5033222247896</td>\n",
              "    </tr>\n",
              "    <tr>\n",
              "      <th>4</th>\n",
              "      <td>West Bank and Gaza</td>\n",
              "      <td>PSE</td>\n",
              "      <td>2009</td>\n",
              "      <td>Adequacy of benefits in 1st quintile (poorest)...</td>\n",
              "      <td>per_allsp.adq_q1_preT_tot</td>\n",
              "      <td>34.6751984403056</td>\n",
              "    </tr>\n",
              "    <tr>\n",
              "      <th>...</th>\n",
              "      <td>...</td>\n",
              "      <td>...</td>\n",
              "      <td>...</td>\n",
              "      <td>...</td>\n",
              "      <td>...</td>\n",
              "      <td>...</td>\n",
              "    </tr>\n",
              "    <tr>\n",
              "      <th>3725</th>\n",
              "      <td>West Bank and Gaza</td>\n",
              "      <td>PSE</td>\n",
              "      <td>1995</td>\n",
              "      <td>Unemployment, total (% of total labor force) (...</td>\n",
              "      <td>SL.UEM.TOTL.ZS</td>\n",
              "      <td>14.3809995651245</td>\n",
              "    </tr>\n",
              "    <tr>\n",
              "      <th>3726</th>\n",
              "      <td>West Bank and Gaza</td>\n",
              "      <td>PSE</td>\n",
              "      <td>1994</td>\n",
              "      <td>Unemployment, total (% of total labor force) (...</td>\n",
              "      <td>SL.UEM.TOTL.ZS</td>\n",
              "      <td>14.1990003585815</td>\n",
              "    </tr>\n",
              "    <tr>\n",
              "      <th>3727</th>\n",
              "      <td>West Bank and Gaza</td>\n",
              "      <td>PSE</td>\n",
              "      <td>1993</td>\n",
              "      <td>Unemployment, total (% of total labor force) (...</td>\n",
              "      <td>SL.UEM.TOTL.ZS</td>\n",
              "      <td>14.2200002670288</td>\n",
              "    </tr>\n",
              "    <tr>\n",
              "      <th>3728</th>\n",
              "      <td>West Bank and Gaza</td>\n",
              "      <td>PSE</td>\n",
              "      <td>1992</td>\n",
              "      <td>Unemployment, total (% of total labor force) (...</td>\n",
              "      <td>SL.UEM.TOTL.ZS</td>\n",
              "      <td>13.8940000534058</td>\n",
              "    </tr>\n",
              "    <tr>\n",
              "      <th>3729</th>\n",
              "      <td>West Bank and Gaza</td>\n",
              "      <td>PSE</td>\n",
              "      <td>1991</td>\n",
              "      <td>Unemployment, total (% of total labor force) (...</td>\n",
              "      <td>SL.UEM.TOTL.ZS</td>\n",
              "      <td>13.8420000076294</td>\n",
              "    </tr>\n",
              "  </tbody>\n",
              "</table>\n",
              "<p>3730 rows × 6 columns</p>\n",
              "</div>"
            ],
            "text/plain": [
              "            Country Name  ...                 Value\n",
              "0          #country+name  ...  #indicator+value+num\n",
              "1     West Bank and Gaza  ...      20.6695276400199\n",
              "2     West Bank and Gaza  ...      31.6776073831523\n",
              "3     West Bank and Gaza  ...      18.5033222247896\n",
              "4     West Bank and Gaza  ...      34.6751984403056\n",
              "...                  ...  ...                   ...\n",
              "3725  West Bank and Gaza  ...      14.3809995651245\n",
              "3726  West Bank and Gaza  ...      14.1990003585815\n",
              "3727  West Bank and Gaza  ...      14.2200002670288\n",
              "3728  West Bank and Gaza  ...      13.8940000534058\n",
              "3729  West Bank and Gaza  ...      13.8420000076294\n",
              "\n",
              "[3730 rows x 6 columns]"
            ]
          },
          "metadata": {
            "tags": []
          },
          "execution_count": 6
        }
      ]
    },
    {
      "cell_type": "markdown",
      "metadata": {
        "id": "ZTB_ab0x9zaU"
      },
      "source": [
        "##### Non-Common Format"
      ]
    },
    {
      "cell_type": "code",
      "metadata": {
        "id": "fbUcgUvg-H3g"
      },
      "source": [
        "dataset_path = 'drive/My Drive/path-to-folder-in-drive-filesystem/iris.data'"
      ],
      "execution_count": null,
      "outputs": []
    },
    {
      "cell_type": "code",
      "metadata": {
        "colab": {
          "base_uri": "https://localhost:8080/",
          "height": 419
        },
        "id": "OaHTEoD--NUz",
        "outputId": "6309db23-57e1-428d-b809-c55fa0346bed"
      },
      "source": [
        "df = pd.read_csv(dataset_path, sep=',')\n",
        "df"
      ],
      "execution_count": null,
      "outputs": [
        {
          "output_type": "execute_result",
          "data": {
            "text/html": [
              "<div>\n",
              "<style scoped>\n",
              "    .dataframe tbody tr th:only-of-type {\n",
              "        vertical-align: middle;\n",
              "    }\n",
              "\n",
              "    .dataframe tbody tr th {\n",
              "        vertical-align: top;\n",
              "    }\n",
              "\n",
              "    .dataframe thead th {\n",
              "        text-align: right;\n",
              "    }\n",
              "</style>\n",
              "<table border=\"1\" class=\"dataframe\">\n",
              "  <thead>\n",
              "    <tr style=\"text-align: right;\">\n",
              "      <th></th>\n",
              "      <th>5.1</th>\n",
              "      <th>3.5</th>\n",
              "      <th>1.4</th>\n",
              "      <th>0.2</th>\n",
              "      <th>Iris-setosa</th>\n",
              "    </tr>\n",
              "  </thead>\n",
              "  <tbody>\n",
              "    <tr>\n",
              "      <th>0</th>\n",
              "      <td>4.9</td>\n",
              "      <td>3.0</td>\n",
              "      <td>1.4</td>\n",
              "      <td>0.2</td>\n",
              "      <td>Iris-setosa</td>\n",
              "    </tr>\n",
              "    <tr>\n",
              "      <th>1</th>\n",
              "      <td>4.7</td>\n",
              "      <td>3.2</td>\n",
              "      <td>1.3</td>\n",
              "      <td>0.2</td>\n",
              "      <td>Iris-setosa</td>\n",
              "    </tr>\n",
              "    <tr>\n",
              "      <th>2</th>\n",
              "      <td>4.6</td>\n",
              "      <td>3.1</td>\n",
              "      <td>1.5</td>\n",
              "      <td>0.2</td>\n",
              "      <td>Iris-setosa</td>\n",
              "    </tr>\n",
              "    <tr>\n",
              "      <th>3</th>\n",
              "      <td>5.0</td>\n",
              "      <td>3.6</td>\n",
              "      <td>1.4</td>\n",
              "      <td>0.2</td>\n",
              "      <td>Iris-setosa</td>\n",
              "    </tr>\n",
              "    <tr>\n",
              "      <th>4</th>\n",
              "      <td>5.4</td>\n",
              "      <td>3.9</td>\n",
              "      <td>1.7</td>\n",
              "      <td>0.4</td>\n",
              "      <td>Iris-setosa</td>\n",
              "    </tr>\n",
              "    <tr>\n",
              "      <th>...</th>\n",
              "      <td>...</td>\n",
              "      <td>...</td>\n",
              "      <td>...</td>\n",
              "      <td>...</td>\n",
              "      <td>...</td>\n",
              "    </tr>\n",
              "    <tr>\n",
              "      <th>144</th>\n",
              "      <td>6.7</td>\n",
              "      <td>3.0</td>\n",
              "      <td>5.2</td>\n",
              "      <td>2.3</td>\n",
              "      <td>Iris-virginica</td>\n",
              "    </tr>\n",
              "    <tr>\n",
              "      <th>145</th>\n",
              "      <td>6.3</td>\n",
              "      <td>2.5</td>\n",
              "      <td>5.0</td>\n",
              "      <td>1.9</td>\n",
              "      <td>Iris-virginica</td>\n",
              "    </tr>\n",
              "    <tr>\n",
              "      <th>146</th>\n",
              "      <td>6.5</td>\n",
              "      <td>3.0</td>\n",
              "      <td>5.2</td>\n",
              "      <td>2.0</td>\n",
              "      <td>Iris-virginica</td>\n",
              "    </tr>\n",
              "    <tr>\n",
              "      <th>147</th>\n",
              "      <td>6.2</td>\n",
              "      <td>3.4</td>\n",
              "      <td>5.4</td>\n",
              "      <td>2.3</td>\n",
              "      <td>Iris-virginica</td>\n",
              "    </tr>\n",
              "    <tr>\n",
              "      <th>148</th>\n",
              "      <td>5.9</td>\n",
              "      <td>3.0</td>\n",
              "      <td>5.1</td>\n",
              "      <td>1.8</td>\n",
              "      <td>Iris-virginica</td>\n",
              "    </tr>\n",
              "  </tbody>\n",
              "</table>\n",
              "<p>149 rows × 5 columns</p>\n",
              "</div>"
            ],
            "text/plain": [
              "     5.1  3.5  1.4  0.2     Iris-setosa\n",
              "0    4.9  3.0  1.4  0.2     Iris-setosa\n",
              "1    4.7  3.2  1.3  0.2     Iris-setosa\n",
              "2    4.6  3.1  1.5  0.2     Iris-setosa\n",
              "3    5.0  3.6  1.4  0.2     Iris-setosa\n",
              "4    5.4  3.9  1.7  0.4     Iris-setosa\n",
              "..   ...  ...  ...  ...             ...\n",
              "144  6.7  3.0  5.2  2.3  Iris-virginica\n",
              "145  6.3  2.5  5.0  1.9  Iris-virginica\n",
              "146  6.5  3.0  5.2  2.0  Iris-virginica\n",
              "147  6.2  3.4  5.4  2.3  Iris-virginica\n",
              "148  5.9  3.0  5.1  1.8  Iris-virginica\n",
              "\n",
              "[149 rows x 5 columns]"
            ]
          },
          "metadata": {
            "tags": []
          },
          "execution_count": 11
        }
      ]
    },
    {
      "cell_type": "markdown",
      "metadata": {
        "id": "aYQb4Xz5qIPJ"
      },
      "source": [
        "##### Datasets Resources"
      ]
    },
    {
      "cell_type": "markdown",
      "metadata": {
        "id": "7zpD_NwDqKNG"
      },
      "source": [
        "- Kuggle\n",
        "- UCI\n",
        "- data.world\n",
        "- worldbank"
      ]
    }
  ]
}