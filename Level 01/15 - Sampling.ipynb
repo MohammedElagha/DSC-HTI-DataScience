{
  "nbformat": 4,
  "nbformat_minor": 0,
  "metadata": {
    "colab": {
      "name": "Session6_Sampling.ipynb",
      "provenance": [],
      "collapsed_sections": [],
      "toc_visible": true
    },
    "kernelspec": {
      "name": "python3",
      "display_name": "Python 3"
    }
  },
  "cells": [
    {
      "cell_type": "markdown",
      "metadata": {
        "id": "zKM9iF6AHqBO"
      },
      "source": [
        "# Statistical Sampling"
      ]
    },
    {
      "cell_type": "markdown",
      "metadata": {
        "id": "vPJsyURPHstN"
      },
      "source": [
        "- What is Sampling ?\r\n",
        "\r\n",
        "= Sampling is a method that allows us to get information about the population based on the statistics from a subset of the population (sample), without having to investigate every individual.\r\n",
        "\r\n",
        "Let’s understand this at a more intuitive level through an example.\r\n",
        "\r\n",
        "We want to find the average height of all adult males in Alexandria. The population of Alexandria is nearly 5.2 millions according to October 2018 population.That is almost impossible to find the average male height of all males in Alexandria. So we choose a ***Sample*** \"A group of people as well represantitives for the population to find their average\".\r\n",
        "\r\n",
        "- Why only having a sample from the data? Why not having all the data?\r\n",
        "\r\n",
        "Seeking all data is:\r\n",
        "\r\n",
        "1) Time and money consuming.\r\n",
        "\r\n",
        "2) Not practical.\r\n",
        "\r\n",
        "3) The memory of our Devices and Clouds are limited - Google Colab provides 12 GB memory for example.\r\n",
        "\r\n",
        "- Do we need rules for sampling ? Or we just take a **sample**?\r\n",
        "\r\n",
        "Let's take our example of finding the average male height; and let’s say we go to a basketball court and take the average height of all the professional basketball players as our sample. This will not be considered a good sample because generally, a basketball player is taller than an average male and it will give us a bad estimate of the average male’s height."
      ]
    },
    {
      "cell_type": "markdown",
      "metadata": {
        "id": "HjLwC6q_NZYE"
      },
      "source": [
        "## Steps for Sampling\r\n",
        "\r\n",
        "- Step 1 : The first stage in the sampling process is to clearly define the target population. \r\n",
        "\r\n",
        "For our example : Only males who live in Alexandria, above 18 years old.\r\n",
        "\r\n",
        " - Step 2 : Sampling Frame – It is a list of items or people forming a population from which the sample is taken.\r\n",
        "\r\n",
        "For our example : A list contain all the names of the above 18 years old males in Alexandria.\r\n",
        "\r\n",
        " - Step 3 : Choose sampling methods.\r\n",
        "\r\n",
        "We will discuss this later in this session\r\n",
        "\r\n",
        " - Step 4 : Define sample size.\r\n",
        "\r\n",
        "Sample Size – It is the number of individuals or items to be taken in a sample that would be enough to make inferences/deductions about the population with the desired level of accuracy and precision.\r\n",
        "\r\n",
        "Larger the sample size, more accurate our inference about the population would be.\r\n",
        "\r\n",
        "For our example : Let's say 30,000 adult males from Alexandria.\r\n",
        "\r\n",
        " - Step 5 : Collect the data."
      ]
    },
    {
      "cell_type": "markdown",
      "metadata": {
        "id": "dQagwWM_P0wQ"
      },
      "source": [
        "# Different Types of Sampling Techniques\r\n",
        "\r\n",
        " - **Probability Sampling**: In probability sampling, every element of the population has an equal chance of being selected. Probability sampling gives us the best chance to create a sample that is truly representative of the population.\r\n",
        "\r\n",
        " - **Non-Probability Sampling**: In non-probability sampling, all elements do not have an equal chance of being selected. Consequently, there is a significant risk of ending up with a non-representative sample which does not produce generalizable results.\r\n",
        "\r\n",
        "##Types of Probability Sampling\r\n",
        "\r\n",
        "## - Simple Random Sampling\r\n",
        "In a simple random sample, every member of the population has an equal chance of being selected. Your sampling frame should include the whole population.To conduct this type of sampling, you can use tools like random number generators or other techniques that are based entirely on chance.\r\n",
        "\r\n",
        " - Our example:\r\n",
        "\r\n",
        "You want to select a simple random sample of 30,000 adult males of Alexandria. You assign a number to every adult male in the database from 1 to 3 millions, and use a random number generator to select 30,000 numbers.\r\n",
        "\r\n",
        "## - Systematic sampling\r\n",
        "Systematic sampling is similar to simple random sampling, but it is usually slightly easier to conduct. Every member of the population is listed with a number, but instead of randomly generating numbers, individuals are chosen at regular intervals.\r\n",
        "\r\n",
        "ex : sample : (6,26,36, ... , 166, ....).\r\n",
        "\r\n",
        "## - Stratified sampling\r\n",
        "Stratified sampling involves dividing the population into subpopulations that may differ in important ways. It allows you draw more precise conclusions by ensuring that every subgroup is properly represented in the sample.\r\n",
        "\r\n",
        "To use this sampling method, you divide the population into subgroups (called strata) based on the relevant characteristic (e.g. gender, age range, income bracket, job role).\r\n",
        "\r\n",
        "ex : samples are according to Age : ( [18,25] , [26,30] , [31,35] , .... ).\r\n",
        "\r\n",
        "## - Cluster sampling\r\n",
        "Cluster sampling also involves dividing the population into subgroups, but each subgroup should have similar characteristics to the whole sample. Instead of sampling individuals from each subgroup, you randomly select entire subgroups.\r\n",
        "\r\n",
        "1) Create subgroups that are similar to one another.\r\n",
        "\r\n",
        "2) Choose a random subgroup."
      ]
    },
    {
      "cell_type": "markdown",
      "metadata": {
        "id": "Gtssaco-TWu6"
      },
      "source": [
        "## Non-probability sampling methods\r\n",
        "In a non-probability sample, individuals are selected based on non-random criteria, and not every individual has a chance of being included.\r\n",
        "\r\n",
        "##  - Convenience sampling\r\n",
        "A convenience sample simply includes the individuals who happen to be most accessible to the researcher.\r\n",
        "\r\n",
        "our ex: Taking my friends and family as a sample.\r\n",
        "\r\n",
        "## - Voluntary response sampling\r\n",
        "Similar to a convenience sample, a voluntary response sample is mainly based on ease of access. Instead of the researcher choosing participants and directly contacting them, people volunteer themselves (e.g. by responding to a public online survey).\r\n",
        "\r\n",
        "## - Judgment Sampling\r\n",
        "It depends on the judgment of the experts when choosing whom to ask to participate.\r\n",
        "\r\n",
        "## - Snowball sampling\r\n",
        "If the population is hard to access, snowball sampling can be used to recruit participants via other participants. The number of people you have access to “snowballs” as you get in contact with more people."
      ]
    },
    {
      "cell_type": "code",
      "metadata": {
        "colab": {
          "base_uri": "https://localhost:8080/"
        },
        "id": "XSP3P3V0U6UQ",
        "outputId": "73520414-84d4-4f49-c8a4-67acc5639bc9"
      },
      "source": [
        "# Simple random sampling:\r\n",
        "import numpy as np\r\n",
        "\r\n",
        "datastored  = np.array([12,20,34,32,13,31,12,76,42,78,10,54,12,13])\r\n",
        "index_sample= np.random.choice(range(14), 5, replace=False)\r\n",
        "index_sample"
      ],
      "execution_count": 4,
      "outputs": [
        {
          "output_type": "execute_result",
          "data": {
            "text/plain": [
              "array([6, 0, 2, 8, 4])"
            ]
          },
          "metadata": {
            "tags": []
          },
          "execution_count": 4
        }
      ]
    },
    {
      "cell_type": "code",
      "metadata": {
        "colab": {
          "base_uri": "https://localhost:8080/"
        },
        "id": "L7ZzDBW9YvLA",
        "outputId": "991c5d2c-d642-46b1-9e38-3d7f579c01c1"
      },
      "source": [
        "rand_sampled_data = []\r\n",
        "for index in index_sample:\r\n",
        "  rand_sampled_data.append(datastored[index])\r\n",
        "print(rand_sampled_data)"
      ],
      "execution_count": 5,
      "outputs": [
        {
          "output_type": "stream",
          "text": [
            "[12, 12, 34, 42, 13]\n"
          ],
          "name": "stdout"
        }
      ]
    },
    {
      "cell_type": "code",
      "metadata": {
        "id": "cW43I9Z8aP4V"
      },
      "source": [
        "import pandas as pd\r\n",
        "\r\n",
        "df = pd.read_csv('/content/Social_Network_Ads.csv')"
      ],
      "execution_count": 27,
      "outputs": []
    },
    {
      "cell_type": "code",
      "metadata": {
        "colab": {
          "base_uri": "https://localhost:8080/",
          "height": 399
        },
        "id": "2NKmz6nKbPO0",
        "outputId": "19acb764-27a0-4f54-b59f-7061f99e13a1"
      },
      "source": [
        "df"
      ],
      "execution_count": 28,
      "outputs": [
        {
          "output_type": "execute_result",
          "data": {
            "text/html": [
              "<div>\n",
              "<style scoped>\n",
              "    .dataframe tbody tr th:only-of-type {\n",
              "        vertical-align: middle;\n",
              "    }\n",
              "\n",
              "    .dataframe tbody tr th {\n",
              "        vertical-align: top;\n",
              "    }\n",
              "\n",
              "    .dataframe thead th {\n",
              "        text-align: right;\n",
              "    }\n",
              "</style>\n",
              "<table border=\"1\" class=\"dataframe\">\n",
              "  <thead>\n",
              "    <tr style=\"text-align: right;\">\n",
              "      <th></th>\n",
              "      <th>User ID</th>\n",
              "      <th>Age</th>\n",
              "      <th>EstimatedSalary</th>\n",
              "      <th>Purchased</th>\n",
              "    </tr>\n",
              "  </thead>\n",
              "  <tbody>\n",
              "    <tr>\n",
              "      <th>0</th>\n",
              "      <td>15624510</td>\n",
              "      <td>19</td>\n",
              "      <td>19000</td>\n",
              "      <td>0</td>\n",
              "    </tr>\n",
              "    <tr>\n",
              "      <th>1</th>\n",
              "      <td>15810944</td>\n",
              "      <td>35</td>\n",
              "      <td>20000</td>\n",
              "      <td>0</td>\n",
              "    </tr>\n",
              "    <tr>\n",
              "      <th>2</th>\n",
              "      <td>15668575</td>\n",
              "      <td>26</td>\n",
              "      <td>43000</td>\n",
              "      <td>0</td>\n",
              "    </tr>\n",
              "    <tr>\n",
              "      <th>3</th>\n",
              "      <td>15603246</td>\n",
              "      <td>27</td>\n",
              "      <td>57000</td>\n",
              "      <td>0</td>\n",
              "    </tr>\n",
              "    <tr>\n",
              "      <th>4</th>\n",
              "      <td>15804002</td>\n",
              "      <td>19</td>\n",
              "      <td>76000</td>\n",
              "      <td>0</td>\n",
              "    </tr>\n",
              "    <tr>\n",
              "      <th>...</th>\n",
              "      <td>...</td>\n",
              "      <td>...</td>\n",
              "      <td>...</td>\n",
              "      <td>...</td>\n",
              "    </tr>\n",
              "    <tr>\n",
              "      <th>395</th>\n",
              "      <td>15691863</td>\n",
              "      <td>46</td>\n",
              "      <td>41000</td>\n",
              "      <td>1</td>\n",
              "    </tr>\n",
              "    <tr>\n",
              "      <th>396</th>\n",
              "      <td>15706071</td>\n",
              "      <td>51</td>\n",
              "      <td>23000</td>\n",
              "      <td>1</td>\n",
              "    </tr>\n",
              "    <tr>\n",
              "      <th>397</th>\n",
              "      <td>15654296</td>\n",
              "      <td>50</td>\n",
              "      <td>20000</td>\n",
              "      <td>1</td>\n",
              "    </tr>\n",
              "    <tr>\n",
              "      <th>398</th>\n",
              "      <td>15755018</td>\n",
              "      <td>36</td>\n",
              "      <td>33000</td>\n",
              "      <td>0</td>\n",
              "    </tr>\n",
              "    <tr>\n",
              "      <th>399</th>\n",
              "      <td>15594041</td>\n",
              "      <td>49</td>\n",
              "      <td>36000</td>\n",
              "      <td>1</td>\n",
              "    </tr>\n",
              "  </tbody>\n",
              "</table>\n",
              "<p>400 rows × 4 columns</p>\n",
              "</div>"
            ],
            "text/plain": [
              "      User ID  Age  EstimatedSalary  Purchased\n",
              "0    15624510   19            19000          0\n",
              "1    15810944   35            20000          0\n",
              "2    15668575   26            43000          0\n",
              "3    15603246   27            57000          0\n",
              "4    15804002   19            76000          0\n",
              "..        ...  ...              ...        ...\n",
              "395  15691863   46            41000          1\n",
              "396  15706071   51            23000          1\n",
              "397  15654296   50            20000          1\n",
              "398  15755018   36            33000          0\n",
              "399  15594041   49            36000          1\n",
              "\n",
              "[400 rows x 4 columns]"
            ]
          },
          "metadata": {
            "tags": []
          },
          "execution_count": 28
        }
      ]
    },
    {
      "cell_type": "code",
      "metadata": {
        "colab": {
          "base_uri": "https://localhost:8080/",
          "height": 340
        },
        "id": "JEeZUxQtbSxt",
        "outputId": "a8bf5b3b-c5aa-4782-dfea-c02027283821"
      },
      "source": [
        "sample_df = df.sample(10)\r\n",
        "sample_df"
      ],
      "execution_count": 29,
      "outputs": [
        {
          "output_type": "execute_result",
          "data": {
            "text/html": [
              "<div>\n",
              "<style scoped>\n",
              "    .dataframe tbody tr th:only-of-type {\n",
              "        vertical-align: middle;\n",
              "    }\n",
              "\n",
              "    .dataframe tbody tr th {\n",
              "        vertical-align: top;\n",
              "    }\n",
              "\n",
              "    .dataframe thead th {\n",
              "        text-align: right;\n",
              "    }\n",
              "</style>\n",
              "<table border=\"1\" class=\"dataframe\">\n",
              "  <thead>\n",
              "    <tr style=\"text-align: right;\">\n",
              "      <th></th>\n",
              "      <th>User ID</th>\n",
              "      <th>Age</th>\n",
              "      <th>EstimatedSalary</th>\n",
              "      <th>Purchased</th>\n",
              "    </tr>\n",
              "  </thead>\n",
              "  <tbody>\n",
              "    <tr>\n",
              "      <th>349</th>\n",
              "      <td>15721835</td>\n",
              "      <td>38</td>\n",
              "      <td>61000</td>\n",
              "      <td>0</td>\n",
              "    </tr>\n",
              "    <tr>\n",
              "      <th>154</th>\n",
              "      <td>15605327</td>\n",
              "      <td>40</td>\n",
              "      <td>47000</td>\n",
              "      <td>0</td>\n",
              "    </tr>\n",
              "    <tr>\n",
              "      <th>386</th>\n",
              "      <td>15724150</td>\n",
              "      <td>49</td>\n",
              "      <td>39000</td>\n",
              "      <td>1</td>\n",
              "    </tr>\n",
              "    <tr>\n",
              "      <th>85</th>\n",
              "      <td>15663939</td>\n",
              "      <td>31</td>\n",
              "      <td>118000</td>\n",
              "      <td>1</td>\n",
              "    </tr>\n",
              "    <tr>\n",
              "      <th>288</th>\n",
              "      <td>15649668</td>\n",
              "      <td>41</td>\n",
              "      <td>79000</td>\n",
              "      <td>0</td>\n",
              "    </tr>\n",
              "    <tr>\n",
              "      <th>304</th>\n",
              "      <td>15598070</td>\n",
              "      <td>40</td>\n",
              "      <td>60000</td>\n",
              "      <td>0</td>\n",
              "    </tr>\n",
              "    <tr>\n",
              "      <th>347</th>\n",
              "      <td>15768151</td>\n",
              "      <td>54</td>\n",
              "      <td>108000</td>\n",
              "      <td>1</td>\n",
              "    </tr>\n",
              "    <tr>\n",
              "      <th>266</th>\n",
              "      <td>15721592</td>\n",
              "      <td>40</td>\n",
              "      <td>75000</td>\n",
              "      <td>0</td>\n",
              "    </tr>\n",
              "    <tr>\n",
              "      <th>193</th>\n",
              "      <td>15662901</td>\n",
              "      <td>19</td>\n",
              "      <td>70000</td>\n",
              "      <td>0</td>\n",
              "    </tr>\n",
              "    <tr>\n",
              "      <th>147</th>\n",
              "      <td>15749130</td>\n",
              "      <td>41</td>\n",
              "      <td>30000</td>\n",
              "      <td>0</td>\n",
              "    </tr>\n",
              "  </tbody>\n",
              "</table>\n",
              "</div>"
            ],
            "text/plain": [
              "      User ID  Age  EstimatedSalary  Purchased\n",
              "349  15721835   38            61000          0\n",
              "154  15605327   40            47000          0\n",
              "386  15724150   49            39000          1\n",
              "85   15663939   31           118000          1\n",
              "288  15649668   41            79000          0\n",
              "304  15598070   40            60000          0\n",
              "347  15768151   54           108000          1\n",
              "266  15721592   40            75000          0\n",
              "193  15662901   19            70000          0\n",
              "147  15749130   41            30000          0"
            ]
          },
          "metadata": {
            "tags": []
          },
          "execution_count": 29
        }
      ]
    },
    {
      "cell_type": "code",
      "metadata": {
        "colab": {
          "base_uri": "https://localhost:8080/"
        },
        "id": "RjQJf2OPZ8S-",
        "outputId": "58890f38-26c6-45be-c31d-333c2f49a863"
      },
      "source": [
        "# Systematic sampling:\r\n",
        "\r\n",
        "index_sample = range(3,14,2)\r\n",
        "sys_sampled_data = []\r\n",
        "\r\n",
        "for index in index_sample:\r\n",
        "  sys_sampled_data.append(datastored[index])\r\n",
        "print(sys_sampled_data)"
      ],
      "execution_count": 30,
      "outputs": [
        {
          "output_type": "stream",
          "text": [
            "[32, 31, 76, 78, 54, 13]\n"
          ],
          "name": "stdout"
        }
      ]
    },
    {
      "cell_type": "code",
      "metadata": {
        "id": "bT-dSf8uc2SO"
      },
      "source": [
        "X = df.iloc[:,:-1].values\r\n",
        "y = df['Purchased']"
      ],
      "execution_count": 32,
      "outputs": []
    },
    {
      "cell_type": "code",
      "metadata": {
        "id": "VFoAgX5ocwjX"
      },
      "source": [
        "# Stratified sampling:\r\n",
        "\r\n",
        "from sklearn.model_selection import train_test_split\r\n",
        "\r\n",
        "X_train, X_sampled, y_train, y_sampled = train_test_split(X, y,\r\n",
        "stratify=y,\r\n",
        "test_size=0.25)"
      ],
      "execution_count": 33,
      "outputs": []
    },
    {
      "cell_type": "code",
      "metadata": {
        "colab": {
          "base_uri": "https://localhost:8080/"
        },
        "id": "YW9Zfzsud81G",
        "outputId": "71cad97e-642b-407a-9e94-fdbeff2d3d89"
      },
      "source": [
        "X_sampled"
      ],
      "execution_count": 34,
      "outputs": [
        {
          "output_type": "execute_result",
          "data": {
            "text/plain": [
              "array([[15586757,       39,   134000],\n",
              "       [15753102,       35,    97000],\n",
              "       [15591915,       33,    51000],\n",
              "       [15735549,       39,   134000],\n",
              "       [15688172,       59,    76000],\n",
              "       [15660541,       40,    57000],\n",
              "       [15707634,       49,    28000],\n",
              "       [15638646,       48,   141000],\n",
              "       [15596761,       36,   125000],\n",
              "       [15671766,       26,    72000],\n",
              "       [15575002,       35,    60000],\n",
              "       [15724423,       40,    75000],\n",
              "       [15800515,       38,   113000],\n",
              "       [15778368,       54,    70000],\n",
              "       [15637593,       37,    79000],\n",
              "       [15787550,       42,    54000],\n",
              "       [15710257,       35,    25000],\n",
              "       [15619465,       48,    30000],\n",
              "       [15746139,       20,    86000],\n",
              "       [15815236,       45,   131000],\n",
              "       [15594041,       49,    36000],\n",
              "       [15796351,       36,   118000],\n",
              "       [15611191,       53,    82000],\n",
              "       [15670619,       25,    90000],\n",
              "       [15601550,       36,    54000],\n",
              "       [15593014,       28,    59000],\n",
              "       [15706185,       26,    35000],\n",
              "       [15579212,       39,    77000],\n",
              "       [15744919,       29,    83000],\n",
              "       [15587419,       42,    90000],\n",
              "       [15595917,       30,    80000],\n",
              "       [15631070,       37,    62000],\n",
              "       [15668504,       20,    82000],\n",
              "       [15646091,       46,    32000],\n",
              "       [15724161,       50,    44000],\n",
              "       [15720943,       26,    86000],\n",
              "       [15694829,       32,   150000],\n",
              "       [15654456,       42,   104000],\n",
              "       [15593715,       60,   102000],\n",
              "       [15591433,       36,    52000],\n",
              "       [15724858,       27,    90000],\n",
              "       [15609637,       41,    72000],\n",
              "       [15750335,       37,    57000],\n",
              "       [15813113,       40,   107000],\n",
              "       [15800061,       28,    55000],\n",
              "       [15764195,       18,    44000],\n",
              "       [15757837,       35,    38000],\n",
              "       [15814004,       27,    20000],\n",
              "       [15722061,       51,   146000],\n",
              "       [15692819,       57,    26000],\n",
              "       [15673539,       42,    73000],\n",
              "       [15809347,       41,    71000],\n",
              "       [15654901,       27,    58000],\n",
              "       [15798659,       30,    62000],\n",
              "       [15745083,       26,    80000],\n",
              "       [15573452,       21,    16000],\n",
              "       [15602373,       29,    75000],\n",
              "       [15723373,       37,    52000],\n",
              "       [15722758,       30,    17000],\n",
              "       [15649668,       41,    79000],\n",
              "       [15730688,       41,    52000],\n",
              "       [15657163,       35,    58000],\n",
              "       [15780572,       50,    88000],\n",
              "       [15806901,       57,    33000],\n",
              "       [15624510,       19,    19000],\n",
              "       [15774727,       31,    71000],\n",
              "       [15801658,       21,    72000],\n",
              "       [15736760,       47,    49000],\n",
              "       [15768293,       42,    79000],\n",
              "       [15592570,       47,    23000],\n",
              "       [15755018,       36,    33000],\n",
              "       [15714658,       48,    41000],\n",
              "       [15569641,       58,    95000],\n",
              "       [15687491,       30,   107000],\n",
              "       [15709476,       20,    49000],\n",
              "       [15762605,       26,    30000],\n",
              "       [15729908,       47,   105000],\n",
              "       [15669656,       31,    18000],\n",
              "       [15680243,       20,    36000],\n",
              "       [15587177,       40,    65000],\n",
              "       [15671655,       35,    23000],\n",
              "       [15707596,       59,    42000],\n",
              "       [15709183,       42,    54000],\n",
              "       [15759066,       33,    60000],\n",
              "       [15779744,       38,    71000],\n",
              "       [15674331,       41,    52000],\n",
              "       [15670615,       48,    33000],\n",
              "       [15617482,       45,    26000],\n",
              "       [15600575,       25,    33000],\n",
              "       [15579781,       29,    47000],\n",
              "       [15577514,       43,   129000],\n",
              "       [15756932,       25,    80000],\n",
              "       [15708196,       49,    74000],\n",
              "       [15619407,       38,   112000],\n",
              "       [15628972,       18,    82000],\n",
              "       [15622585,       39,    96000],\n",
              "       [15614187,       49,    86000],\n",
              "       [15610140,       31,    15000],\n",
              "       [15756820,       28,    37000],\n",
              "       [15766609,       47,    47000]])"
            ]
          },
          "metadata": {
            "tags": []
          },
          "execution_count": 34
        }
      ]
    },
    {
      "cell_type": "code",
      "metadata": {
        "colab": {
          "base_uri": "https://localhost:8080/"
        },
        "id": "gtjB1UxJeKrK",
        "outputId": "d14abf1d-8208-4023-ef99-0347760ddb93"
      },
      "source": [
        "y_sampled.shape"
      ],
      "execution_count": 35,
      "outputs": [
        {
          "output_type": "execute_result",
          "data": {
            "text/plain": [
              "(100,)"
            ]
          },
          "metadata": {
            "tags": []
          },
          "execution_count": 35
        }
      ]
    },
    {
      "cell_type": "markdown",
      "metadata": {
        "id": "tNkkOJfoe2OD"
      },
      "source": [
        "## Oversampling\r\n",
        "\r\n",
        "- What is it?\r\n",
        "\r\n",
        "To amplify the minority class so the dataset becomes balanced.\r\n",
        "\r\n",
        "- Why do we use it?\r\n",
        "\r\n",
        "Having an imbalanced dataset that can result that the machine learning model has a poor performance.\r\n",
        "\r\n",
        "- How is it done?\r\n",
        "\r\n",
        "By Synthetic Minority Oversampling Technique (SMOTE), SMOTE works by selecting examples that are close in the feature space, drawing a line between the examples in the feature space and drawing a new sample at a point along that line.\r\n",
        "\r\n",
        "Check the paper: \r\n",
        "https://arxiv.org/pdf/1106.1813.pdf\r\n"
      ]
    },
    {
      "cell_type": "code",
      "metadata": {
        "colab": {
          "base_uri": "https://localhost:8080/"
        },
        "id": "joxbz0X4giA1",
        "outputId": "c3be1401-22d5-4dd5-98a9-42d26ed6a335"
      },
      "source": [
        "from collections import Counter\r\n",
        "\r\n",
        "counter = Counter(y)\r\n",
        "counter\r\n",
        "## 143 -> Purchased = 1\r\n",
        "## 257 -> Purchased = 0"
      ],
      "execution_count": 42,
      "outputs": [
        {
          "output_type": "execute_result",
          "data": {
            "text/plain": [
              "Counter({0: 257, 1: 143})"
            ]
          },
          "metadata": {
            "tags": []
          },
          "execution_count": 42
        }
      ]
    },
    {
      "cell_type": "code",
      "metadata": {
        "colab": {
          "base_uri": "https://localhost:8080/"
        },
        "id": "CfUwWPqrg1eV",
        "outputId": "e6aa7b0c-bafe-4f85-9178-e41b98c9fb69"
      },
      "source": [
        "from imblearn.over_sampling import SMOTE\r\n",
        "smote = SMOTE(ratio='minority')\r\n",
        "X_sm, y_sm = smote.fit_sample(X, y)"
      ],
      "execution_count": 37,
      "outputs": [
        {
          "output_type": "stream",
          "text": [
            "/usr/local/lib/python3.6/dist-packages/sklearn/utils/deprecation.py:87: FutureWarning: Function safe_indexing is deprecated; safe_indexing is deprecated in version 0.22 and will be removed in version 0.24.\n",
            "  warnings.warn(msg, category=FutureWarning)\n"
          ],
          "name": "stderr"
        }
      ]
    },
    {
      "cell_type": "code",
      "metadata": {
        "colab": {
          "base_uri": "https://localhost:8080/"
        },
        "id": "Yk4Uk0m1iRN9",
        "outputId": "602661c4-d0fc-4bf6-abce-46c6e4f332ad"
      },
      "source": [
        "X_sm"
      ],
      "execution_count": 38,
      "outputs": [
        {
          "output_type": "execute_result",
          "data": {
            "text/plain": [
              "array([[15624510,       19,    19000],\n",
              "       [15810944,       35,    20000],\n",
              "       [15668575,       26,    43000],\n",
              "       ...,\n",
              "       [15703775,       51,    27479],\n",
              "       [15745551,       47,   144378],\n",
              "       [15617377,       51,    34156]])"
            ]
          },
          "metadata": {
            "tags": []
          },
          "execution_count": 38
        }
      ]
    },
    {
      "cell_type": "code",
      "metadata": {
        "colab": {
          "base_uri": "https://localhost:8080/"
        },
        "id": "Svpgm32-iT4q",
        "outputId": "c8a90928-914a-4bba-b18a-75c360b4e297"
      },
      "source": [
        "X_sm.shape"
      ],
      "execution_count": 39,
      "outputs": [
        {
          "output_type": "execute_result",
          "data": {
            "text/plain": [
              "(514, 3)"
            ]
          },
          "metadata": {
            "tags": []
          },
          "execution_count": 39
        }
      ]
    },
    {
      "cell_type": "code",
      "metadata": {
        "colab": {
          "base_uri": "https://localhost:8080/"
        },
        "id": "eOLhSqToiWzK",
        "outputId": "d7210b6b-9f14-43ed-93c7-e33e4cd57e96"
      },
      "source": [
        "counter = Counter(y_sm)\r\n",
        "counter"
      ],
      "execution_count": 43,
      "outputs": [
        {
          "output_type": "execute_result",
          "data": {
            "text/plain": [
              "Counter({0: 257, 1: 257})"
            ]
          },
          "metadata": {
            "tags": []
          },
          "execution_count": 43
        }
      ]
    },
    {
      "cell_type": "markdown",
      "metadata": {
        "id": "TjCvDc8vJSUP"
      },
      "source": [
        "## Resources:\r\n",
        "\r\n",
        "article : https://www.analyticsvidhya.com/blog/2019/09/data-scientists-guide-8-types-of-sampling-techniques/\r\n",
        "\r\n",
        "article : https://www.scribbr.com/methodology/sampling-methods/"
      ]
    }
  ]
}