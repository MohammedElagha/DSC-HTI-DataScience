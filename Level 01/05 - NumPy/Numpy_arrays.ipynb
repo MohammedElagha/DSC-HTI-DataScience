{
  "nbformat": 4,
  "nbformat_minor": 0,
  "metadata": {
    "colab": {
      "name": "Numpy-arrays.ipynb",
      "provenance": [],
      "collapsed_sections": [
        "VuzIPUAv3eHK"
      ]
    },
    "kernelspec": {
      "name": "python3",
      "display_name": "Python 3"
    }
  },
  "cells": [
    {
      "cell_type": "markdown",
      "metadata": {
        "id": "0EJs-99LXGaR"
      },
      "source": [
        "# Overview\n",
        "## Arrays - Slicing and indexing"
      ]
    },
    {
      "cell_type": "markdown",
      "metadata": {
        "id": "UsII6Wr4ZB-F"
      },
      "source": [
        "## Numpy \n",
        "\n",
        "Numpy is a general-purpose array-processing package. It provides tools for working with these arrays. It is considered one of the fundamental packages for scientific computing with Python. Besides, Numpy can also be used as an efficient multi-dimensional container of generic data\n",
        "\n",
        "- Arrays\n",
        "\n",
        "Array in Numpy is a table of elements (usually numbers), all of the same type, indexed by a tuple of positive integers. In Numpy, number of dimensions of the array is called rank of the array.A tuple of integers giving the size of the array along each dimension is known as shape of the array. An array class in Numpy is called as ndarray. Elements in Numpy arrays are accessed by using square brackets.\n"
      ]
    },
    {
      "cell_type": "code",
      "metadata": {
        "colab": {
          "base_uri": "https://localhost:8080/"
        },
        "id": "nj2S7kGZZ6NO",
        "outputId": "4d8cae7e-ce74-4508-e8b2-6338811b6802"
      },
      "source": [
        "import numpy as np\n",
        "\n",
        "# 1D-array\n",
        "arr = np.array(  [1,2,23,5,2,3]  )\n",
        "print(arr)  "
      ],
      "execution_count": null,
      "outputs": [
        {
          "output_type": "stream",
          "text": [
            "[ 1  2 23  5  2  3]\n"
          ],
          "name": "stdout"
        }
      ]
    },
    {
      "cell_type": "code",
      "metadata": {
        "colab": {
          "base_uri": "https://localhost:8080/"
        },
        "id": "iUGIFiP-ai-Y",
        "outputId": "52bfbaaa-1655-4252-c0bf-c434fe3b3cb6"
      },
      "source": [
        "arr[-1]"
      ],
      "execution_count": null,
      "outputs": [
        {
          "output_type": "execute_result",
          "data": {
            "text/plain": [
              "3"
            ]
          },
          "metadata": {
            "tags": []
          },
          "execution_count": 4
        }
      ]
    },
    {
      "cell_type": "code",
      "metadata": {
        "colab": {
          "base_uri": "https://localhost:8080/"
        },
        "id": "cN-XKToHajBC",
        "outputId": "8a53ebbb-fbf1-4fa8-ced9-c99175ca3027"
      },
      "source": [
        "# 2D-array\n",
        "arr = np.array( [ [-1, 2, 0, 4],\n",
        "                 [4, -0.5, 6, 0],\n",
        "                 [2.6, 0, 7, 8],\n",
        "                 [3, -7, 4, 2.0] ] )\n",
        "print(arr)"
      ],
      "execution_count": null,
      "outputs": [
        {
          "output_type": "stream",
          "text": [
            "[[-1.   2.   0.   4. ]\n",
            " [ 4.  -0.5  6.   0. ]\n",
            " [ 2.6  0.   7.   8. ]\n",
            " [ 3.  -7.   4.   2. ]]\n"
          ],
          "name": "stdout"
        }
      ]
    },
    {
      "cell_type": "code",
      "metadata": {
        "colab": {
          "base_uri": "https://localhost:8080/"
        },
        "id": "Y7F22H9lajD2",
        "outputId": "97a45601-c9b6-45a2-af3b-cb88693bf106"
      },
      "source": [
        "arr[1,1]"
      ],
      "execution_count": null,
      "outputs": [
        {
          "output_type": "execute_result",
          "data": {
            "text/plain": [
              "-0.5"
            ]
          },
          "metadata": {
            "tags": []
          },
          "execution_count": 12
        }
      ]
    },
    {
      "cell_type": "code",
      "metadata": {
        "colab": {
          "base_uri": "https://localhost:8080/"
        },
        "id": "ilQue97SajG_",
        "outputId": "d8262e96-f311-47a9-f817-cafc467cb80c"
      },
      "source": [
        "arr[2,2]"
      ],
      "execution_count": null,
      "outputs": [
        {
          "output_type": "execute_result",
          "data": {
            "text/plain": [
              "7.0"
            ]
          },
          "metadata": {
            "tags": []
          },
          "execution_count": 14
        }
      ]
    },
    {
      "cell_type": "code",
      "metadata": {
        "colab": {
          "base_uri": "https://localhost:8080/"
        },
        "id": "Jj913zPqdO7h",
        "outputId": "9c9aa904-f6bc-42cf-8432-4d190df6ebc1"
      },
      "source": [
        "arr"
      ],
      "execution_count": null,
      "outputs": [
        {
          "output_type": "execute_result",
          "data": {
            "text/plain": [
              "array([[-1. ,  2. ,  0. ,  4. ],\n",
              "       [ 4. , -0.5,  6. ,  0. ],\n",
              "       [ 2.6,  0. ,  7. ,  8. ],\n",
              "       [ 3. , -7. ,  4. ,  2. ]])"
            ]
          },
          "metadata": {
            "tags": []
          },
          "execution_count": 16
        }
      ]
    },
    {
      "cell_type": "code",
      "metadata": {
        "colab": {
          "base_uri": "https://localhost:8080/"
        },
        "id": "HkfE0qHKbKlT",
        "outputId": "5cf0312d-3c69-48c0-f953-7839834ff2a8"
      },
      "source": [
        "T_arr = arr.T\n",
        "T_arr"
      ],
      "execution_count": null,
      "outputs": [
        {
          "output_type": "execute_result",
          "data": {
            "text/plain": [
              "array([[-1. ,  4. ,  2.6,  3. ],\n",
              "       [ 2. , -0.5,  0. , -7. ],\n",
              "       [ 0. ,  6. ,  7. ,  4. ],\n",
              "       [ 4. ,  0. ,  8. ,  2. ]])"
            ]
          },
          "metadata": {
            "tags": []
          },
          "execution_count": 7
        }
      ]
    },
    {
      "cell_type": "code",
      "metadata": {
        "id": "mkEO_DFhbNgG"
      },
      "source": [
        "## arr1:(1*4) ,  arr2:(4*1)\n",
        "arr1 = np.array([1,2,23,2])\n",
        "arr2 = np.array([[1],\n",
        "                [2],\n",
        "                [3],\n",
        "                [4]])\n",
        "X = np.matmul(arr1,arr2)"
      ],
      "execution_count": null,
      "outputs": []
    },
    {
      "cell_type": "code",
      "metadata": {
        "colab": {
          "base_uri": "https://localhost:8080/"
        },
        "id": "BWdhOtpIbOlL",
        "outputId": "871aec78-4eea-4efa-91dd-64f6a721d40d"
      },
      "source": [
        "X"
      ],
      "execution_count": null,
      "outputs": [
        {
          "output_type": "execute_result",
          "data": {
            "text/plain": [
              "array([82])"
            ]
          },
          "metadata": {
            "tags": []
          },
          "execution_count": 20
        }
      ]
    },
    {
      "cell_type": "code",
      "metadata": {
        "colab": {
          "base_uri": "https://localhost:8080/"
        },
        "id": "Hf9hmkLaoXaA",
        "outputId": "5c9d8cb9-2834-48e2-8279-3583c82e7e44"
      },
      "source": [
        "a = np.array([[[[1,2,3],[4,5,6]],[[7,8,9],[10,11,12]],[[13,14,15],[16,17,18]]],[[[1,2,3],[4,5,6]],[[7,8,9],[10,11,12]],[[13,14,15],[16,17,18]]]])\n",
        "a"
      ],
      "execution_count": null,
      "outputs": [
        {
          "output_type": "execute_result",
          "data": {
            "text/plain": [
              "array([[[[ 1,  2,  3],\n",
              "         [ 4,  5,  6]],\n",
              "\n",
              "        [[ 7,  8,  9],\n",
              "         [10, 11, 12]],\n",
              "\n",
              "        [[13, 14, 15],\n",
              "         [16, 17, 18]]],\n",
              "\n",
              "\n",
              "       [[[ 1,  2,  3],\n",
              "         [ 4,  5,  6]],\n",
              "\n",
              "        [[ 7,  8,  9],\n",
              "         [10, 11, 12]],\n",
              "\n",
              "        [[13, 14, 15],\n",
              "         [16, 17, 18]]]])"
            ]
          },
          "metadata": {
            "tags": []
          },
          "execution_count": 28
        }
      ]
    },
    {
      "cell_type": "markdown",
      "metadata": {
        "id": "ZTE3cGDHbTZ3"
      },
      "source": [
        "- Iteration and slicing"
      ]
    },
    {
      "cell_type": "code",
      "metadata": {
        "colab": {
          "base_uri": "https://localhost:8080/"
        },
        "id": "2--PYuiRf5Ww",
        "outputId": "c543532b-2482-4e7f-89b5-a0b47a0fe535"
      },
      "source": [
        "ListA = [ 1,'a','Data scientist',2.3,1]\n",
        "ListA"
      ],
      "execution_count": null,
      "outputs": [
        {
          "output_type": "execute_result",
          "data": {
            "text/plain": [
              "[1, 'a', 'Data scientist', 2.3, 1]"
            ]
          },
          "metadata": {
            "tags": []
          },
          "execution_count": 24
        }
      ]
    },
    {
      "cell_type": "code",
      "metadata": {
        "colab": {
          "base_uri": "https://localhost:8080/"
        },
        "id": "jpkqIXrObQM5",
        "outputId": "177e6b51-8a7b-4b65-e661-06cc17d7c9bc"
      },
      "source": [
        "LIST = [1,2,3,'Saturday',5,6,8]\n",
        "for z in LIST:\n",
        "  print(z)"
      ],
      "execution_count": null,
      "outputs": [
        {
          "output_type": "stream",
          "text": [
            "1\n",
            "2\n",
            "3\n",
            "Saturday\n",
            "5\n",
            "6\n",
            "8\n"
          ],
          "name": "stdout"
        }
      ]
    },
    {
      "cell_type": "code",
      "metadata": {
        "colab": {
          "base_uri": "https://localhost:8080/"
        },
        "id": "yx_I0yFvbQSw",
        "outputId": "138d44a1-7054-4f07-83f5-22572f1d96eb"
      },
      "source": [
        "arr1 = np.array([1,2,6])\n",
        "for i in arr1:\n",
        "  print(i)"
      ],
      "execution_count": null,
      "outputs": [
        {
          "output_type": "stream",
          "text": [
            "1\n",
            "2\n",
            "6\n"
          ],
          "name": "stdout"
        }
      ]
    },
    {
      "cell_type": "code",
      "metadata": {
        "id": "W8pQ5k7scV9t"
      },
      "source": [
        "set2 = {1,2,3,'a',2,'a' }"
      ],
      "execution_count": null,
      "outputs": []
    },
    {
      "cell_type": "code",
      "metadata": {
        "colab": {
          "base_uri": "https://localhost:8080/"
        },
        "id": "1pZX9EMJcZtA",
        "outputId": "5769e27d-c12e-4d65-a4ec-4590bcb706e2"
      },
      "source": [
        "set2"
      ],
      "execution_count": null,
      "outputs": [
        {
          "output_type": "execute_result",
          "data": {
            "text/plain": [
              "{1, 2, 3, 'a'}"
            ]
          },
          "metadata": {
            "tags": []
          },
          "execution_count": 9
        }
      ]
    },
    {
      "cell_type": "code",
      "metadata": {
        "colab": {
          "base_uri": "https://localhost:8080/",
          "height": 161
        },
        "id": "gpc_uz8kcbiu",
        "outputId": "c83cac0e-a71e-4ec1-92c9-036af9d9711e"
      },
      "source": [
        "set2[0]"
      ],
      "execution_count": null,
      "outputs": [
        {
          "output_type": "error",
          "ename": "TypeError",
          "evalue": "ignored",
          "traceback": [
            "\u001b[0;31m---------------------------------------------------------------------------\u001b[0m",
            "\u001b[0;31mTypeError\u001b[0m                                 Traceback (most recent call last)",
            "\u001b[0;32m<ipython-input-10-386ffbc759d6>\u001b[0m in \u001b[0;36m<module>\u001b[0;34m()\u001b[0m\n\u001b[0;32m----> 1\u001b[0;31m \u001b[0mset2\u001b[0m\u001b[0;34m[\u001b[0m\u001b[0;36m0\u001b[0m\u001b[0;34m]\u001b[0m\u001b[0;34m\u001b[0m\u001b[0;34m\u001b[0m\u001b[0m\n\u001b[0m",
            "\u001b[0;31mTypeError\u001b[0m: 'set' object does not support indexing"
          ]
        }
      ]
    },
    {
      "cell_type": "code",
      "metadata": {
        "colab": {
          "base_uri": "https://localhost:8080/"
        },
        "id": "-MFNk8I1bXK0",
        "outputId": "4743e695-0a6c-421e-d87e-c87a5ce37de8"
      },
      "source": [
        "for elem in set2:\n",
        "  print(elem,'a')"
      ],
      "execution_count": null,
      "outputs": [
        {
          "output_type": "stream",
          "text": [
            "1 a\n",
            "2 a\n",
            "3 a\n",
            "a a\n"
          ],
          "name": "stdout"
        }
      ]
    },
    {
      "cell_type": "code",
      "metadata": {
        "colab": {
          "base_uri": "https://localhost:8080/"
        },
        "id": "_EJcwSjlbXNh",
        "outputId": "647d991b-8110-4d0e-e7a7-2ed7ca72b339"
      },
      "source": [
        "LIST = [1,2,3,'Saturday',5,6,8]\n",
        "\n",
        "ListA = LIST[1:]\n",
        "ListA"
      ],
      "execution_count": null,
      "outputs": [
        {
          "output_type": "execute_result",
          "data": {
            "text/plain": [
              "[2, 3, 'Saturday', 5, 6, 8]"
            ]
          },
          "metadata": {
            "tags": []
          },
          "execution_count": 19
        }
      ]
    },
    {
      "cell_type": "code",
      "metadata": {
        "colab": {
          "base_uri": "https://localhost:8080/"
        },
        "id": "dovzzCU0bXR7",
        "outputId": "02077b7a-0836-4cae-80c6-acb0c0c8fe26"
      },
      "source": [
        "arr = np.array([[-1, 2, 0, 4],\n",
        "                [4, -0.5, 6, 0],\n",
        "                [2.6, 0, 7, 8],\n",
        "                [3, -7, 4, 2.0]])\n",
        "arr[1:3,1:3]"
      ],
      "execution_count": null,
      "outputs": [
        {
          "output_type": "execute_result",
          "data": {
            "text/plain": [
              "array([[-0.5,  6. ],\n",
              "       [ 0. ,  7. ]])"
            ]
          },
          "metadata": {
            "tags": []
          },
          "execution_count": 23
        }
      ]
    },
    {
      "cell_type": "markdown",
      "metadata": {
        "id": "vp_fAJZb-9dp"
      },
      "source": [
        "Reference: \n",
        "\n",
        "> Book : Data science from scratch O'Reilly written by: Joel Grus - Page : 71\n",
        "  \n",
        "> Website : GeekforGeeks.com \n"
      ]
    }
  ]
}