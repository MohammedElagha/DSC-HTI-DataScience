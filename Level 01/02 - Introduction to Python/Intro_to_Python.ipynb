{
  "nbformat": 4,
  "nbformat_minor": 0,
  "metadata": {
    "colab": {
      "name": "DSC-D.S_Session1.ipynb",
      "provenance": [],
      "collapsed_sections": [
        "My6pGLsrY4G4",
        "iHuU6iG_Zljg",
        "BxX_A13dczTj",
        "Ko2WczX4ek5z"
      ]
    },
    "kernelspec": {
      "name": "python3",
      "display_name": "Python 3"
    }
  },
  "cells": [
    {
      "cell_type": "markdown",
      "metadata": {
        "id": "ec9rjIhmRp8F"
      },
      "source": [
        "  # Overview :\n",
        "  ## 1. Intro to the course\n",
        "  - Data Science course - General \n",
        "  - Python for Data Science\n",
        "## 2. Why to use a notebook\n",
        "- Easy to use\n",
        "  ## 3. How to use a notebook\n",
        "- Create one\n",
        "- Set name \n",
        "- Create a cell - Text / Code\n",
        "- Run - A cell / All cells\n",
        "- Move -Up_down / Delete\n",
        "- Save / Download\n"
      ]
    },
    {
      "cell_type": "markdown",
      "metadata": {
        "id": "ou4UPIuHG8sR"
      },
      "source": [
        "Prohobited python variable names"
      ]
    },
    {
      "cell_type": "code",
      "metadata": {
        "id": "S1aLz0Z4Eyxg",
        "outputId": "51fa935e-c965-418e-aeb6-b0140872084e",
        "colab": {
          "base_uri": "https://localhost:8080/",
          "height": 35
        }
      },
      "source": [
        "a = 2 \n",
        "b = 3 \n",
        "a/b"
      ],
      "execution_count": 1,
      "outputs": [
        {
          "output_type": "execute_result",
          "data": {
            "text/plain": [
              "0.6666666666666666"
            ]
          },
          "metadata": {
            "tags": []
          },
          "execution_count": 1
        }
      ]
    },
    {
      "cell_type": "code",
      "metadata": {
        "id": "FEBi0W65Ey_9"
      },
      "source": [
        "a = 4"
      ],
      "execution_count": 2,
      "outputs": []
    },
    {
      "cell_type": "code",
      "metadata": {
        "id": "rU8cqaP-EzDw"
      },
      "source": [
        "b = 3 "
      ],
      "execution_count": 3,
      "outputs": []
    },
    {
      "cell_type": "code",
      "metadata": {
        "id": "SqB2YZ3-Ey9c"
      },
      "source": [
        ""
      ],
      "execution_count": null,
      "outputs": []
    },
    {
      "cell_type": "markdown",
      "metadata": {
        "id": "08GX9WulV8S9"
      },
      "source": [
        "# Session 1 :Python for Data Science\n",
        "Let's get started \n",
        "\n",
        "- Data types / Assign a value"
      ]
    },
    {
      "cell_type": "markdown",
      "metadata": {
        "id": "My6pGLsrY4G4"
      },
      "source": [
        "# Simple Data types in Python\n",
        "- int\n",
        "- float\n",
        "- String"
      ]
    },
    {
      "cell_type": "code",
      "metadata": {
        "id": "Gjtk6YURRo-i",
        "outputId": "ea2475f2-0658-4578-9283-3ba1ee96c391",
        "colab": {
          "base_uri": "https://localhost:8080/",
          "height": 0
        }
      },
      "source": [
        "## Assign a value\n",
        "a = 3 ## integer\n",
        "b = 3.3 ## float\n",
        "a"
      ],
      "execution_count": 4,
      "outputs": [
        {
          "output_type": "execute_result",
          "data": {
            "text/plain": [
              "3"
            ]
          },
          "metadata": {
            "tags": []
          },
          "execution_count": 4
        }
      ]
    },
    {
      "cell_type": "code",
      "metadata": {
        "id": "aLD_lEU05_SL",
        "outputId": "0bc78310-4e9c-43d1-e0f6-686b809bde3d",
        "colab": {
          "base_uri": "https://localhost:8080/",
          "height": 0
        }
      },
      "source": [
        "a"
      ],
      "execution_count": 6,
      "outputs": [
        {
          "output_type": "execute_result",
          "data": {
            "text/plain": [
              "3"
            ]
          },
          "metadata": {
            "tags": []
          },
          "execution_count": 6
        }
      ]
    },
    {
      "cell_type": "code",
      "metadata": {
        "id": "SjiD3icK58F7",
        "outputId": "ad9b9bcc-67cb-4fa9-8ae8-59779610e65c",
        "colab": {
          "base_uri": "https://localhost:8080/",
          "height": 0
        }
      },
      "source": [
        "a = 20\n",
        "a"
      ],
      "execution_count": 7,
      "outputs": [
        {
          "output_type": "execute_result",
          "data": {
            "text/plain": [
              "20"
            ]
          },
          "metadata": {
            "tags": []
          },
          "execution_count": 7
        }
      ]
    },
    {
      "cell_type": "code",
      "metadata": {
        "id": "v8WLEdB6VSk1",
        "outputId": "25177f70-3f4a-4e58-e41e-bfe034a794a8",
        "colab": {
          "base_uri": "https://localhost:8080/",
          "height": 0
        }
      },
      "source": [
        "a = 3.7\n",
        "a"
      ],
      "execution_count": 8,
      "outputs": [
        {
          "output_type": "execute_result",
          "data": {
            "text/plain": [
              "3.7"
            ]
          },
          "metadata": {
            "tags": []
          },
          "execution_count": 8
        }
      ]
    },
    {
      "cell_type": "code",
      "metadata": {
        "id": "xKaOH5rnZFhO"
      },
      "source": [
        "a = 'a'\n",
        "b = 'I am a Pythoneer'\n",
        "c = 'Python' ## String"
      ],
      "execution_count": 9,
      "outputs": []
    },
    {
      "cell_type": "code",
      "metadata": {
        "id": "dhIKe00dH1lC",
        "outputId": "cd0f2ab4-ec79-46da-94ba-acc1da144f1f",
        "colab": {
          "base_uri": "https://localhost:8080/",
          "height": 0
        }
      },
      "source": [
        "b"
      ],
      "execution_count": 10,
      "outputs": [
        {
          "output_type": "execute_result",
          "data": {
            "application/vnd.google.colaboratory.intrinsic+json": {
              "type": "string"
            },
            "text/plain": [
              "'I am a Pythoneer'"
            ]
          },
          "metadata": {
            "tags": []
          },
          "execution_count": 10
        }
      ]
    },
    {
      "cell_type": "code",
      "metadata": {
        "id": "3lzSc4RQICcZ",
        "outputId": "e47be1ab-055f-442b-b3af-1d0e446d9485",
        "colab": {
          "base_uri": "https://localhost:8080/",
          "height": 0
        }
      },
      "source": [
        "b[-1]"
      ],
      "execution_count": 16,
      "outputs": [
        {
          "output_type": "execute_result",
          "data": {
            "application/vnd.google.colaboratory.intrinsic+json": {
              "type": "string"
            },
            "text/plain": [
              "'r'"
            ]
          },
          "metadata": {
            "tags": []
          },
          "execution_count": 16
        }
      ]
    },
    {
      "cell_type": "code",
      "metadata": {
        "id": "beZ4dF425s9d",
        "outputId": "5de680b6-e5c0-4dd5-a142-daf406ff310f",
        "colab": {
          "base_uri": "https://localhost:8080/",
          "height": 0
        }
      },
      "source": [
        "c[0]='p'\n",
        "## String are immutable"
      ],
      "execution_count": 17,
      "outputs": [
        {
          "output_type": "error",
          "ename": "TypeError",
          "evalue": "ignored",
          "traceback": [
            "\u001b[0;31m---------------------------------------------------------------------------\u001b[0m",
            "\u001b[0;31mTypeError\u001b[0m                                 Traceback (most recent call last)",
            "\u001b[0;32m<ipython-input-17-16e0bb1884c4>\u001b[0m in \u001b[0;36m<module>\u001b[0;34m()\u001b[0m\n\u001b[0;32m----> 1\u001b[0;31m \u001b[0mc\u001b[0m\u001b[0;34m[\u001b[0m\u001b[0;36m0\u001b[0m\u001b[0;34m]\u001b[0m\u001b[0;34m=\u001b[0m\u001b[0;34m'p'\u001b[0m\u001b[0;34m\u001b[0m\u001b[0;34m\u001b[0m\u001b[0m\n\u001b[0m\u001b[1;32m      2\u001b[0m \u001b[0;31m## String are immutable\u001b[0m\u001b[0;34m\u001b[0m\u001b[0;34m\u001b[0m\u001b[0;34m\u001b[0m\u001b[0m\n",
            "\u001b[0;31mTypeError\u001b[0m: 'str' object does not support item assignment"
          ]
        }
      ]
    },
    {
      "cell_type": "code",
      "metadata": {
        "id": "QcSEX15VIoDo",
        "outputId": "e6ab655b-48f8-4fe5-b71c-146c1930d900",
        "colab": {
          "base_uri": "https://localhost:8080/",
          "height": 0
        }
      },
      "source": [
        "c = 'Java'\n",
        "c"
      ],
      "execution_count": 18,
      "outputs": [
        {
          "output_type": "execute_result",
          "data": {
            "application/vnd.google.colaboratory.intrinsic+json": {
              "type": "string"
            },
            "text/plain": [
              "'Java'"
            ]
          },
          "metadata": {
            "tags": []
          },
          "execution_count": 18
        }
      ]
    },
    {
      "cell_type": "code",
      "metadata": {
        "id": "sQJVlo9s5xhz",
        "outputId": "c18e1f16-2299-401f-d497-12b4080640ea",
        "colab": {
          "base_uri": "https://localhost:8080/",
          "height": 0
        }
      },
      "source": [
        "d = c*3 + b\n",
        "d"
      ],
      "execution_count": 20,
      "outputs": [
        {
          "output_type": "execute_result",
          "data": {
            "application/vnd.google.colaboratory.intrinsic+json": {
              "type": "string"
            },
            "text/plain": [
              "'JavaJavaJavaI am a Pythoneer'"
            ]
          },
          "metadata": {
            "tags": []
          },
          "execution_count": 20
        }
      ]
    },
    {
      "cell_type": "code",
      "metadata": {
        "id": "dQ37WRlWZXnM",
        "outputId": "3b80c162-5523-40a4-d7eb-7890ef419e21",
        "colab": {
          "base_uri": "https://localhost:8080/",
          "height": 34
        }
      },
      "source": [
        "b"
      ],
      "execution_count": null,
      "outputs": [
        {
          "output_type": "execute_result",
          "data": {
            "text/plain": [
              "22"
            ]
          },
          "metadata": {
            "tags": []
          },
          "execution_count": 9
        }
      ]
    },
    {
      "cell_type": "code",
      "metadata": {
        "id": "7Xu_gOzAZa9k"
      },
      "source": [
        "b = 'Data Science'"
      ],
      "execution_count": null,
      "outputs": []
    },
    {
      "cell_type": "markdown",
      "metadata": {
        "id": "iHuU6iG_Zljg"
      },
      "source": [
        "# Inputs / Outputs\n",
        "\n",
        "Inputs"
      ]
    },
    {
      "cell_type": "code",
      "metadata": {
        "id": "zHpsTXuZVUpO",
        "outputId": "848f2bf7-fefb-4f38-a969-22e0e25df222",
        "colab": {
          "base_uri": "https://localhost:8080/",
          "height": 0
        }
      },
      "source": [
        "num = input('Enter a number between 0 and 100 : ')"
      ],
      "execution_count": 21,
      "outputs": [
        {
          "output_type": "stream",
          "text": [
            "Enter a number between 0 and 100 : 93\n"
          ],
          "name": "stdout"
        }
      ]
    },
    {
      "cell_type": "code",
      "metadata": {
        "id": "t9Zyn7WkYDTA",
        "outputId": "6a48ff4b-1c7b-4c48-a1a2-0fd48c2dd8c8",
        "colab": {
          "base_uri": "https://localhost:8080/",
          "height": 0
        }
      },
      "source": [
        "num"
      ],
      "execution_count": 22,
      "outputs": [
        {
          "output_type": "execute_result",
          "data": {
            "application/vnd.google.colaboratory.intrinsic+json": {
              "type": "string"
            },
            "text/plain": [
              "'93'"
            ]
          },
          "metadata": {
            "tags": []
          },
          "execution_count": 22
        }
      ]
    },
    {
      "cell_type": "code",
      "metadata": {
        "id": "o8MsVrOGJoOR",
        "outputId": "a37c7c53-b4bd-4506-c938-1d522e853559",
        "colab": {
          "base_uri": "https://localhost:8080/",
          "height": 0
        }
      },
      "source": [
        "3"
      ],
      "execution_count": 23,
      "outputs": [
        {
          "output_type": "execute_result",
          "data": {
            "text/plain": [
              "3"
            ]
          },
          "metadata": {
            "tags": []
          },
          "execution_count": 23
        }
      ]
    },
    {
      "cell_type": "code",
      "metadata": {
        "id": "xfX2tLHRJq-2",
        "outputId": "27bea736-e20c-4a38-ce17-e6d51ac15de0",
        "colab": {
          "base_uri": "https://localhost:8080/",
          "height": 0
        }
      },
      "source": [
        "'I am a programmer'"
      ],
      "execution_count": 26,
      "outputs": [
        {
          "output_type": "execute_result",
          "data": {
            "application/vnd.google.colaboratory.intrinsic+json": {
              "type": "string"
            },
            "text/plain": [
              "'I am a programmer'"
            ]
          },
          "metadata": {
            "tags": []
          },
          "execution_count": 26
        }
      ]
    },
    {
      "cell_type": "code",
      "metadata": {
        "id": "rGuqd5rDYFra",
        "outputId": "d54531f1-526e-46bc-d8cd-a7789aaf37a1",
        "colab": {
          "base_uri": "https://localhost:8080/",
          "height": 0
        }
      },
      "source": [
        "num = int(input(\"Enter number :\"))"
      ],
      "execution_count": 27,
      "outputs": [
        {
          "output_type": "stream",
          "text": [
            "Enter number :60\n"
          ],
          "name": "stdout"
        }
      ]
    },
    {
      "cell_type": "code",
      "metadata": {
        "id": "NxdUfW69YntV",
        "outputId": "187dfa31-25a9-4c00-d3f1-10bb9e518abb",
        "colab": {
          "base_uri": "https://localhost:8080/",
          "height": 0
        }
      },
      "source": [
        "num"
      ],
      "execution_count": 28,
      "outputs": [
        {
          "output_type": "execute_result",
          "data": {
            "text/plain": [
              "60"
            ]
          },
          "metadata": {
            "tags": []
          },
          "execution_count": 28
        }
      ]
    },
    {
      "cell_type": "code",
      "metadata": {
        "id": "pRbUhE5vZ9JN",
        "outputId": "07860454-55ac-4f66-b38f-d3f593bbf6e4",
        "colab": {
          "base_uri": "https://localhost:8080/",
          "height": 34
        }
      },
      "source": [
        "num = float(input(\"Enter number :\"))"
      ],
      "execution_count": null,
      "outputs": [
        {
          "output_type": "stream",
          "text": [
            "Enter number :33\n"
          ],
          "name": "stdout"
        }
      ]
    },
    {
      "cell_type": "code",
      "metadata": {
        "id": "G5bOYOMvaXSa",
        "outputId": "c0ea2f40-d355-4591-bbe5-a98596c8cc49",
        "colab": {
          "base_uri": "https://localhost:8080/",
          "height": 34
        }
      },
      "source": [
        "num"
      ],
      "execution_count": null,
      "outputs": [
        {
          "output_type": "execute_result",
          "data": {
            "text/plain": [
              "33.0"
            ]
          },
          "metadata": {
            "tags": []
          },
          "execution_count": 17
        }
      ]
    },
    {
      "cell_type": "code",
      "metadata": {
        "id": "nf6yK7H9aaok",
        "outputId": "b8f38206-2bd4-4eaa-a6eb-f2276cfbf7ca",
        "colab": {
          "base_uri": "https://localhost:8080/",
          "height": 0
        }
      },
      "source": [
        "x, y = input(\"Enter two values: \").split()"
      ],
      "execution_count": 29,
      "outputs": [
        {
          "output_type": "stream",
          "text": [
            "Enter two values: 177 122\n"
          ],
          "name": "stdout"
        }
      ]
    },
    {
      "cell_type": "code",
      "metadata": {
        "id": "7EeKCFEkanNS",
        "outputId": "da55fa81-f0fa-4882-a41b-772e36f89c0f",
        "colab": {
          "base_uri": "https://localhost:8080/",
          "height": 0
        }
      },
      "source": [
        "x = int(x)\n",
        "x"
      ],
      "execution_count": 33,
      "outputs": [
        {
          "output_type": "execute_result",
          "data": {
            "text/plain": [
              "177"
            ]
          },
          "metadata": {
            "tags": []
          },
          "execution_count": 33
        }
      ]
    },
    {
      "cell_type": "code",
      "metadata": {
        "id": "e3AvY22rapEA",
        "outputId": "317f4086-b299-47a8-aecf-be414d55feae",
        "colab": {
          "base_uri": "https://localhost:8080/",
          "height": 0
        }
      },
      "source": [
        "y"
      ],
      "execution_count": 31,
      "outputs": [
        {
          "output_type": "execute_result",
          "data": {
            "application/vnd.google.colaboratory.intrinsic+json": {
              "type": "string"
            },
            "text/plain": [
              "'122'"
            ]
          },
          "metadata": {
            "tags": []
          },
          "execution_count": 31
        }
      ]
    },
    {
      "cell_type": "code",
      "metadata": {
        "id": "V9-KAUhLeMtZ",
        "outputId": "8fcd1720-cdd9-49be-c783-c6914395cd13",
        "colab": {
          "base_uri": "https://localhost:8080/",
          "height": 51
        }
      },
      "source": [
        "x = int(input(\"Enter a number :\"))\n",
        "y = int(input(\"Enter a number :\"))"
      ],
      "execution_count": null,
      "outputs": [
        {
          "output_type": "stream",
          "text": [
            "Enter number :3\n",
            "Enter number :4\n"
          ],
          "name": "stdout"
        }
      ]
    },
    {
      "cell_type": "code",
      "metadata": {
        "id": "TNZNYphUeYsh",
        "outputId": "5f79027f-d652-4ef6-bd18-b1c85aca1932",
        "colab": {
          "base_uri": "https://localhost:8080/",
          "height": 34
        }
      },
      "source": [
        "x"
      ],
      "execution_count": null,
      "outputs": [
        {
          "output_type": "execute_result",
          "data": {
            "text/plain": [
              "3"
            ]
          },
          "metadata": {
            "tags": []
          },
          "execution_count": 37
        }
      ]
    },
    {
      "cell_type": "markdown",
      "metadata": {
        "id": "0tkycHjIbBB0"
      },
      "source": [
        "- Output"
      ]
    },
    {
      "cell_type": "code",
      "metadata": {
        "id": "Pbs_MBQvappx",
        "outputId": "85d0fd18-6018-45aa-d553-4a65d0003a22",
        "colab": {
          "base_uri": "https://localhost:8080/",
          "height": 0
        }
      },
      "source": [
        "print('The course is helpful')"
      ],
      "execution_count": 34,
      "outputs": [
        {
          "output_type": "stream",
          "text": [
            "The course is helpful\n"
          ],
          "name": "stdout"
        }
      ]
    },
    {
      "cell_type": "code",
      "metadata": {
        "id": "_hX2maf9bIXL",
        "outputId": "10f0f585-4102-4dcd-df28-fa52b1591d41",
        "colab": {
          "base_uri": "https://localhost:8080/",
          "height": 0
        }
      },
      "source": [
        "print(x,'x',y,'Alexandria is beautiful')"
      ],
      "execution_count": 38,
      "outputs": [
        {
          "output_type": "stream",
          "text": [
            "177 x 122 Alexandria is beautiful\n"
          ],
          "name": "stdout"
        }
      ]
    },
    {
      "cell_type": "code",
      "metadata": {
        "id": "hrEH_6ClbP3D",
        "outputId": "d4370b1b-3ab1-4510-f887-f846d21f9357",
        "colab": {
          "base_uri": "https://localhost:8080/",
          "height": 0
        }
      },
      "source": [
        "print('Cairo is a beautiful City,','so is Alexandria','3','6',x)"
      ],
      "execution_count": 39,
      "outputs": [
        {
          "output_type": "stream",
          "text": [
            "Cairo is a beautiful City, so is Alexandria 3 6 177\n"
          ],
          "name": "stdout"
        }
      ]
    },
    {
      "cell_type": "markdown",
      "metadata": {
        "id": "BxX_A13dczTj"
      },
      "source": [
        "# Operators in Python"
      ]
    },
    {
      "cell_type": "markdown",
      "metadata": {
        "id": "rhEoyN89dDee"
      },
      "source": [
        "Operators : + - * / // ** %"
      ]
    },
    {
      "cell_type": "code",
      "metadata": {
        "id": "LLhiCWldLv8z",
        "outputId": "a0749712-e0ff-429b-f5a4-56d87ccd3511",
        "colab": {
          "base_uri": "https://localhost:8080/",
          "height": 0
        }
      },
      "source": [
        "11%8"
      ],
      "execution_count": 42,
      "outputs": [
        {
          "output_type": "execute_result",
          "data": {
            "text/plain": [
              "3"
            ]
          },
          "metadata": {
            "tags": []
          },
          "execution_count": 42
        }
      ]
    },
    {
      "cell_type": "code",
      "metadata": {
        "id": "BbEv0JG3bg_l"
      },
      "source": [
        "x,y,z,l,m = 3,2,3,5,1"
      ],
      "execution_count": 43,
      "outputs": []
    },
    {
      "cell_type": "code",
      "metadata": {
        "id": "SH1LqbjYMmB_",
        "outputId": "a4de46b0-dff7-41e4-d774-95b20b496dc0",
        "colab": {
          "base_uri": "https://localhost:8080/",
          "height": 0
        }
      },
      "source": [
        "l"
      ],
      "execution_count": 44,
      "outputs": [
        {
          "output_type": "execute_result",
          "data": {
            "text/plain": [
              "5"
            ]
          },
          "metadata": {
            "tags": []
          },
          "execution_count": 44
        }
      ]
    },
    {
      "cell_type": "code",
      "metadata": {
        "id": "XYuKroCgdPlv",
        "outputId": "116a3b6f-a0ee-41cf-8f73-a13d358a1111",
        "colab": {
          "base_uri": "https://localhost:8080/",
          "height": 0
        }
      },
      "source": [
        "x + y "
      ],
      "execution_count": 45,
      "outputs": [
        {
          "output_type": "execute_result",
          "data": {
            "text/plain": [
              "5"
            ]
          },
          "metadata": {
            "tags": []
          },
          "execution_count": 45
        }
      ]
    },
    {
      "cell_type": "code",
      "metadata": {
        "id": "SnQexR7RdPn2",
        "outputId": "88033b4e-1499-4295-cab0-1a8ba28c433e",
        "colab": {
          "base_uri": "https://localhost:8080/",
          "height": 0
        }
      },
      "source": [
        "x - y "
      ],
      "execution_count": 46,
      "outputs": [
        {
          "output_type": "execute_result",
          "data": {
            "text/plain": [
              "1"
            ]
          },
          "metadata": {
            "tags": []
          },
          "execution_count": 46
        }
      ]
    },
    {
      "cell_type": "code",
      "metadata": {
        "id": "S44RWBj2dPrr",
        "outputId": "01592080-2890-4264-95ad-1d3eef08ad16",
        "colab": {
          "base_uri": "https://localhost:8080/",
          "height": 0
        }
      },
      "source": [
        "x * y "
      ],
      "execution_count": 47,
      "outputs": [
        {
          "output_type": "execute_result",
          "data": {
            "text/plain": [
              "6"
            ]
          },
          "metadata": {
            "tags": []
          },
          "execution_count": 47
        }
      ]
    },
    {
      "cell_type": "code",
      "metadata": {
        "id": "OspfwFVuc_2H",
        "outputId": "9e88b0a2-b05f-47ee-ef26-f0179be14159",
        "colab": {
          "base_uri": "https://localhost:8080/",
          "height": 0
        }
      },
      "source": [
        "x / y "
      ],
      "execution_count": 48,
      "outputs": [
        {
          "output_type": "execute_result",
          "data": {
            "text/plain": [
              "1.5"
            ]
          },
          "metadata": {
            "tags": []
          },
          "execution_count": 48
        }
      ]
    },
    {
      "cell_type": "code",
      "metadata": {
        "id": "pU3KRydEdNVa",
        "outputId": "5d47c765-dace-44a2-f90a-1633fcb59e3c",
        "colab": {
          "base_uri": "https://localhost:8080/",
          "height": 0
        }
      },
      "source": [
        "x // y"
      ],
      "execution_count": 49,
      "outputs": [
        {
          "output_type": "execute_result",
          "data": {
            "text/plain": [
              "1"
            ]
          },
          "metadata": {
            "tags": []
          },
          "execution_count": 49
        }
      ]
    },
    {
      "cell_type": "code",
      "metadata": {
        "id": "D3Yyn_RNdOwS",
        "outputId": "cfd11104-bf27-405f-a827-e1e8cc144764",
        "colab": {
          "base_uri": "https://localhost:8080/",
          "height": 0
        }
      },
      "source": [
        "x ** y "
      ],
      "execution_count": 50,
      "outputs": [
        {
          "output_type": "execute_result",
          "data": {
            "text/plain": [
              "9"
            ]
          },
          "metadata": {
            "tags": []
          },
          "execution_count": 50
        }
      ]
    },
    {
      "cell_type": "code",
      "metadata": {
        "id": "t0ett4iadU5a",
        "outputId": "4ce9ff08-1540-4e65-b033-26aa52d0edff",
        "colab": {
          "base_uri": "https://localhost:8080/",
          "height": 0
        }
      },
      "source": [
        "x%y"
      ],
      "execution_count": 51,
      "outputs": [
        {
          "output_type": "execute_result",
          "data": {
            "text/plain": [
              "1"
            ]
          },
          "metadata": {
            "tags": []
          },
          "execution_count": 51
        }
      ]
    },
    {
      "cell_type": "markdown",
      "metadata": {
        "id": "Ko2WczX4ek5z"
      },
      "source": [
        "# Control Flow\n",
        " - Loops\n",
        " - For loops\n",
        "\n",
        " For loops, in general, are used for sequential traversal. It falls under the category of definite iteration. Definite iterations means the number of repetitions is specified explicitly in advance. \n",
        "Note: In python, for loops only implements the collection-based iteration."
      ]
    },
    {
      "cell_type": "code",
      "metadata": {
        "id": "GrJXVAkQfSVf",
        "outputId": "ae44fdcf-4237-4110-e770-99345dc6f836",
        "colab": {
          "base_uri": "https://localhost:8080/",
          "height": 35
        }
      },
      "source": [
        "print('1 2 3')"
      ],
      "execution_count": 60,
      "outputs": [
        {
          "output_type": "stream",
          "text": [
            "1 2 3\n"
          ],
          "name": "stdout"
        }
      ]
    },
    {
      "cell_type": "code",
      "metadata": {
        "id": "Ob3l0aHSdXzk",
        "outputId": "d0b4e74c-139a-4231-ab9e-395ec49b970e",
        "colab": {
          "base_uri": "https://localhost:8080/",
          "height": 35
        }
      },
      "source": [
        "print('1 2 3 4 5 6 7 8 9 10')"
      ],
      "execution_count": 61,
      "outputs": [
        {
          "output_type": "stream",
          "text": [
            "1 2 3 4 5 6 7 8 9 10\n"
          ],
          "name": "stdout"
        }
      ]
    },
    {
      "cell_type": "code",
      "metadata": {
        "id": "UIfwHpmufQz4",
        "outputId": "17f04ed9-8f9a-464c-ab1e-5f5b2db6955b",
        "colab": {
          "base_uri": "https://localhost:8080/",
          "height": 906
        }
      },
      "source": [
        "for counter in range(1,51):\n",
        "  print(counter)"
      ],
      "execution_count": 63,
      "outputs": [
        {
          "output_type": "stream",
          "text": [
            "1\n",
            "2\n",
            "3\n",
            "4\n",
            "5\n",
            "6\n",
            "7\n",
            "8\n",
            "9\n",
            "10\n",
            "11\n",
            "12\n",
            "13\n",
            "14\n",
            "15\n",
            "16\n",
            "17\n",
            "18\n",
            "19\n",
            "20\n",
            "21\n",
            "22\n",
            "23\n",
            "24\n",
            "25\n",
            "26\n",
            "27\n",
            "28\n",
            "29\n",
            "30\n",
            "31\n",
            "32\n",
            "33\n",
            "34\n",
            "35\n",
            "36\n",
            "37\n",
            "38\n",
            "39\n",
            "40\n",
            "41\n",
            "42\n",
            "43\n",
            "44\n",
            "45\n",
            "46\n",
            "47\n",
            "48\n",
            "49\n",
            "50\n"
          ],
          "name": "stdout"
        }
      ]
    },
    {
      "cell_type": "code",
      "metadata": {
        "id": "dhSEMD-FfcK6",
        "outputId": "2885954a-fad0-4098-eb0b-67ab0304b853",
        "colab": {
          "base_uri": "https://localhost:8080/",
          "height": 212
        }
      },
      "source": [
        "for i in 'Python code':\n",
        "  print(i)"
      ],
      "execution_count": 66,
      "outputs": [
        {
          "output_type": "stream",
          "text": [
            "P\n",
            "y\n",
            "t\n",
            "h\n",
            "o\n",
            "n\n",
            " \n",
            "c\n",
            "o\n",
            "d\n",
            "e\n"
          ],
          "name": "stdout"
        }
      ]
    },
    {
      "cell_type": "markdown",
      "metadata": {
        "id": "adyQXTdO_JSQ"
      },
      "source": [
        "- While loops\n",
        "In Python, While Loops is used to execute a block of statements repeatedly until a given condition is satisfied. And when the condition becomes false, the line immediately after the loop in the program is executed. While loop falls under the category of indefinite iteration. Indefinite iteration means that the number of times the loop is executed isn’t specified explicitly in advance.\n",
        "\n"
      ]
    },
    {
      "cell_type": "code",
      "metadata": {
        "id": "uhxFdmvef3Mo",
        "outputId": "dc9586cf-8cde-4d19-b2c8-f4ae126a613b",
        "colab": {
          "base_uri": "https://localhost:8080/",
          "height": 70
        }
      },
      "source": [
        "count = 0\n",
        "while (count < 3):      \n",
        "    count = count + 1\n",
        "    print(\"Hello Pythoneer/Pythonista\")"
      ],
      "execution_count": 67,
      "outputs": [
        {
          "output_type": "stream",
          "text": [
            "Hello Pythoneer/Pythonista\n",
            "Hello Pythoneer/Pythonista\n",
            "Hello Pythoneer/Pythonista\n"
          ],
          "name": "stdout"
        }
      ]
    },
    {
      "cell_type": "code",
      "metadata": {
        "id": "PCUzbPXaOqEo",
        "outputId": "451122da-73dd-4ae5-f70f-4dfae2cbc9d4",
        "colab": {
          "base_uri": "https://localhost:8080/",
          "height": 35
        }
      },
      "source": [
        "count = 2\n",
        "while (count < 3):\n",
        "  count = count + 1\n",
        "  print('Hello')"
      ],
      "execution_count": 73,
      "outputs": [
        {
          "output_type": "stream",
          "text": [
            "Hello\n"
          ],
          "name": "stdout"
        }
      ]
    },
    {
      "cell_type": "markdown",
      "metadata": {
        "id": "ucBWzmTUhirV"
      },
      "source": [
        "- Conditions"
      ]
    },
    {
      "cell_type": "code",
      "metadata": {
        "id": "4TmdOEREg2I5",
        "outputId": "973bdd8f-a977-4508-f009-3200b68d675f",
        "colab": {
          "base_uri": "https://localhost:8080/",
          "height": 70
        }
      },
      "source": [
        "i = 10\n",
        "if (i < 15): \n",
        "   print(i,\"is less than 15\")\n",
        "   print(\"1\")\n",
        "   print(\"Do not play\") "
      ],
      "execution_count": 75,
      "outputs": [
        {
          "output_type": "stream",
          "text": [
            "10 is less than 15\n",
            "1\n",
            "Do not play\n"
          ],
          "name": "stdout"
        }
      ]
    },
    {
      "cell_type": "code",
      "metadata": {
        "id": "AAaNti9ihkA1",
        "outputId": "e70df7fa-b179-470a-e6bb-4eaef69f7521",
        "colab": {
          "base_uri": "https://localhost:8080/",
          "height": 35
        }
      },
      "source": [
        "i = 15\n",
        "if (i < 15): \n",
        "  print(\"i is less than 15\")\n",
        "elif (i == 15):\n",
        "  print('i equals to 15')\n",
        "elif (i > 15):\n",
        "  print('i bigger than 15')"
      ],
      "execution_count": 80,
      "outputs": [
        {
          "output_type": "stream",
          "text": [
            "i equals to 15\n"
          ],
          "name": "stdout"
        }
      ]
    },
    {
      "cell_type": "code",
      "metadata": {
        "id": "ZxTX7DJdir-k",
        "outputId": "8778c323-3cc1-4853-cb08-dc4912d2d9ed",
        "colab": {
          "base_uri": "https://localhost:8080/",
          "height": 35
        }
      },
      "source": [
        "i = 100\n",
        "if (i == 15): \n",
        "  print(\"i is bigger than 15\")\n",
        "else:\n",
        "  print('i equals to 15')"
      ],
      "execution_count": 82,
      "outputs": [
        {
          "output_type": "stream",
          "text": [
            "i equals to 15\n"
          ],
          "name": "stdout"
        }
      ]
    },
    {
      "cell_type": "markdown",
      "metadata": {
        "id": "0BklM_WljgyP"
      },
      "source": [
        "# Data Structures\n",
        "- Lists\n",
        "\n",
        "List in Python are ordered and have a definite count. The elements in a list are indexed according to a definite sequence and the indexing of a list is done with 0 being the first index. Each element in the list has its definite place in the list, which allows duplicating of elements in the list, with each element having its own distinct place and credibility.\n",
        "\n"
      ]
    },
    {
      "cell_type": "code",
      "metadata": {
        "id": "7oL7gv3jjJfE",
        "outputId": "091c46e4-86bb-4431-9e96-7f412569b913",
        "colab": {
          "base_uri": "https://localhost:8080/",
          "height": 35
        }
      },
      "source": [
        "## Can contain numbers, characters or strings...\n",
        "## How to define it \n",
        "L = [1,2.2, \"a\" , \"string\" , 1+2,'I am a Python programmer',1,'a'] \n",
        "L"
      ],
      "execution_count": 84,
      "outputs": [
        {
          "output_type": "execute_result",
          "data": {
            "text/plain": [
              "[1, 2.2, 'a', 'string', 3, 'I am a Python programmer', 1, 'a']"
            ]
          },
          "metadata": {
            "tags": []
          },
          "execution_count": 84
        }
      ]
    },
    {
      "cell_type": "code",
      "metadata": {
        "id": "-0MDNyppwuw2",
        "outputId": "e3d7c628-3549-4794-9f3a-43ab8588ac6b",
        "colab": {
          "base_uri": "https://localhost:8080/",
          "height": 36
        }
      },
      "source": [
        "## Order of elements:\n",
        "L[-1]"
      ],
      "execution_count": 87,
      "outputs": [
        {
          "output_type": "execute_result",
          "data": {
            "application/vnd.google.colaboratory.intrinsic+json": {
              "type": "string"
            },
            "text/plain": [
              "'a'"
            ]
          },
          "metadata": {
            "tags": []
          },
          "execution_count": 87
        }
      ]
    },
    {
      "cell_type": "code",
      "metadata": {
        "id": "VmkqqwdOw7dT",
        "outputId": "96f68112-ea42-4244-ed7f-4cdac2d93226",
        "colab": {
          "base_uri": "https://localhost:8080/",
          "height": 34
        }
      },
      "source": [
        "L[-1]"
      ],
      "execution_count": null,
      "outputs": [
        {
          "output_type": "execute_result",
          "data": {
            "text/plain": [
              "3"
            ]
          },
          "metadata": {
            "tags": []
          },
          "execution_count": 70
        }
      ]
    },
    {
      "cell_type": "code",
      "metadata": {
        "id": "ynJPrFl1w9iQ",
        "outputId": "c7f60bf0-7563-46da-920a-90ce2e4b1cd8",
        "colab": {
          "base_uri": "https://localhost:8080/",
          "height": 35
        }
      },
      "source": [
        "L[1]"
      ],
      "execution_count": null,
      "outputs": [
        {
          "output_type": "execute_result",
          "data": {
            "application/vnd.google.colaboratory.intrinsic+json": {
              "type": "string"
            },
            "text/plain": [
              "'a'"
            ]
          },
          "metadata": {
            "tags": []
          },
          "execution_count": 71
        }
      ]
    },
    {
      "cell_type": "code",
      "metadata": {
        "id": "JjZJMsHqw-sL"
      },
      "source": [
        "L[1] = 2\n",
        "## Lists are immutable"
      ],
      "execution_count": 88,
      "outputs": []
    },
    {
      "cell_type": "code",
      "metadata": {
        "id": "gCrDexLjxCcd",
        "outputId": "0423bc97-a38a-491d-e333-fc39186f8702",
        "colab": {
          "base_uri": "https://localhost:8080/",
          "height": 35
        }
      },
      "source": [
        "L"
      ],
      "execution_count": 89,
      "outputs": [
        {
          "output_type": "execute_result",
          "data": {
            "text/plain": [
              "[1, 2, 'a', 'string', 3, 'I am a Python programmer', 1, 'a']"
            ]
          },
          "metadata": {
            "tags": []
          },
          "execution_count": 89
        }
      ]
    },
    {
      "cell_type": "code",
      "metadata": {
        "id": "w_E163PexOwU"
      },
      "source": [
        "L.append('Pythonista')"
      ],
      "execution_count": 91,
      "outputs": []
    },
    {
      "cell_type": "code",
      "metadata": {
        "id": "RoPP7I6UxSU9",
        "outputId": "e3a98c7b-e51f-4ac8-85ed-4ba8b05ba858",
        "colab": {
          "base_uri": "https://localhost:8080/",
          "height": 35
        }
      },
      "source": [
        "L"
      ],
      "execution_count": 92,
      "outputs": [
        {
          "output_type": "execute_result",
          "data": {
            "text/plain": [
              "[1, 2, 'a', 'string', 3, 'I am a Python programmer', 1, 'a', 'Pythonista']"
            ]
          },
          "metadata": {
            "tags": []
          },
          "execution_count": 92
        }
      ]
    },
    {
      "cell_type": "code",
      "metadata": {
        "id": "pijvHwqPxTQF"
      },
      "source": [
        "L.append(1)"
      ],
      "execution_count": 93,
      "outputs": []
    },
    {
      "cell_type": "code",
      "metadata": {
        "id": "K2XXUpmfxX-b",
        "outputId": "c48efe02-c203-4570-d014-b6ee75ca0dd9",
        "colab": {
          "base_uri": "https://localhost:8080/",
          "height": 35
        }
      },
      "source": [
        "L"
      ],
      "execution_count": 94,
      "outputs": [
        {
          "output_type": "execute_result",
          "data": {
            "text/plain": [
              "[1, 2, 'a', 'string', 3, 'I am a Python programmer', 1, 'a', 'Pythonista', 1]"
            ]
          },
          "metadata": {
            "tags": []
          },
          "execution_count": 94
        }
      ]
    },
    {
      "cell_type": "code",
      "metadata": {
        "id": "TUTfBkPP7y-l",
        "outputId": "989a3c03-cda7-40d0-bbb1-d4a1a2f8c483",
        "colab": {
          "base_uri": "https://localhost:8080/",
          "height": 35
        }
      },
      "source": [
        "L.remove(1)\n",
        "L"
      ],
      "execution_count": 96,
      "outputs": [
        {
          "output_type": "execute_result",
          "data": {
            "text/plain": [
              "['a', 'string', 3, 'I am a Python programmer', 1, 'a', 'Pythonista', 1]"
            ]
          },
          "metadata": {
            "tags": []
          },
          "execution_count": 96
        }
      ]
    },
    {
      "cell_type": "code",
      "metadata": {
        "id": "I4D9FcCk6mkx",
        "outputId": "149f01cc-0626-4fdf-ad06-ee15f060fd90",
        "colab": {
          "base_uri": "https://localhost:8080/",
          "height": 35
        }
      },
      "source": [
        "S = 'I am a future data scientist 55'\n",
        "L = S.split(' ')\n",
        "L"
      ],
      "execution_count": 98,
      "outputs": [
        {
          "output_type": "execute_result",
          "data": {
            "text/plain": [
              "['I', 'am', 'a', 'future', 'data', 'scientist', '55']"
            ]
          },
          "metadata": {
            "tags": []
          },
          "execution_count": 98
        }
      ]
    },
    {
      "cell_type": "markdown",
      "metadata": {
        "id": "fBrbBj27xax7"
      },
      "source": [
        "- Tuples\n",
        "\n",
        "Tuple is a collection of Python objects much like a list. The sequence of values stored in a tuple can be of any type, and they are indexed by integers.\n",
        "Values of a tuple are syntactically separated by ‘commas’. Although it is not necessary, it is more common to define a tuple by closing the sequence of values in parentheses. This helps in understanding the Python tuples more easily."
      ]
    },
    {
      "cell_type": "code",
      "metadata": {
        "id": "A0IwBmoTxY4a"
      },
      "source": [
        "## Can contain numbers, characters or strings...\n",
        "## How to define it \n",
        "tup = (1,2,3,'a','Programmer')"
      ],
      "execution_count": 100,
      "outputs": []
    },
    {
      "cell_type": "code",
      "metadata": {
        "id": "N1InuGaJx2sH",
        "outputId": "18010d8f-8e14-4bc9-9861-3a31ca35809c",
        "colab": {
          "base_uri": "https://localhost:8080/",
          "height": 36
        }
      },
      "source": [
        "tup[-1]\n",
        "## tuples are mutable"
      ],
      "execution_count": 105,
      "outputs": [
        {
          "output_type": "execute_result",
          "data": {
            "application/vnd.google.colaboratory.intrinsic+json": {
              "type": "string"
            },
            "text/plain": [
              "'Programmer'"
            ]
          },
          "metadata": {
            "tags": []
          },
          "execution_count": 105
        }
      ]
    },
    {
      "cell_type": "markdown",
      "metadata": {
        "id": "_nJqDRBD9pCc"
      },
      "source": [
        "- Sets\n",
        "\n",
        "In Python, Set is an unordered collection of data type that is iterable, mutable and has no duplicate elements. The order of elements in a set is undefined though it may consist of various elements.\n",
        "The major advantage of using a set, as opposed to a list, is that it has a highly optimized method for checking whether a specific element is contained in the set."
      ]
    },
    {
      "cell_type": "code",
      "metadata": {
        "id": "KQzm9N29y0S1",
        "outputId": "9bfb6986-67e1-45ac-be0a-d62c0cb9a9d8",
        "colab": {
          "base_uri": "https://localhost:8080/",
          "height": 35
        }
      },
      "source": [
        "set1 = set(\"Py3    Python\") \n",
        "set1"
      ],
      "execution_count": 108,
      "outputs": [
        {
          "output_type": "execute_result",
          "data": {
            "text/plain": [
              "{' ', '3', 'P', 'h', 'n', 'o', 't', 'y'}"
            ]
          },
          "metadata": {
            "tags": []
          },
          "execution_count": 108
        }
      ]
    },
    {
      "cell_type": "code",
      "metadata": {
        "id": "HRvYQiVC_qAO",
        "outputId": "640e3699-892c-41f3-fb81-fd10ecf0f39c",
        "colab": {
          "base_uri": "https://localhost:8080/",
          "height": 35
        }
      },
      "source": [
        "A = ('a','3','3','b')\n",
        "set2 = set(A)\n",
        "set2"
      ],
      "execution_count": 119,
      "outputs": [
        {
          "output_type": "execute_result",
          "data": {
            "text/plain": [
              "{'3', 'a', 'b'}"
            ]
          },
          "metadata": {
            "tags": []
          },
          "execution_count": 119
        }
      ]
    },
    {
      "cell_type": "code",
      "metadata": {
        "id": "AGXQ_65X_woA"
      },
      "source": [
        "set2.add('to be')"
      ],
      "execution_count": 120,
      "outputs": []
    },
    {
      "cell_type": "code",
      "metadata": {
        "id": "hT5DvMRLBKT0",
        "outputId": "79ecf7e6-db5c-457f-987c-88edc10c96e1",
        "colab": {
          "base_uri": "https://localhost:8080/",
          "height": 35
        }
      },
      "source": [
        "set2"
      ],
      "execution_count": 121,
      "outputs": [
        {
          "output_type": "execute_result",
          "data": {
            "text/plain": [
              "{'3', 'a', 'b', 'to be'}"
            ]
          },
          "metadata": {
            "tags": []
          },
          "execution_count": 121
        }
      ]
    },
    {
      "cell_type": "code",
      "metadata": {
        "id": "9fB6DbZBBLUl",
        "outputId": "00c00884-175a-4886-b707-98097a73aabd",
        "colab": {
          "base_uri": "https://localhost:8080/",
          "height": 35
        }
      },
      "source": [
        "set2.remove('3')\n",
        "set2"
      ],
      "execution_count": 122,
      "outputs": [
        {
          "output_type": "execute_result",
          "data": {
            "text/plain": [
              "{'a', 'b', 'to be'}"
            ]
          },
          "metadata": {
            "tags": []
          },
          "execution_count": 122
        }
      ]
    },
    {
      "cell_type": "markdown",
      "metadata": {
        "id": "vvITbUErBbMW"
      },
      "source": [
        "- Dictionary\n",
        "\n",
        "Dictionary in Python is an unordered collection of data values, used to store data values like a map, which unlike other Data Types that hold only single value as an element, Dictionary holds key:value pair. Key value is provided in the dictionary to make it more optimized."
      ]
    },
    {
      "cell_type": "code",
      "metadata": {
        "id": "Tzvj2zyyBYDu",
        "outputId": "3cf4e983-927c-4a07-8791-d1b12431e773",
        "colab": {
          "base_uri": "https://localhost:8080/",
          "height": 36
        }
      },
      "source": [
        "dict1 = {'Je':'I',\n",
        "         'Tu':'You',\n",
        "         'Il':'He'}\n",
        "dict1['Je']"
      ],
      "execution_count": 123,
      "outputs": [
        {
          "output_type": "execute_result",
          "data": {
            "application/vnd.google.colaboratory.intrinsic+json": {
              "type": "string"
            },
            "text/plain": [
              "'I'"
            ]
          },
          "metadata": {
            "tags": []
          },
          "execution_count": 123
        }
      ]
    },
    {
      "cell_type": "code",
      "metadata": {
        "id": "_bG61j8zCRdX",
        "outputId": "6a01699c-3c78-42f0-cb35-8b759a7aadf5",
        "colab": {
          "base_uri": "https://localhost:8080/",
          "height": 36
        }
      },
      "source": [
        "dict1['Avoir'] = 'To have'\n",
        "dict1['Avoir']"
      ],
      "execution_count": 126,
      "outputs": [
        {
          "output_type": "execute_result",
          "data": {
            "application/vnd.google.colaboratory.intrinsic+json": {
              "type": "string"
            },
            "text/plain": [
              "'To have'"
            ]
          },
          "metadata": {
            "tags": []
          },
          "execution_count": 126
        }
      ]
    },
    {
      "cell_type": "code",
      "metadata": {
        "id": "jeng-Z0aWP-I",
        "outputId": "3ff04f42-bbe7-4a19-9d70-c3081bff323a",
        "colab": {
          "base_uri": "https://localhost:8080/",
          "height": 35
        }
      },
      "source": [
        "dict1"
      ],
      "execution_count": 127,
      "outputs": [
        {
          "output_type": "execute_result",
          "data": {
            "text/plain": [
              "{'Avoir': 'To have', 'Il': 'He', 'Je': 'I', 'Tu': 'You'}"
            ]
          },
          "metadata": {
            "tags": []
          },
          "execution_count": 127
        }
      ]
    },
    {
      "cell_type": "code",
      "metadata": {
        "id": "ULt5H2tsCcOo"
      },
      "source": [
        "del dict1['Tu']\n",
        "dict1"
      ],
      "execution_count": null,
      "outputs": []
    },
    {
      "cell_type": "code",
      "metadata": {
        "id": "gYtHy4KxV8wh",
        "outputId": "d50bc963-0045-428b-f24b-bb90585ced6c",
        "colab": {
          "base_uri": "https://localhost:8080/",
          "height": 35
        }
      },
      "source": [
        "dict2['Ahmed']"
      ],
      "execution_count": 125,
      "outputs": [
        {
          "output_type": "execute_result",
          "data": {
            "text/plain": [
              "20"
            ]
          },
          "metadata": {
            "tags": []
          },
          "execution_count": 125
        }
      ]
    },
    {
      "cell_type": "code",
      "metadata": {
        "id": "-88JmB29V1nR"
      },
      "source": [
        "dict2 = {'Ahmed' : 20,\n",
        "         'Seham' : 50,  \n",
        "}"
      ],
      "execution_count": 124,
      "outputs": []
    },
    {
      "cell_type": "markdown",
      "metadata": {
        "id": "Gdlbhzs1DQ5u"
      },
      "source": [
        "- Numpy \n",
        "\n",
        "Numpy is a general-purpose array-processing package. It provides a high-performance multidimensional array object, and tools for working with these arrays. It is the fundamental package for scientific computing with Python.\n",
        "Besides its obvious scientific uses, Numpy can also be used as an efficient multi-dimensional container of generic data"
      ]
    },
    {
      "cell_type": "markdown",
      "metadata": {
        "id": "uzqGfbT9DYQu"
      },
      "source": [
        "- Arrays\n",
        "\n",
        "Array in Numpy is a table of elements (usually numbers), all of the same type, indexed by a tuple of positive integers. In Numpy, number of dimensions of the array is called rank of the array.A tuple of integers giving the size of the array along each dimension is known as shape of the array. An array class in Numpy is called as ndarray. Elements in Numpy arrays are accessed by using square brackets and can be initialized by using nested Python Lists.\n",
        "\n"
      ]
    },
    {
      "cell_type": "code",
      "metadata": {
        "id": "B3rkRdUbCpYp",
        "outputId": "ab2bdd38-f6b0-40b9-a05b-ed06c86374c6",
        "colab": {
          "base_uri": "https://localhost:8080/",
          "height": 35
        }
      },
      "source": [
        "import numpy as np\n",
        "# 1D-array\n",
        "arr = np.array(   [1,2,23,5,6,3]\n",
        "               )\n",
        "print(arr)"
      ],
      "execution_count": 129,
      "outputs": [
        {
          "output_type": "stream",
          "text": [
            "[ 1  2 23  5  6  3]\n"
          ],
          "name": "stdout"
        }
      ]
    },
    {
      "cell_type": "code",
      "metadata": {
        "id": "-ca0wMSCEf68",
        "outputId": "32cb304e-086d-4500-9dbc-d2359db21285",
        "colab": {
          "base_uri": "https://localhost:8080/",
          "height": 35
        }
      },
      "source": [
        "arr[4]"
      ],
      "execution_count": 131,
      "outputs": [
        {
          "output_type": "execute_result",
          "data": {
            "text/plain": [
              "6"
            ]
          },
          "metadata": {
            "tags": []
          },
          "execution_count": 131
        }
      ]
    },
    {
      "cell_type": "code",
      "metadata": {
        "id": "i9mM33K1Dw9p",
        "outputId": "d33833ae-b263-40a3-f414-c43db00e847d",
        "colab": {
          "base_uri": "https://localhost:8080/",
          "height": 88
        }
      },
      "source": [
        "# 2D-array\n",
        "arr = np.array( [[-1, 2, 0, 4],\n",
        "                 [4, -0.5, 6, 0],\n",
        "                 [2.6, 0, 7, 8],\n",
        "                 [3, -7, 4, 2.0]]\n",
        "               )\n",
        "print(arr)"
      ],
      "execution_count": 132,
      "outputs": [
        {
          "output_type": "stream",
          "text": [
            "[[-1.   2.   0.   4. ]\n",
            " [ 4.  -0.5  6.   0. ]\n",
            " [ 2.6  0.   7.   8. ]\n",
            " [ 3.  -7.   4.   2. ]]\n"
          ],
          "name": "stdout"
        }
      ]
    },
    {
      "cell_type": "code",
      "metadata": {
        "id": "dEhGOU10Dyy3",
        "outputId": "1f6c3863-d30e-4e60-a795-33740854716d",
        "colab": {
          "base_uri": "https://localhost:8080/",
          "height": 35
        }
      },
      "source": [
        "arr[3,2]"
      ],
      "execution_count": 134,
      "outputs": [
        {
          "output_type": "execute_result",
          "data": {
            "text/plain": [
              "4.0"
            ]
          },
          "metadata": {
            "tags": []
          },
          "execution_count": 134
        }
      ]
    },
    {
      "cell_type": "code",
      "metadata": {
        "id": "6swUocv6EK30",
        "outputId": "34b4676e-813e-4688-dd68-3b8d15f76a32",
        "colab": {
          "base_uri": "https://localhost:8080/",
          "height": 35
        }
      },
      "source": [
        "arr[1,0]"
      ],
      "execution_count": 135,
      "outputs": [
        {
          "output_type": "execute_result",
          "data": {
            "text/plain": [
              "4.0"
            ]
          },
          "metadata": {
            "tags": []
          },
          "execution_count": 135
        }
      ]
    },
    {
      "cell_type": "code",
      "metadata": {
        "id": "DbGqXzG_EQ0c",
        "outputId": "10b9366f-bdd9-4476-d1b0-3c2bc391fe2c",
        "colab": {
          "base_uri": "https://localhost:8080/",
          "height": 88
        }
      },
      "source": [
        "Trans_arr = arr.T\n",
        "Trans_arr"
      ],
      "execution_count": 136,
      "outputs": [
        {
          "output_type": "execute_result",
          "data": {
            "text/plain": [
              "array([[-1. ,  4. ,  2.6,  3. ],\n",
              "       [ 2. , -0.5,  0. , -7. ],\n",
              "       [ 0. ,  6. ,  7. ,  4. ],\n",
              "       [ 4. ,  0. ,  8. ,  2. ]])"
            ]
          },
          "metadata": {
            "tags": []
          },
          "execution_count": 136
        }
      ]
    },
    {
      "cell_type": "code",
      "metadata": {
        "id": "upYyP04yFCby"
      },
      "source": [
        "arr1= np.array([1,2,23])\n",
        "arr2= np.array([[1],\n",
        "                [2],\n",
        "                [3]])\n",
        "X = np.matmul(arr1,arr2)"
      ],
      "execution_count": 137,
      "outputs": []
    },
    {
      "cell_type": "code",
      "metadata": {
        "id": "O21THcTYFSjP",
        "outputId": "7ff2815c-bdbe-465b-f9e1-392fb89f5e9a",
        "colab": {
          "base_uri": "https://localhost:8080/",
          "height": 35
        }
      },
      "source": [
        "X"
      ],
      "execution_count": 138,
      "outputs": [
        {
          "output_type": "execute_result",
          "data": {
            "text/plain": [
              "array([74])"
            ]
          },
          "metadata": {
            "tags": []
          },
          "execution_count": 138
        }
      ]
    },
    {
      "cell_type": "markdown",
      "metadata": {
        "id": "bGQGRbluF5aN"
      },
      "source": [
        "- Iteration and slicing"
      ]
    },
    {
      "cell_type": "code",
      "metadata": {
        "id": "_5fwW5B5FadN",
        "outputId": "a17d480e-28c8-486a-c185-41d8ea7538e4",
        "colab": {
          "base_uri": "https://localhost:8080/",
          "height": 141
        }
      },
      "source": [
        "LIST = [1,2,3,'Saturday',5,6,8]\n",
        "for element in LIST:\n",
        "  print(element)"
      ],
      "execution_count": 140,
      "outputs": [
        {
          "output_type": "stream",
          "text": [
            "1\n",
            "2\n",
            "3\n",
            "Saturday\n",
            "5\n",
            "6\n",
            "8\n"
          ],
          "name": "stdout"
        }
      ]
    },
    {
      "cell_type": "code",
      "metadata": {
        "id": "fn6vsZuGGBRw",
        "outputId": "aa37cb31-cbab-4f94-f496-fb6a02de7371",
        "colab": {
          "base_uri": "https://localhost:8080/",
          "height": 70
        }
      },
      "source": [
        "arr1 = np.array([1,2,6])\n",
        "for i in arr1:\n",
        "  print(i)"
      ],
      "execution_count": 141,
      "outputs": [
        {
          "output_type": "stream",
          "text": [
            "1\n",
            "2\n",
            "6\n"
          ],
          "name": "stdout"
        }
      ]
    },
    {
      "cell_type": "code",
      "metadata": {
        "id": "d_LaAan3GdYp",
        "outputId": "c94b58d8-aff8-42d6-c9e0-40318a67c14c",
        "colab": {
          "base_uri": "https://localhost:8080/",
          "height": 70
        }
      },
      "source": [
        "for elem in set2:\n",
        "  print(elem)"
      ],
      "execution_count": 142,
      "outputs": [
        {
          "output_type": "stream",
          "text": [
            "a\n",
            "to be\n",
            "b\n"
          ],
          "name": "stdout"
        }
      ]
    },
    {
      "cell_type": "code",
      "metadata": {
        "id": "s8PTUQmVGpWg",
        "outputId": "df81bdfb-b0e9-4cd4-e471-03cb7202366e",
        "colab": {
          "base_uri": "https://localhost:8080/",
          "height": 35
        }
      },
      "source": [
        "LIST = [1,2,3,'Saturday',5,6,8]\n",
        "\n",
        "LIST[2:]"
      ],
      "execution_count": 149,
      "outputs": [
        {
          "output_type": "execute_result",
          "data": {
            "text/plain": [
              "[3, 'Saturday', 5, 6, 8]"
            ]
          },
          "metadata": {
            "tags": []
          },
          "execution_count": 149
        }
      ]
    },
    {
      "cell_type": "code",
      "metadata": {
        "id": "kqacjl2zHN5t",
        "outputId": "2b8363db-461e-452b-c22b-bba1f9aea0a4",
        "colab": {
          "base_uri": "https://localhost:8080/",
          "height": 52
        }
      },
      "source": [
        "arr = np.array([[-1, 2, 0, 4],\n",
        "                [4, -0.5, 6, 0],\n",
        "                [2.6, 0, 7, 8],\n",
        "                [3, -7, 4, 2.0]])\n",
        "arr[2:,:]"
      ],
      "execution_count": 151,
      "outputs": [
        {
          "output_type": "execute_result",
          "data": {
            "text/plain": [
              "array([[ 2.6,  0. ,  7. ,  8. ],\n",
              "       [ 3. , -7. ,  4. ,  2. ]])"
            ]
          },
          "metadata": {
            "tags": []
          },
          "execution_count": 151
        }
      ]
    },
    {
      "cell_type": "code",
      "metadata": {
        "id": "XJ3QgmLxaw_O"
      },
      "source": [
        ""
      ],
      "execution_count": null,
      "outputs": []
    }
  ]
}