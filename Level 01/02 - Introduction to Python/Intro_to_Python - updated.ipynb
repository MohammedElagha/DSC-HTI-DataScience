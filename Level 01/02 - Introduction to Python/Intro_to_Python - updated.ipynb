{
  "nbformat": 4,
  "nbformat_minor": 0,
  "metadata": {
    "colab": {
      "name": "DSC-D.S_Session1.ipynb",
      "provenance": [],
      "collapsed_sections": []
    },
    "kernelspec": {
      "name": "python3",
      "display_name": "Python 3"
    }
  },
  "cells": [
    {
      "cell_type": "markdown",
      "metadata": {
        "id": "ec9rjIhmRp8F"
      },
      "source": [
        "# Overview\n",
        " \n",
        "## 1. Why to use a notebook\n",
        "\n",
        "- Easy to use.\n",
        "- Web application that allows you to create and share documents that contain live code, equations, visualizations and explanatory text (with its output).\n",
        "- Interactive textbooks.\n",
        "\n",
        "## 2. How to use a notebook\n",
        "\n",
        "- Create one\n",
        "- Set name \n",
        "- Create a cell - Text / Code\n",
        "- Run - A cell / All cells\n",
        "- Move -Up_down / Delete\n",
        "- Save / Download\n"
      ]
    },
    {
      "cell_type": "markdown",
      "metadata": {
        "id": "ou4UPIuHG8sR"
      },
      "source": [
        "Prohobited python variable names"
      ]
    },
    {
      "cell_type": "code",
      "metadata": {
        "id": "S1aLz0Z4Eyxg",
        "colab": {
          "base_uri": "https://localhost:8080/"
        },
        "outputId": "f70d0258-ad48-449c-9eeb-b2c0295c5ef1"
      },
      "source": [
        "#print = 3\n",
        "a = 2 \n",
        "b = 3 \n",
        "a/b"
      ],
      "execution_count": null,
      "outputs": [
        {
          "output_type": "execute_result",
          "data": {
            "text/plain": [
              "0.6666666666666666"
            ]
          },
          "metadata": {
            "tags": []
          },
          "execution_count": 55
        }
      ]
    },
    {
      "cell_type": "code",
      "metadata": {
        "id": "rU8cqaP-EzDw",
        "colab": {
          "base_uri": "https://localhost:8080/"
        },
        "outputId": "2881812f-7f45-4042-bce9-55eef21e2a07"
      },
      "source": [
        "b = 3 \n",
        "b"
      ],
      "execution_count": null,
      "outputs": [
        {
          "output_type": "execute_result",
          "data": {
            "text/plain": [
              "3"
            ]
          },
          "metadata": {
            "tags": []
          },
          "execution_count": 57
        }
      ]
    },
    {
      "cell_type": "code",
      "metadata": {
        "id": "mlWVIKJJUnWz"
      },
      "source": [
        ""
      ],
      "execution_count": null,
      "outputs": []
    },
    {
      "cell_type": "markdown",
      "metadata": {
        "id": "08GX9WulV8S9"
      },
      "source": [
        "# Session 1 :Python for Data Science\n",
        "Let's get started \n",
        "\n",
        "- Data types / Assign a value"
      ]
    },
    {
      "cell_type": "markdown",
      "metadata": {
        "id": "My6pGLsrY4G4"
      },
      "source": [
        "# Simple Data types in Python\n",
        "- int\n",
        "- float\n",
        "- String"
      ]
    },
    {
      "cell_type": "code",
      "metadata": {
        "id": "Gjtk6YURRo-i",
        "colab": {
          "base_uri": "https://localhost:8080/"
        },
        "outputId": "630cd52a-e462-4028-86e6-1379996479e7"
      },
      "source": [
        "## Assign a value\n",
        "abe = 3 ## integer\n",
        "b = 3.3 ## float\n",
        "abe"
      ],
      "execution_count": null,
      "outputs": [
        {
          "output_type": "execute_result",
          "data": {
            "text/plain": [
              "3"
            ]
          },
          "metadata": {
            "tags": []
          },
          "execution_count": 84
        }
      ]
    },
    {
      "cell_type": "code",
      "metadata": {
        "id": "aLD_lEU05_SL",
        "colab": {
          "base_uri": "https://localhost:8080/"
        },
        "outputId": "58c28813-dfaf-4007-f493-7e2de2a41769"
      },
      "source": [
        "print(b)"
      ],
      "execution_count": null,
      "outputs": [
        {
          "output_type": "stream",
          "text": [
            "3.3\n"
          ],
          "name": "stdout"
        }
      ]
    },
    {
      "cell_type": "code",
      "metadata": {
        "id": "SjiD3icK58F7",
        "colab": {
          "base_uri": "https://localhost:8080/"
        },
        "outputId": "cc434226-5940-47ad-fea1-0bf6fee057d3"
      },
      "source": [
        "a = 20\n",
        "a"
      ],
      "execution_count": null,
      "outputs": [
        {
          "output_type": "execute_result",
          "data": {
            "text/plain": [
              "20"
            ]
          },
          "metadata": {
            "tags": []
          },
          "execution_count": 60
        }
      ]
    },
    {
      "cell_type": "code",
      "metadata": {
        "id": "v8WLEdB6VSk1",
        "colab": {
          "base_uri": "https://localhost:8080/"
        },
        "outputId": "fc7ffea0-00d9-4285-c993-f72756392d72"
      },
      "source": [
        "a = 30\n",
        "a"
      ],
      "execution_count": null,
      "outputs": [
        {
          "output_type": "execute_result",
          "data": {
            "text/plain": [
              "30"
            ]
          },
          "metadata": {
            "tags": []
          },
          "execution_count": 62
        }
      ]
    },
    {
      "cell_type": "code",
      "metadata": {
        "id": "xKaOH5rnZFhO"
      },
      "source": [
        "a = 'H'\n",
        "b = 'I am a Pythoneer'\n",
        "c = 'Python' ## String"
      ],
      "execution_count": null,
      "outputs": []
    },
    {
      "cell_type": "code",
      "metadata": {
        "id": "dhIKe00dH1lC",
        "colab": {
          "base_uri": "https://localhost:8080/",
          "height": 34
        },
        "outputId": "ef2efe5c-b000-474a-fa91-6c280190d7c0"
      },
      "source": [
        "c"
      ],
      "execution_count": null,
      "outputs": [
        {
          "output_type": "execute_result",
          "data": {
            "application/vnd.google.colaboratory.intrinsic+json": {
              "type": "string"
            },
            "text/plain": [
              "'Python'"
            ]
          },
          "metadata": {
            "tags": []
          },
          "execution_count": 69
        }
      ]
    },
    {
      "cell_type": "code",
      "metadata": {
        "id": "uCQS0WWM2-N0",
        "colab": {
          "base_uri": "https://localhost:8080/",
          "height": 34
        },
        "outputId": "33456b18-4d07-4653-c5e7-fdc395b5613d"
      },
      "source": [
        "c[3]"
      ],
      "execution_count": null,
      "outputs": [
        {
          "output_type": "execute_result",
          "data": {
            "application/vnd.google.colaboratory.intrinsic+json": {
              "type": "string"
            },
            "text/plain": [
              "'h'"
            ]
          },
          "metadata": {
            "tags": []
          },
          "execution_count": 70
        }
      ]
    },
    {
      "cell_type": "code",
      "metadata": {
        "id": "3lzSc4RQICcZ",
        "colab": {
          "base_uri": "https://localhost:8080/",
          "height": 34
        },
        "outputId": "e59f90e1-6260-4f6c-a935-17434e365fe9"
      },
      "source": [
        "c[-1]"
      ],
      "execution_count": null,
      "outputs": [
        {
          "output_type": "execute_result",
          "data": {
            "application/vnd.google.colaboratory.intrinsic+json": {
              "type": "string"
            },
            "text/plain": [
              "'n'"
            ]
          },
          "metadata": {
            "tags": []
          },
          "execution_count": 72
        }
      ]
    },
    {
      "cell_type": "code",
      "metadata": {
        "id": "beZ4dF425s9d",
        "colab": {
          "base_uri": "https://localhost:8080/",
          "height": 166
        },
        "outputId": "3ed1f656-c0c2-403d-eafd-317ed4b589f4"
      },
      "source": [
        "c[0]='p'"
      ],
      "execution_count": null,
      "outputs": [
        {
          "output_type": "error",
          "ename": "TypeError",
          "evalue": "ignored",
          "traceback": [
            "\u001b[0;31m---------------------------------------------------------------------------\u001b[0m",
            "\u001b[0;31mTypeError\u001b[0m                                 Traceback (most recent call last)",
            "\u001b[0;32m<ipython-input-73-64a75a67578b>\u001b[0m in \u001b[0;36m<module>\u001b[0;34m()\u001b[0m\n\u001b[0;32m----> 1\u001b[0;31m \u001b[0mc\u001b[0m\u001b[0;34m[\u001b[0m\u001b[0;36m0\u001b[0m\u001b[0;34m]\u001b[0m\u001b[0;34m=\u001b[0m\u001b[0;34m'p'\u001b[0m\u001b[0;34m\u001b[0m\u001b[0;34m\u001b[0m\u001b[0m\n\u001b[0m",
            "\u001b[0;31mTypeError\u001b[0m: 'str' object does not support item assignment"
          ]
        }
      ]
    },
    {
      "cell_type": "code",
      "metadata": {
        "id": "QcSEX15VIoDo",
        "colab": {
          "base_uri": "https://localhost:8080/",
          "height": 34
        },
        "outputId": "d036d15f-4b2a-45bb-f786-67eb1794c136"
      },
      "source": [
        "c = 'Java'\n",
        "c"
      ],
      "execution_count": null,
      "outputs": [
        {
          "output_type": "execute_result",
          "data": {
            "application/vnd.google.colaboratory.intrinsic+json": {
              "type": "string"
            },
            "text/plain": [
              "'Java'"
            ]
          },
          "metadata": {
            "tags": []
          },
          "execution_count": 77
        }
      ]
    },
    {
      "cell_type": "code",
      "metadata": {
        "colab": {
          "base_uri": "https://localhost:8080/",
          "height": 34
        },
        "id": "aY8iDhsUe1-b",
        "outputId": "e72d52d8-ea0e-498d-a053-5279ea74a2f1"
      },
      "source": [
        "c = 3 \n",
        "c"
      ],
      "execution_count": null,
      "outputs": [
        {
          "output_type": "execute_result",
          "data": {
            "application/vnd.google.colaboratory.intrinsic+json": {
              "type": "string"
            },
            "text/plain": [
              "'3'"
            ]
          },
          "metadata": {
            "tags": []
          },
          "execution_count": 88
        }
      ]
    },
    {
      "cell_type": "code",
      "metadata": {
        "id": "sQJVlo9s5xhz",
        "colab": {
          "base_uri": "https://localhost:8080/",
          "height": 34
        },
        "outputId": "5349ac7b-a87d-419d-8039-09263713f994"
      },
      "source": [
        "d = c + a*3\n",
        "d"
      ],
      "execution_count": null,
      "outputs": [
        {
          "output_type": "execute_result",
          "data": {
            "application/vnd.google.colaboratory.intrinsic+json": {
              "type": "string"
            },
            "text/plain": [
              "'JavaHHH'"
            ]
          },
          "metadata": {
            "tags": []
          },
          "execution_count": 79
        }
      ]
    },
    {
      "cell_type": "code",
      "metadata": {
        "id": "dQ37WRlWZXnM",
        "colab": {
          "base_uri": "https://localhost:8080/",
          "height": 34
        },
        "outputId": "e24f27da-b788-4e0c-bfe9-65d83aa3171e"
      },
      "source": [
        "b"
      ],
      "execution_count": null,
      "outputs": [
        {
          "output_type": "execute_result",
          "data": {
            "application/vnd.google.colaboratory.intrinsic+json": {
              "type": "string"
            },
            "text/plain": [
              "'I am a Pythoneer'"
            ]
          },
          "metadata": {
            "tags": []
          },
          "execution_count": 80
        }
      ]
    },
    {
      "cell_type": "code",
      "metadata": {
        "id": "7Xu_gOzAZa9k",
        "colab": {
          "base_uri": "https://localhost:8080/",
          "height": 34
        },
        "outputId": "a5ecc723-630e-418b-df51-1de499d13a4a"
      },
      "source": [
        "b = 'Data Science'\n",
        "b"
      ],
      "execution_count": null,
      "outputs": [
        {
          "output_type": "execute_result",
          "data": {
            "application/vnd.google.colaboratory.intrinsic+json": {
              "type": "string"
            },
            "text/plain": [
              "'Data Science'"
            ]
          },
          "metadata": {
            "tags": []
          },
          "execution_count": 82
        }
      ]
    },
    {
      "cell_type": "markdown",
      "metadata": {
        "id": "npgpuk3tf86a"
      },
      "source": [
        "Python prohibited words"
      ]
    },
    {
      "cell_type": "markdown",
      "metadata": {
        "id": "iHuU6iG_Zljg"
      },
      "source": [
        "# Inputs / Outputs\n",
        "\n",
        "Inputs"
      ]
    },
    {
      "cell_type": "code",
      "metadata": {
        "id": "zHpsTXuZVUpO",
        "colab": {
          "base_uri": "https://localhost:8080/"
        },
        "outputId": "1f991aab-5c97-4cfb-b56a-34a7dae3f231"
      },
      "source": [
        "num = input('Enter a number between 0 and 100 : ')"
      ],
      "execution_count": null,
      "outputs": [
        {
          "output_type": "stream",
          "text": [
            "Enter a number between 0 and 100 : 12\n"
          ],
          "name": "stdout"
        }
      ]
    },
    {
      "cell_type": "code",
      "metadata": {
        "id": "t9Zyn7WkYDTA",
        "colab": {
          "base_uri": "https://localhost:8080/"
        },
        "outputId": "52db4e51-3cc5-401e-b481-936f033320a7"
      },
      "source": [
        "num"
      ],
      "execution_count": null,
      "outputs": [
        {
          "output_type": "execute_result",
          "data": {
            "application/vnd.google.colaboratory.intrinsic+json": {
              "type": "string"
            },
            "text/plain": [
              "'12'"
            ]
          },
          "metadata": {
            "tags": []
          },
          "execution_count": 86
        }
      ]
    },
    {
      "cell_type": "code",
      "metadata": {
        "id": "rGuqd5rDYFra",
        "colab": {
          "base_uri": "https://localhost:8080/"
        },
        "outputId": "27503e8d-033d-466d-88f3-133b6a7f6ea5"
      },
      "source": [
        "num = int(input(\"Enter a number :\"))"
      ],
      "execution_count": null,
      "outputs": [
        {
          "output_type": "stream",
          "text": [
            "Enter number :12\n"
          ],
          "name": "stdout"
        }
      ]
    },
    {
      "cell_type": "code",
      "metadata": {
        "id": "NxdUfW69YntV",
        "colab": {
          "base_uri": "https://localhost:8080/"
        },
        "outputId": "2ac3f190-4ca9-42f0-e820-6f16ed111807"
      },
      "source": [
        "num"
      ],
      "execution_count": null,
      "outputs": [
        {
          "output_type": "execute_result",
          "data": {
            "text/plain": [
              "12"
            ]
          },
          "metadata": {
            "tags": []
          },
          "execution_count": 90
        }
      ]
    },
    {
      "cell_type": "code",
      "metadata": {
        "id": "pRbUhE5vZ9JN",
        "colab": {
          "base_uri": "https://localhost:8080/"
        },
        "outputId": "dbd3bbca-e372-421c-9969-2e8c6a2b6f25"
      },
      "source": [
        "num = float(input(\"Enter number :\"))"
      ],
      "execution_count": null,
      "outputs": [
        {
          "output_type": "stream",
          "text": [
            "Enter number :12.4\n"
          ],
          "name": "stdout"
        }
      ]
    },
    {
      "cell_type": "code",
      "metadata": {
        "id": "G5bOYOMvaXSa",
        "colab": {
          "base_uri": "https://localhost:8080/"
        },
        "outputId": "a72e7523-2110-4acc-f15b-8cc117663d2e"
      },
      "source": [
        "num"
      ],
      "execution_count": null,
      "outputs": [
        {
          "output_type": "execute_result",
          "data": {
            "text/plain": [
              "12.4"
            ]
          },
          "metadata": {
            "tags": []
          },
          "execution_count": 92
        }
      ]
    },
    {
      "cell_type": "code",
      "metadata": {
        "id": "nf6yK7H9aaok",
        "colab": {
          "base_uri": "https://localhost:8080/"
        },
        "outputId": "19b17915-9f88-4daf-bfcb-8e8a29bc5393"
      },
      "source": [
        "x, y = input(\"Enter two values: \").split()"
      ],
      "execution_count": null,
      "outputs": [
        {
          "output_type": "stream",
          "text": [
            "Enter two values: 12 7\n"
          ],
          "name": "stdout"
        }
      ]
    },
    {
      "cell_type": "code",
      "metadata": {
        "colab": {
          "base_uri": "https://localhost:8080/"
        },
        "id": "UWcGCpzeg9io",
        "outputId": "3a48755f-758d-40ae-9d9c-a424394998c3"
      },
      "source": [
        "x"
      ],
      "execution_count": null,
      "outputs": [
        {
          "output_type": "execute_result",
          "data": {
            "application/vnd.google.colaboratory.intrinsic+json": {
              "type": "string"
            },
            "text/plain": [
              "'12'"
            ]
          },
          "metadata": {
            "tags": []
          },
          "execution_count": 99
        }
      ]
    },
    {
      "cell_type": "code",
      "metadata": {
        "colab": {
          "base_uri": "https://localhost:8080/"
        },
        "id": "NykebAEtg9vq",
        "outputId": "55e35bc5-f1cd-4da2-c1f2-f864a52c03af"
      },
      "source": [
        "y"
      ],
      "execution_count": null,
      "outputs": [
        {
          "output_type": "execute_result",
          "data": {
            "application/vnd.google.colaboratory.intrinsic+json": {
              "type": "string"
            },
            "text/plain": [
              "'7'"
            ]
          },
          "metadata": {
            "tags": []
          },
          "execution_count": 100
        }
      ]
    },
    {
      "cell_type": "code",
      "metadata": {
        "id": "7EeKCFEkanNS",
        "colab": {
          "base_uri": "https://localhost:8080/"
        },
        "outputId": "bdf3133b-d874-48b3-b0ec-4a34a1130745"
      },
      "source": [
        "x = int(x)\n",
        "x"
      ],
      "execution_count": null,
      "outputs": [
        {
          "output_type": "execute_result",
          "data": {
            "text/plain": [
              "12"
            ]
          },
          "metadata": {
            "tags": []
          },
          "execution_count": 101
        }
      ]
    },
    {
      "cell_type": "code",
      "metadata": {
        "id": "e3AvY22rapEA",
        "colab": {
          "base_uri": "https://localhost:8080/"
        },
        "outputId": "abd3c9ae-56de-4231-90e7-b3aa9e568087"
      },
      "source": [
        "y = int(y)\n",
        "y"
      ],
      "execution_count": null,
      "outputs": [
        {
          "output_type": "execute_result",
          "data": {
            "text/plain": [
              "7"
            ]
          },
          "metadata": {
            "tags": []
          },
          "execution_count": 103
        }
      ]
    },
    {
      "cell_type": "code",
      "metadata": {
        "id": "V9-KAUhLeMtZ"
      },
      "source": [
        "x = int(input(\"Enter a number :\"))\n",
        "y = int(input(\"Enter a number :\"))"
      ],
      "execution_count": null,
      "outputs": []
    },
    {
      "cell_type": "code",
      "metadata": {
        "id": "TNZNYphUeYsh"
      },
      "source": [
        "x"
      ],
      "execution_count": null,
      "outputs": []
    },
    {
      "cell_type": "markdown",
      "metadata": {
        "id": "0tkycHjIbBB0"
      },
      "source": [
        "- Output"
      ]
    },
    {
      "cell_type": "code",
      "metadata": {
        "id": "Pbs_MBQvappx",
        "colab": {
          "base_uri": "https://localhost:8080/"
        },
        "outputId": "7d42ac4a-342f-40a8-9245-dee25d377dcf"
      },
      "source": [
        "print('This course is helpful')"
      ],
      "execution_count": null,
      "outputs": [
        {
          "output_type": "stream",
          "text": [
            "This course is helpful\n"
          ],
          "name": "stdout"
        }
      ]
    },
    {
      "cell_type": "code",
      "metadata": {
        "colab": {
          "base_uri": "https://localhost:8080/"
        },
        "id": "KaXQX1p1hm6b",
        "outputId": "f17555a8-0161-4ba0-d088-1a1f916579f7"
      },
      "source": [
        "print('x equals to :',x)"
      ],
      "execution_count": null,
      "outputs": [
        {
          "output_type": "stream",
          "text": [
            "x equals to : 12\n"
          ],
          "name": "stdout"
        }
      ]
    },
    {
      "cell_type": "code",
      "metadata": {
        "id": "_hX2maf9bIXL",
        "colab": {
          "base_uri": "https://localhost:8080/"
        },
        "outputId": "1353c64a-adb1-4ed7-e471-3eebec9c129a"
      },
      "source": [
        "print(x,'x','y','Alexandria is beautiful')"
      ],
      "execution_count": null,
      "outputs": [
        {
          "output_type": "stream",
          "text": [
            "12 x y Alexandria is beautiful\n"
          ],
          "name": "stdout"
        }
      ]
    },
    {
      "cell_type": "code",
      "metadata": {
        "id": "hrEH_6ClbP3D",
        "colab": {
          "base_uri": "https://localhost:8080/"
        },
        "outputId": "796ac1a0-98e9-4d5d-bfd0-7387e7bd8ebe"
      },
      "source": [
        "print('Cairo is a beautiful City,','so is Alexandria','3','6',x)"
      ],
      "execution_count": null,
      "outputs": [
        {
          "output_type": "stream",
          "text": [
            "Cairo is a beautiful City, so is Alexandria 3 6 12\n"
          ],
          "name": "stdout"
        }
      ]
    },
    {
      "cell_type": "markdown",
      "metadata": {
        "id": "BxX_A13dczTj"
      },
      "source": [
        "# Operators in Python"
      ]
    },
    {
      "cell_type": "markdown",
      "metadata": {
        "id": "rhEoyN89dDee"
      },
      "source": [
        "Operators : + - * / // ** %"
      ]
    },
    {
      "cell_type": "code",
      "metadata": {
        "colab": {
          "base_uri": "https://localhost:8080/"
        },
        "id": "aiXGLcrRO924",
        "outputId": "6fa13602-c3c0-4485-eb3d-460515313fdd"
      },
      "source": [
        "10 % 2"
      ],
      "execution_count": null,
      "outputs": [
        {
          "output_type": "execute_result",
          "data": {
            "text/plain": [
              "0"
            ]
          },
          "metadata": {
            "tags": []
          },
          "execution_count": 118
        }
      ]
    },
    {
      "cell_type": "code",
      "metadata": {
        "id": "LLhiCWldLv8z",
        "colab": {
          "base_uri": "https://localhost:8080/"
        },
        "outputId": "1a84912f-791d-41ec-dd8e-b215da3cacf6"
      },
      "source": [
        "11%8"
      ],
      "execution_count": null,
      "outputs": [
        {
          "output_type": "execute_result",
          "data": {
            "text/plain": [
              "3"
            ]
          },
          "metadata": {
            "tags": []
          },
          "execution_count": 119
        }
      ]
    },
    {
      "cell_type": "code",
      "metadata": {
        "id": "BbEv0JG3bg_l"
      },
      "source": [
        "a,b,c,d = 2,3,4,5"
      ],
      "execution_count": null,
      "outputs": []
    },
    {
      "cell_type": "code",
      "metadata": {
        "colab": {
          "base_uri": "https://localhost:8080/"
        },
        "id": "u8gKUf9Mi85U",
        "outputId": "1fba32ba-6c19-4e14-97ab-2d245a361636"
      },
      "source": [
        "c"
      ],
      "execution_count": null,
      "outputs": [
        {
          "output_type": "execute_result",
          "data": {
            "text/plain": [
              "4"
            ]
          },
          "metadata": {
            "tags": []
          },
          "execution_count": 124
        }
      ]
    },
    {
      "cell_type": "code",
      "metadata": {
        "id": "SH1LqbjYMmB_"
      },
      "source": [
        "x,y = 7,3"
      ],
      "execution_count": null,
      "outputs": []
    },
    {
      "cell_type": "code",
      "metadata": {
        "id": "XYuKroCgdPlv",
        "colab": {
          "base_uri": "https://localhost:8080/"
        },
        "outputId": "af561ab5-008c-4e2f-fc8b-c62b03f5cc8a"
      },
      "source": [
        "x + y "
      ],
      "execution_count": null,
      "outputs": [
        {
          "output_type": "execute_result",
          "data": {
            "text/plain": [
              "10"
            ]
          },
          "metadata": {
            "tags": []
          },
          "execution_count": 126
        }
      ]
    },
    {
      "cell_type": "code",
      "metadata": {
        "id": "SnQexR7RdPn2",
        "colab": {
          "base_uri": "https://localhost:8080/"
        },
        "outputId": "fef80ac7-2e8c-4234-d2d8-aab106c155de"
      },
      "source": [
        "x - y "
      ],
      "execution_count": null,
      "outputs": [
        {
          "output_type": "execute_result",
          "data": {
            "text/plain": [
              "4"
            ]
          },
          "metadata": {
            "tags": []
          },
          "execution_count": 127
        }
      ]
    },
    {
      "cell_type": "code",
      "metadata": {
        "id": "S44RWBj2dPrr",
        "colab": {
          "base_uri": "https://localhost:8080/"
        },
        "outputId": "9779d440-afa1-4d9b-999e-dbff911d92bb"
      },
      "source": [
        "x * y "
      ],
      "execution_count": null,
      "outputs": [
        {
          "output_type": "execute_result",
          "data": {
            "text/plain": [
              "21"
            ]
          },
          "metadata": {
            "tags": []
          },
          "execution_count": 128
        }
      ]
    },
    {
      "cell_type": "code",
      "metadata": {
        "id": "OspfwFVuc_2H",
        "colab": {
          "base_uri": "https://localhost:8080/"
        },
        "outputId": "ef992452-72e2-41e5-aa6d-36b7bd13c806"
      },
      "source": [
        "x / y "
      ],
      "execution_count": null,
      "outputs": [
        {
          "output_type": "execute_result",
          "data": {
            "text/plain": [
              "2.3333333333333335"
            ]
          },
          "metadata": {
            "tags": []
          },
          "execution_count": 129
        }
      ]
    },
    {
      "cell_type": "code",
      "metadata": {
        "id": "pU3KRydEdNVa",
        "colab": {
          "base_uri": "https://localhost:8080/"
        },
        "outputId": "8fc62d63-99ff-4f53-a9e4-0e40aa5e4a22"
      },
      "source": [
        "x // y"
      ],
      "execution_count": null,
      "outputs": [
        {
          "output_type": "execute_result",
          "data": {
            "text/plain": [
              "2"
            ]
          },
          "metadata": {
            "tags": []
          },
          "execution_count": 130
        }
      ]
    },
    {
      "cell_type": "code",
      "metadata": {
        "id": "D3Yyn_RNdOwS",
        "colab": {
          "base_uri": "https://localhost:8080/"
        },
        "outputId": "6dce1e74-baf7-45a5-e729-a0ebcea50552"
      },
      "source": [
        "x ** y "
      ],
      "execution_count": null,
      "outputs": [
        {
          "output_type": "execute_result",
          "data": {
            "text/plain": [
              "343"
            ]
          },
          "metadata": {
            "tags": []
          },
          "execution_count": 131
        }
      ]
    },
    {
      "cell_type": "code",
      "metadata": {
        "id": "t0ett4iadU5a",
        "colab": {
          "base_uri": "https://localhost:8080/"
        },
        "outputId": "5eded0df-04dd-41ea-89b5-c2788a1ded20"
      },
      "source": [
        "x%y"
      ],
      "execution_count": null,
      "outputs": [
        {
          "output_type": "execute_result",
          "data": {
            "text/plain": [
              "1"
            ]
          },
          "metadata": {
            "tags": []
          },
          "execution_count": 132
        }
      ]
    },
    {
      "cell_type": "markdown",
      "metadata": {
        "id": "Ko2WczX4ek5z"
      },
      "source": [
        "# Control Flow\n",
        " - Loops\n",
        " - For loops\n",
        "\n",
        " For loops, in general, are used for sequential traversal. It falls under the category of definite iteration. Definite iterations means the number of repetitions is specified explicitly in advance. \n",
        "Note: In python, for loops only implements the collection-based iteration."
      ]
    },
    {
      "cell_type": "code",
      "metadata": {
        "id": "GrJXVAkQfSVf",
        "colab": {
          "base_uri": "https://localhost:8080/"
        },
        "outputId": "6bbe3716-479a-4518-b7da-cbfa5cf7bfc2"
      },
      "source": [
        "print('1 2 3')"
      ],
      "execution_count": null,
      "outputs": [
        {
          "output_type": "stream",
          "text": [
            "1 2 3\n"
          ],
          "name": "stdout"
        }
      ]
    },
    {
      "cell_type": "code",
      "metadata": {
        "id": "Ob3l0aHSdXzk",
        "colab": {
          "base_uri": "https://localhost:8080/"
        },
        "outputId": "e840f475-596a-4feb-c4e5-8bfa7c8175ef"
      },
      "source": [
        "print('1 2 3 4 5 6 7 8 9 10')"
      ],
      "execution_count": null,
      "outputs": [
        {
          "output_type": "stream",
          "text": [
            "1 2 3 4 5 6 7 8 9 10\n"
          ],
          "name": "stdout"
        }
      ]
    },
    {
      "cell_type": "code",
      "metadata": {
        "id": "UIfwHpmufQz4",
        "colab": {
          "base_uri": "https://localhost:8080/"
        },
        "outputId": "34a8a2ed-a47f-47b8-ad92-f7bbb9fc2369"
      },
      "source": [
        "for counter in range(1,101):\n",
        "  print(counter)"
      ],
      "execution_count": null,
      "outputs": [
        {
          "output_type": "stream",
          "text": [
            "1\n",
            "2\n",
            "3\n",
            "4\n",
            "5\n",
            "6\n",
            "7\n",
            "8\n",
            "9\n",
            "10\n",
            "11\n",
            "12\n",
            "13\n",
            "14\n",
            "15\n",
            "16\n",
            "17\n",
            "18\n",
            "19\n",
            "20\n",
            "21\n",
            "22\n",
            "23\n",
            "24\n",
            "25\n",
            "26\n",
            "27\n",
            "28\n",
            "29\n",
            "30\n",
            "31\n",
            "32\n",
            "33\n",
            "34\n",
            "35\n",
            "36\n",
            "37\n",
            "38\n",
            "39\n",
            "40\n",
            "41\n",
            "42\n",
            "43\n",
            "44\n",
            "45\n",
            "46\n",
            "47\n",
            "48\n",
            "49\n",
            "50\n",
            "51\n",
            "52\n",
            "53\n",
            "54\n",
            "55\n",
            "56\n",
            "57\n",
            "58\n",
            "59\n",
            "60\n",
            "61\n",
            "62\n",
            "63\n",
            "64\n",
            "65\n",
            "66\n",
            "67\n",
            "68\n",
            "69\n",
            "70\n",
            "71\n",
            "72\n",
            "73\n",
            "74\n",
            "75\n",
            "76\n",
            "77\n",
            "78\n",
            "79\n",
            "80\n",
            "81\n",
            "82\n",
            "83\n",
            "84\n",
            "85\n",
            "86\n",
            "87\n",
            "88\n",
            "89\n",
            "90\n",
            "91\n",
            "92\n",
            "93\n",
            "94\n",
            "95\n",
            "96\n",
            "97\n",
            "98\n",
            "99\n",
            "100\n"
          ],
          "name": "stdout"
        }
      ]
    },
    {
      "cell_type": "code",
      "metadata": {
        "id": "dhSEMD-FfcK6",
        "colab": {
          "base_uri": "https://localhost:8080/"
        },
        "outputId": "92a4bd0a-41e0-4da9-9f77-7f3724b0ac5e"
      },
      "source": [
        "for i in 'Python code':\n",
        "    print(i)"
      ],
      "execution_count": null,
      "outputs": [
        {
          "output_type": "stream",
          "text": [
            "P\n",
            "y\n",
            "t\n",
            "h\n",
            "o\n",
            "n\n",
            " \n",
            "c\n",
            "o\n",
            "d\n",
            "e\n"
          ],
          "name": "stdout"
        }
      ]
    },
    {
      "cell_type": "markdown",
      "metadata": {
        "id": "adyQXTdO_JSQ"
      },
      "source": [
        "- While loops\n",
        "In Python, While Loops is used to execute a block of statements repeatedly until a given condition is satisfied. And when the condition becomes false, the line immediately after the loop in the program is executed. While loop falls under the category of indefinite iteration. Indefinite iteration means that the number of times the loop is executed isn’t specified explicitly in advance.\n",
        "\n"
      ]
    },
    {
      "cell_type": "code",
      "metadata": {
        "id": "uhxFdmvef3Mo",
        "colab": {
          "base_uri": "https://localhost:8080/"
        },
        "outputId": "48c2941f-7989-4c0d-93f8-8c1565d3f117"
      },
      "source": [
        "count = 0\n",
        "while (count < 10):      \n",
        "    count = count + 1\n",
        "    print(\"Hello Pythoneer/Pythonista\")"
      ],
      "execution_count": null,
      "outputs": [
        {
          "output_type": "stream",
          "text": [
            "Hello Pythoneer/Pythonista\n",
            "Hello Pythoneer/Pythonista\n",
            "Hello Pythoneer/Pythonista\n",
            "Hello Pythoneer/Pythonista\n",
            "Hello Pythoneer/Pythonista\n",
            "Hello Pythoneer/Pythonista\n",
            "Hello Pythoneer/Pythonista\n",
            "Hello Pythoneer/Pythonista\n",
            "Hello Pythoneer/Pythonista\n",
            "Hello Pythoneer/Pythonista\n"
          ],
          "name": "stdout"
        }
      ]
    },
    {
      "cell_type": "code",
      "metadata": {
        "id": "PCUzbPXaOqEo"
      },
      "source": [
        "count = 2\n",
        "while (count < 3):\n",
        "  count = count + 1\n",
        "  print('Hello')"
      ],
      "execution_count": null,
      "outputs": []
    },
    {
      "cell_type": "markdown",
      "metadata": {
        "id": "ucBWzmTUhirV"
      },
      "source": [
        "- Conditions"
      ]
    },
    {
      "cell_type": "code",
      "metadata": {
        "id": "4TmdOEREg2I5"
      },
      "source": [
        "i = 10\n",
        "if (i < 15): \n",
        "   print(i,\"is less than 15\")\n",
        "   print(\"1\")"
      ],
      "execution_count": null,
      "outputs": []
    },
    {
      "cell_type": "code",
      "metadata": {
        "colab": {
          "base_uri": "https://localhost:8080/"
        },
        "id": "iVwrS5MLm5l_",
        "outputId": "a5b1f4a5-bfa9-468d-d5d2-aefdd2ddb05f"
      },
      "source": [
        "a = (v > 82)\n",
        "a"
      ],
      "execution_count": null,
      "outputs": [
        {
          "output_type": "execute_result",
          "data": {
            "text/plain": [
              "True"
            ]
          },
          "metadata": {
            "tags": []
          },
          "execution_count": 150
        }
      ]
    },
    {
      "cell_type": "code",
      "metadata": {
        "id": "AAaNti9ihkA1",
        "colab": {
          "base_uri": "https://localhost:8080/"
        },
        "outputId": "01fb9bf1-8cf0-4c65-c7e5-b196ff4bb031"
      },
      "source": [
        "v = 82\n",
        "if (v < 80): \n",
        "  print(\"No warning\")\n",
        "elif (v == 80):\n",
        "  print('Warning')\n",
        "else:\n",
        "  print('Stop')"
      ],
      "execution_count": null,
      "outputs": [
        {
          "output_type": "stream",
          "text": [
            "Stop\n"
          ],
          "name": "stdout"
        }
      ]
    },
    {
      "cell_type": "code",
      "metadata": {
        "id": "ZxTX7DJdir-k",
        "colab": {
          "base_uri": "https://localhost:8080/"
        },
        "outputId": "de18cc8a-f86c-4636-e01f-b09fa7778e77"
      },
      "source": [
        "i = 100\n",
        "if (i == 15): \n",
        "  print(\"i = 15\")\n",
        "else:\n",
        "  print('i does not equal to 15')"
      ],
      "execution_count": null,
      "outputs": [
        {
          "output_type": "stream",
          "text": [
            "i does not equal to 15\n"
          ],
          "name": "stdout"
        }
      ]
    },
    {
      "cell_type": "markdown",
      "metadata": {
        "id": "0BklM_WljgyP"
      },
      "source": [
        "# Data Structures\n",
        "- Lists\n",
        "\n",
        "List in Python are ordered and have a definite count. The elements in a list are indexed according to a definite sequence and the indexing of a list is done with 0 being the first index. Each element in the list has its definite place in the list, which allows duplicating of elements in the list, with each element having its own distinct place and credibility.\n",
        "\n"
      ]
    },
    {
      "cell_type": "code",
      "metadata": {
        "id": "7oL7gv3jjJfE",
        "colab": {
          "base_uri": "https://localhost:8080/"
        },
        "outputId": "b0ce4fa8-d76f-451d-d80b-da0fa6ebf61f"
      },
      "source": [
        "## Can contain numbers, characters or strings...\n",
        "## How to define it \n",
        "L = [1,2.2, \"a\" , \"string\" , 1+2,'I am a Python programmer',1,'a'] \n",
        "L"
      ],
      "execution_count": null,
      "outputs": [
        {
          "output_type": "execute_result",
          "data": {
            "text/plain": [
              "[1, 2.2, 'a', 'string', 3, 'I am a Python programmer', 1, 'a']"
            ]
          },
          "metadata": {
            "tags": []
          },
          "execution_count": 156
        }
      ]
    },
    {
      "cell_type": "code",
      "metadata": {
        "id": "-0MDNyppwuw2",
        "colab": {
          "base_uri": "https://localhost:8080/",
          "height": 34
        },
        "outputId": "b30ffe99-7bd1-487d-9367-2636010147e9"
      },
      "source": [
        "## Order of elements:\n",
        "L[2]"
      ],
      "execution_count": null,
      "outputs": [
        {
          "output_type": "execute_result",
          "data": {
            "application/vnd.google.colaboratory.intrinsic+json": {
              "type": "string"
            },
            "text/plain": [
              "'a'"
            ]
          },
          "metadata": {
            "tags": []
          },
          "execution_count": 158
        }
      ]
    },
    {
      "cell_type": "code",
      "metadata": {
        "id": "VmkqqwdOw7dT",
        "colab": {
          "base_uri": "https://localhost:8080/",
          "height": 34
        },
        "outputId": "596d1af7-986e-4240-b551-58330466f1a7"
      },
      "source": [
        "L[-1]"
      ],
      "execution_count": null,
      "outputs": [
        {
          "output_type": "execute_result",
          "data": {
            "application/vnd.google.colaboratory.intrinsic+json": {
              "type": "string"
            },
            "text/plain": [
              "'a'"
            ]
          },
          "metadata": {
            "tags": []
          },
          "execution_count": 159
        }
      ]
    },
    {
      "cell_type": "code",
      "metadata": {
        "id": "ynJPrFl1w9iQ",
        "colab": {
          "base_uri": "https://localhost:8080/"
        },
        "outputId": "1f8731aa-3f30-42dd-d682-f96ca48c8b25"
      },
      "source": [
        "L[1]"
      ],
      "execution_count": null,
      "outputs": [
        {
          "output_type": "execute_result",
          "data": {
            "text/plain": [
              "2.2"
            ]
          },
          "metadata": {
            "tags": []
          },
          "execution_count": 160
        }
      ]
    },
    {
      "cell_type": "code",
      "metadata": {
        "colab": {
          "base_uri": "https://localhost:8080/",
          "height": 184
        },
        "id": "7SsreBwKpXyj",
        "outputId": "17003eb7-76e5-4261-940a-9315a0edfd6d"
      },
      "source": [
        "a = 'string'\n",
        "a[1] = 'h'"
      ],
      "execution_count": null,
      "outputs": [
        {
          "output_type": "error",
          "ename": "TypeError",
          "evalue": "ignored",
          "traceback": [
            "\u001b[0;31m---------------------------------------------------------------------------\u001b[0m",
            "\u001b[0;31mTypeError\u001b[0m                                 Traceback (most recent call last)",
            "\u001b[0;32m<ipython-input-161-865cca44d58a>\u001b[0m in \u001b[0;36m<module>\u001b[0;34m()\u001b[0m\n\u001b[1;32m      1\u001b[0m \u001b[0ma\u001b[0m \u001b[0;34m=\u001b[0m \u001b[0;34m'string'\u001b[0m\u001b[0;34m\u001b[0m\u001b[0;34m\u001b[0m\u001b[0m\n\u001b[0;32m----> 2\u001b[0;31m \u001b[0ma\u001b[0m\u001b[0;34m[\u001b[0m\u001b[0;36m1\u001b[0m\u001b[0;34m]\u001b[0m \u001b[0;34m=\u001b[0m \u001b[0;34m'h'\u001b[0m\u001b[0;34m\u001b[0m\u001b[0;34m\u001b[0m\u001b[0m\n\u001b[0m",
            "\u001b[0;31mTypeError\u001b[0m: 'str' object does not support item assignment"
          ]
        }
      ]
    },
    {
      "cell_type": "code",
      "metadata": {
        "id": "JjZJMsHqw-sL"
      },
      "source": [
        "L[1] = 2\n",
        "## Lists are mutable"
      ],
      "execution_count": null,
      "outputs": []
    },
    {
      "cell_type": "code",
      "metadata": {
        "id": "gCrDexLjxCcd",
        "colab": {
          "base_uri": "https://localhost:8080/"
        },
        "outputId": "2d63c905-198d-4bb2-85f1-6541d1a719d9"
      },
      "source": [
        "L"
      ],
      "execution_count": null,
      "outputs": [
        {
          "output_type": "execute_result",
          "data": {
            "text/plain": [
              "[1, 2, 'a', 'string', 3, 'I am a Python programmer', 1, 'a']"
            ]
          },
          "metadata": {
            "tags": []
          },
          "execution_count": 163
        }
      ]
    },
    {
      "cell_type": "code",
      "metadata": {
        "id": "w_E163PexOwU"
      },
      "source": [
        "L.append('Pythonista')"
      ],
      "execution_count": null,
      "outputs": []
    },
    {
      "cell_type": "code",
      "metadata": {
        "id": "RoPP7I6UxSU9",
        "colab": {
          "base_uri": "https://localhost:8080/"
        },
        "outputId": "912d565c-9556-4bfc-90ce-47d16b688cae"
      },
      "source": [
        "L"
      ],
      "execution_count": null,
      "outputs": [
        {
          "output_type": "execute_result",
          "data": {
            "text/plain": [
              "[1, 2, 'a', 'string', 3, 'I am a Python programmer', 1, 'a', 'Pythonista']"
            ]
          },
          "metadata": {
            "tags": []
          },
          "execution_count": 165
        }
      ]
    },
    {
      "cell_type": "code",
      "metadata": {
        "id": "pijvHwqPxTQF"
      },
      "source": [
        "L.append(1)"
      ],
      "execution_count": null,
      "outputs": []
    },
    {
      "cell_type": "code",
      "metadata": {
        "id": "K2XXUpmfxX-b",
        "colab": {
          "base_uri": "https://localhost:8080/"
        },
        "outputId": "35a9e0e7-1866-45a2-e660-52d62a2adbef"
      },
      "source": [
        "L"
      ],
      "execution_count": null,
      "outputs": [
        {
          "output_type": "execute_result",
          "data": {
            "text/plain": [
              "[1, 2, 'a', 'string', 3, 'I am a Python programmer', 1, 'a', 'Pythonista', 1]"
            ]
          },
          "metadata": {
            "tags": []
          },
          "execution_count": 167
        }
      ]
    },
    {
      "cell_type": "code",
      "metadata": {
        "colab": {
          "base_uri": "https://localhost:8080/"
        },
        "id": "uq1s6Vvapzed",
        "outputId": "43273559-ef28-4de3-fe74-b02ad5c16333"
      },
      "source": [
        "L.append(3.7)\n",
        "L"
      ],
      "execution_count": null,
      "outputs": [
        {
          "output_type": "execute_result",
          "data": {
            "text/plain": [
              "[1,\n",
              " 2,\n",
              " 'a',\n",
              " 'string',\n",
              " 3,\n",
              " 'I am a Python programmer',\n",
              " 1,\n",
              " 'a',\n",
              " 'Pythonista',\n",
              " 1,\n",
              " 3.7]"
            ]
          },
          "metadata": {
            "tags": []
          },
          "execution_count": 168
        }
      ]
    },
    {
      "cell_type": "code",
      "metadata": {
        "id": "TUTfBkPP7y-l",
        "colab": {
          "base_uri": "https://localhost:8080/"
        },
        "outputId": "d2a90741-1fec-46b1-f76a-0741d75283e8"
      },
      "source": [
        "L.remove(3.7)\n",
        "L"
      ],
      "execution_count": null,
      "outputs": [
        {
          "output_type": "execute_result",
          "data": {
            "text/plain": [
              "[1, 2, 'a', 'string', 3, 'I am a Python programmer', 1, 'a', 'Pythonista', 1]"
            ]
          },
          "metadata": {
            "tags": []
          },
          "execution_count": 169
        }
      ]
    },
    {
      "cell_type": "code",
      "metadata": {
        "id": "I4D9FcCk6mkx",
        "colab": {
          "base_uri": "https://localhost:8080/"
        },
        "outputId": "6fb6bfc0-1697-4d49-dc9d-0ae6fbb59277"
      },
      "source": [
        "S = 'I am a future data scientist 55'\n",
        "L = S.split(' ')\n",
        "L"
      ],
      "execution_count": null,
      "outputs": [
        {
          "output_type": "execute_result",
          "data": {
            "text/plain": [
              "['I', 'am', 'a', 'future', 'data', 'scientist', '55']"
            ]
          },
          "metadata": {
            "tags": []
          },
          "execution_count": 170
        }
      ]
    },
    {
      "cell_type": "markdown",
      "metadata": {
        "id": "fBrbBj27xax7"
      },
      "source": [
        "- Tuples\n",
        "\n",
        "Tuple is a collection of Python objects much like a list. The sequence of values stored in a tuple can be of any type, and they are indexed by integers.\n",
        "Values of a tuple are syntactically separated by ‘commas’. Although it is not necessary, it is more common to define a tuple by closing the sequence of values in parentheses. This helps in understanding the Python tuples more easily."
      ]
    },
    {
      "cell_type": "code",
      "metadata": {
        "id": "A0IwBmoTxY4a",
        "colab": {
          "base_uri": "https://localhost:8080/"
        },
        "outputId": "6e23346b-e0d6-43b5-b302-7afe22c0158a"
      },
      "source": [
        "## Can contain numbers, characters or strings...\n",
        "## How to define it \n",
        "tup = (1,2,3,'a','Programmer',3)\n",
        "tup"
      ],
      "execution_count": null,
      "outputs": [
        {
          "output_type": "execute_result",
          "data": {
            "text/plain": [
              "(1, 2, 3, 'a', 'Programmer', 3)"
            ]
          },
          "metadata": {
            "tags": []
          },
          "execution_count": 178
        }
      ]
    },
    {
      "cell_type": "code",
      "metadata": {
        "id": "N1InuGaJx2sH",
        "colab": {
          "base_uri": "https://localhost:8080/",
          "height": 184
        },
        "outputId": "40d6b7ab-1f7e-41de-a1b0-6415df221639"
      },
      "source": [
        "tup[1] = 3\n",
        "## tuples are immutable"
      ],
      "execution_count": null,
      "outputs": [
        {
          "output_type": "error",
          "ename": "TypeError",
          "evalue": "ignored",
          "traceback": [
            "\u001b[0;31m---------------------------------------------------------------------------\u001b[0m",
            "\u001b[0;31mTypeError\u001b[0m                                 Traceback (most recent call last)",
            "\u001b[0;32m<ipython-input-179-1203647e4148>\u001b[0m in \u001b[0;36m<module>\u001b[0;34m()\u001b[0m\n\u001b[0;32m----> 1\u001b[0;31m \u001b[0mtup\u001b[0m\u001b[0;34m[\u001b[0m\u001b[0;36m1\u001b[0m\u001b[0;34m]\u001b[0m \u001b[0;34m=\u001b[0m \u001b[0;36m3\u001b[0m\u001b[0;34m\u001b[0m\u001b[0;34m\u001b[0m\u001b[0m\n\u001b[0m\u001b[1;32m      2\u001b[0m \u001b[0;31m## tuples are immutable\u001b[0m\u001b[0;34m\u001b[0m\u001b[0;34m\u001b[0m\u001b[0;34m\u001b[0m\u001b[0m\n",
            "\u001b[0;31mTypeError\u001b[0m: 'tuple' object does not support item assignment"
          ]
        }
      ]
    },
    {
      "cell_type": "markdown",
      "metadata": {
        "id": "_nJqDRBD9pCc"
      },
      "source": [
        "- Sets\n",
        "\n",
        "In Python, Set is an unordered collection of data type that is iterable, mutable and has no duplicate elements. The order of elements in a set is undefined though it may consist of various elements.\n",
        "The major advantage of using a set, as opposed to a list, is that it has a highly optimized method for checking whether a specific element is contained in the set."
      ]
    },
    {
      "cell_type": "code",
      "metadata": {
        "id": "KQzm9N29y0S1",
        "colab": {
          "base_uri": "https://localhost:8080/"
        },
        "outputId": "5b650608-1b35-4992-c926-b870eed5c2be"
      },
      "source": [
        "set1 = set(\"Py3    Python\") \n",
        "set1"
      ],
      "execution_count": null,
      "outputs": [
        {
          "output_type": "execute_result",
          "data": {
            "text/plain": [
              "{' ', '3', 'P', 'h', 'n', 'o', 't', 'y'}"
            ]
          },
          "metadata": {
            "tags": []
          },
          "execution_count": 182
        }
      ]
    },
    {
      "cell_type": "code",
      "metadata": {
        "id": "HRvYQiVC_qAO",
        "colab": {
          "base_uri": "https://localhost:8080/"
        },
        "outputId": "1409b529-a8d4-42a2-c558-ac027a8f1493"
      },
      "source": [
        "A = ('a','3','3','b')\n",
        "set2 = set(A)\n",
        "set2"
      ],
      "execution_count": null,
      "outputs": [
        {
          "output_type": "execute_result",
          "data": {
            "text/plain": [
              "{'3', 'a', 'b'}"
            ]
          },
          "metadata": {
            "tags": []
          },
          "execution_count": 183
        }
      ]
    },
    {
      "cell_type": "code",
      "metadata": {
        "id": "AGXQ_65X_woA"
      },
      "source": [
        "set2.add('to be')"
      ],
      "execution_count": null,
      "outputs": []
    },
    {
      "cell_type": "code",
      "metadata": {
        "id": "hT5DvMRLBKT0",
        "colab": {
          "base_uri": "https://localhost:8080/"
        },
        "outputId": "21ea5379-5e85-419e-f7b3-42f6a5360ed0"
      },
      "source": [
        "set2"
      ],
      "execution_count": null,
      "outputs": [
        {
          "output_type": "execute_result",
          "data": {
            "text/plain": [
              "{'3', 'a', 'b', 'to be'}"
            ]
          },
          "metadata": {
            "tags": []
          },
          "execution_count": 185
        }
      ]
    },
    {
      "cell_type": "code",
      "metadata": {
        "id": "9fB6DbZBBLUl",
        "colab": {
          "base_uri": "https://localhost:8080/"
        },
        "outputId": "09336797-8c3a-4148-f45d-6b828f26cb47"
      },
      "source": [
        "set2.remove('a')\n",
        "set2"
      ],
      "execution_count": null,
      "outputs": [
        {
          "output_type": "execute_result",
          "data": {
            "text/plain": [
              "{'b', 'to be'}"
            ]
          },
          "metadata": {
            "tags": []
          },
          "execution_count": 190
        }
      ]
    },
    {
      "cell_type": "markdown",
      "metadata": {
        "id": "vvITbUErBbMW"
      },
      "source": [
        "- Dictionary\n",
        "\n",
        "Dictionary in Python is an unordered collection of data values, used to store data values like a map, which unlike other Data Types that hold only single value as an element, Dictionary holds key:value pair. Key value is provided in the dictionary to make it more optimized."
      ]
    },
    {
      "cell_type": "code",
      "metadata": {
        "id": "Tzvj2zyyBYDu",
        "colab": {
          "base_uri": "https://localhost:8080/",
          "height": 34
        },
        "outputId": "fcb7a345-0cbf-4938-e717-516f8eb39839"
      },
      "source": [
        "dict1 = {'Je':'I',\n",
        "         'Tu':'You',\n",
        "         'Il':'He'}\n",
        "dict1['Je']"
      ],
      "execution_count": null,
      "outputs": [
        {
          "output_type": "execute_result",
          "data": {
            "application/vnd.google.colaboratory.intrinsic+json": {
              "type": "string"
            },
            "text/plain": [
              "'I'"
            ]
          },
          "metadata": {
            "tags": []
          },
          "execution_count": 193
        }
      ]
    },
    {
      "cell_type": "code",
      "metadata": {
        "id": "_bG61j8zCRdX",
        "colab": {
          "base_uri": "https://localhost:8080/",
          "height": 34
        },
        "outputId": "0b90fd77-d473-41b8-f0d4-a9835af4d13d"
      },
      "source": [
        "dict1['Avoir'] = 'To have'\n",
        "dict1['Avoir']"
      ],
      "execution_count": null,
      "outputs": [
        {
          "output_type": "execute_result",
          "data": {
            "application/vnd.google.colaboratory.intrinsic+json": {
              "type": "string"
            },
            "text/plain": [
              "'To have'"
            ]
          },
          "metadata": {
            "tags": []
          },
          "execution_count": 195
        }
      ]
    },
    {
      "cell_type": "code",
      "metadata": {
        "id": "jeng-Z0aWP-I",
        "colab": {
          "base_uri": "https://localhost:8080/"
        },
        "outputId": "db345ee5-8aa2-451f-d5be-d4d721e28ea7"
      },
      "source": [
        "dict1"
      ],
      "execution_count": null,
      "outputs": [
        {
          "output_type": "execute_result",
          "data": {
            "text/plain": [
              "{'Avoir': 'To have', 'Il': 'He', 'Je': 'I', 'Tu': 'You'}"
            ]
          },
          "metadata": {
            "tags": []
          },
          "execution_count": 196
        }
      ]
    },
    {
      "cell_type": "code",
      "metadata": {
        "id": "ULt5H2tsCcOo",
        "colab": {
          "base_uri": "https://localhost:8080/"
        },
        "outputId": "4ee83755-a4bf-496c-e8f1-a59c31262339"
      },
      "source": [
        "del dict1['Tu']\n",
        "dict1"
      ],
      "execution_count": null,
      "outputs": [
        {
          "output_type": "execute_result",
          "data": {
            "text/plain": [
              "{'Avoir': 'To have', 'Il': 'He', 'Je': 'I'}"
            ]
          },
          "metadata": {
            "tags": []
          },
          "execution_count": 197
        }
      ]
    },
    {
      "cell_type": "code",
      "metadata": {
        "id": "-88JmB29V1nR"
      },
      "source": [
        "dict2 = {'Ahmed' : 20,\n",
        "         'Seham' : 50,\n",
        "}"
      ],
      "execution_count": null,
      "outputs": []
    },
    {
      "cell_type": "code",
      "metadata": {
        "id": "gYtHy4KxV8wh",
        "colab": {
          "base_uri": "https://localhost:8080/"
        },
        "outputId": "b161b385-7f33-4fbf-ef01-9c8a6cbb5ab7"
      },
      "source": [
        "dict2['Ahmed']"
      ],
      "execution_count": null,
      "outputs": [
        {
          "output_type": "execute_result",
          "data": {
            "text/plain": [
              "20"
            ]
          },
          "metadata": {
            "tags": []
          },
          "execution_count": 200
        }
      ]
    },
    {
      "cell_type": "markdown",
      "metadata": {
        "id": "AirBPO6JFdoL"
      },
      "source": [
        "References:\n",
        "\n",
        "  GeekforGeeks python"
      ]
    }
  ]
}