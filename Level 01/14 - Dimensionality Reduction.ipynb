{
  "nbformat": 4,
  "nbformat_minor": 0,
  "metadata": {
    "colab": {
      "name": "Session5_Dimensionality_Reduction.ipynb",
      "provenance": [],
      "collapsed_sections": []
    },
    "kernelspec": {
      "display_name": "Python 3",
      "name": "python3"
    }
  },
  "cells": [
    {
      "cell_type": "markdown",
      "metadata": {
        "id": "fcvViDzxx4ua"
      },
      "source": [
        "# Dimensionality Reduction\r\n",
        "\r\n",
        "Definition : Dimensionality reduction refers to techniques that reduce the number of input variables in a dataset. More input features often make a predictive modeling task more hard to model, more likely that's why we need dimensionality reduction.\r\n",
        "\r\n"
      ]
    },
    {
      "cell_type": "markdown",
      "metadata": {
        "id": "WyhXVUKaNQLh"
      },
      "source": [
        "## Principal Component Analysis\r\n",
        "\r\n",
        "-- What are principal components: Principal components are new variables that are constructed as linear combinations or mixtures of the initial variables; supposing the initial variables are x1,x2, ... ,x6:\r\n",
        "\r\n",
        "Y1 = x1 + 3*x4 - x5\r\n",
        "\r\n",
        "Y2 = 5*x2 + 7*x3 - 2*x6\r\n",
        "\r\n",
        " - These combinations are done in such a way that the new variables ( principal components : X1,X2) are uncorrelated and most of the information within the initial variables is squeezed or compressed into the first components.\r\n",
        "  \r\n",
        "  -> X1 and X2 are uncorrelated.\r\n",
        "\r\n",
        "  -> All variables x1~x6 are compressed in the new pricipal components (X1,X2).\r\n",
        "\r\n",
        "- A covariance matrix helps the correlated variables to be grouped.\r\n",
        "\r\n",
        "\r\n",
        "-- How do we calculate it: Principal components are constructed in such a manner that the first principal component accounts for the largest possible variance in the data set (2 variables for example)."
      ]
    },
    {
      "cell_type": "code",
      "metadata": {
        "colab": {
          "base_uri": "https://localhost:8080/",
          "height": 265
        },
        "id": "C_0fB1wDRYcy",
        "outputId": "66d4c10a-5eda-403a-c403-60fecb60b518"
      },
      "source": [
        "## Simple plot for the PCA explanation:\r\n",
        "\r\n",
        "plt.scatter(X[:, 5], X[:, 2], s=30,)\r\n",
        "plt.show()"
      ],
      "execution_count": null,
      "outputs": [
        {
          "output_type": "display_data",
          "data": {
            "image/png": "[encoded data removed]",
            "text/plain": [
              "<Figure size 432x288 with 1 Axes>"
            ]
          },
          "metadata": {
            "tags": [],
            "needs_background": "light"
          }
        }
      ]
    },
    {
      "cell_type": "markdown",
      "metadata": {
        "id": "_V8GbEv8USn9"
      },
      "source": [
        "The second principal component is calculated in the same way, with the condition that it is uncorrelated with the first principal component.\r\n",
        "\r\n",
        "And the component calculation is repeated until reaching the needed number of components."
      ]
    },
    {
      "cell_type": "markdown",
      "metadata": {
        "id": "fWNn8APld7Lf"
      },
      "source": [
        "When to use it:\r\n",
        "\r\n",
        "Reducing the number of variables.\r\n",
        "\r\n",
        "Making variables more interpretable.\r\n",
        "\r\n",
        "You're not able to identify variables importance."
      ]
    },
    {
      "cell_type": "code",
      "metadata": {
        "id": "rVI4yf16xj3j"
      },
      "source": [
        "import numpy\r\n",
        "from pandas import read_csv\r\n",
        "from sklearn.decomposition import PCA\r\n",
        "from sklearn.preprocessing import StandardScaler\r\n",
        "\r\n",
        "# load data\r\n",
        "url = \"https://raw.githubusercontent.com/jbrownlee/Datasets/master/pima-indians-diabetes.csv\"\r\n",
        "names = ['preg', 'plas', 'pres', 'skin', 'test', 'mass', 'pedi', 'age', 'class']\r\n",
        "dataframe = read_csv(url, names=names)\r\n",
        "array = dataframe.values\r\n",
        "X = array[:,:-1]\r\n",
        "Y = array[:,-1]"
      ],
      "execution_count": null,
      "outputs": []
    },
    {
      "cell_type": "code",
      "metadata": {
        "colab": {
          "base_uri": "https://localhost:8080/",
          "height": 402
        },
        "id": "DUAobWpbgxna",
        "outputId": "a879f582-f509-4e78-f3e2-f32de3ef9f3b"
      },
      "source": [
        "dataframe"
      ],
      "execution_count": null,
      "outputs": [
        {
          "output_type": "execute_result",
          "data": {
            "text/html": [
              "<div>\n",
              "<style scoped>\n",
              "    .dataframe tbody tr th:only-of-type {\n",
              "        vertical-align: middle;\n",
              "    }\n",
              "\n",
              "    .dataframe tbody tr th {\n",
              "        vertical-align: top;\n",
              "    }\n",
              "\n",
              "    .dataframe thead th {\n",
              "        text-align: right;\n",
              "    }\n",
              "</style>\n",
              "<table border=\"1\" class=\"dataframe\">\n",
              "  <thead>\n",
              "    <tr style=\"text-align: right;\">\n",
              "      <th></th>\n",
              "      <th>preg</th>\n",
              "      <th>plas</th>\n",
              "      <th>pres</th>\n",
              "      <th>skin</th>\n",
              "      <th>test</th>\n",
              "      <th>mass</th>\n",
              "      <th>pedi</th>\n",
              "      <th>age</th>\n",
              "      <th>class</th>\n",
              "    </tr>\n",
              "  </thead>\n",
              "  <tbody>\n",
              "    <tr>\n",
              "      <th>0</th>\n",
              "      <td>6</td>\n",
              "      <td>148</td>\n",
              "      <td>72</td>\n",
              "      <td>35</td>\n",
              "      <td>0</td>\n",
              "      <td>33.6</td>\n",
              "      <td>0.627</td>\n",
              "      <td>50</td>\n",
              "      <td>1</td>\n",
              "    </tr>\n",
              "    <tr>\n",
              "      <th>1</th>\n",
              "      <td>1</td>\n",
              "      <td>85</td>\n",
              "      <td>66</td>\n",
              "      <td>29</td>\n",
              "      <td>0</td>\n",
              "      <td>26.6</td>\n",
              "      <td>0.351</td>\n",
              "      <td>31</td>\n",
              "      <td>0</td>\n",
              "    </tr>\n",
              "    <tr>\n",
              "      <th>2</th>\n",
              "      <td>8</td>\n",
              "      <td>183</td>\n",
              "      <td>64</td>\n",
              "      <td>0</td>\n",
              "      <td>0</td>\n",
              "      <td>23.3</td>\n",
              "      <td>0.672</td>\n",
              "      <td>32</td>\n",
              "      <td>1</td>\n",
              "    </tr>\n",
              "    <tr>\n",
              "      <th>3</th>\n",
              "      <td>1</td>\n",
              "      <td>89</td>\n",
              "      <td>66</td>\n",
              "      <td>23</td>\n",
              "      <td>94</td>\n",
              "      <td>28.1</td>\n",
              "      <td>0.167</td>\n",
              "      <td>21</td>\n",
              "      <td>0</td>\n",
              "    </tr>\n",
              "    <tr>\n",
              "      <th>4</th>\n",
              "      <td>0</td>\n",
              "      <td>137</td>\n",
              "      <td>40</td>\n",
              "      <td>35</td>\n",
              "      <td>168</td>\n",
              "      <td>43.1</td>\n",
              "      <td>2.288</td>\n",
              "      <td>33</td>\n",
              "      <td>1</td>\n",
              "    </tr>\n",
              "    <tr>\n",
              "      <th>...</th>\n",
              "      <td>...</td>\n",
              "      <td>...</td>\n",
              "      <td>...</td>\n",
              "      <td>...</td>\n",
              "      <td>...</td>\n",
              "      <td>...</td>\n",
              "      <td>...</td>\n",
              "      <td>...</td>\n",
              "      <td>...</td>\n",
              "    </tr>\n",
              "    <tr>\n",
              "      <th>763</th>\n",
              "      <td>10</td>\n",
              "      <td>101</td>\n",
              "      <td>76</td>\n",
              "      <td>48</td>\n",
              "      <td>180</td>\n",
              "      <td>32.9</td>\n",
              "      <td>0.171</td>\n",
              "      <td>63</td>\n",
              "      <td>0</td>\n",
              "    </tr>\n",
              "    <tr>\n",
              "      <th>764</th>\n",
              "      <td>2</td>\n",
              "      <td>122</td>\n",
              "      <td>70</td>\n",
              "      <td>27</td>\n",
              "      <td>0</td>\n",
              "      <td>36.8</td>\n",
              "      <td>0.340</td>\n",
              "      <td>27</td>\n",
              "      <td>0</td>\n",
              "    </tr>\n",
              "    <tr>\n",
              "      <th>765</th>\n",
              "      <td>5</td>\n",
              "      <td>121</td>\n",
              "      <td>72</td>\n",
              "      <td>23</td>\n",
              "      <td>112</td>\n",
              "      <td>26.2</td>\n",
              "      <td>0.245</td>\n",
              "      <td>30</td>\n",
              "      <td>0</td>\n",
              "    </tr>\n",
              "    <tr>\n",
              "      <th>766</th>\n",
              "      <td>1</td>\n",
              "      <td>126</td>\n",
              "      <td>60</td>\n",
              "      <td>0</td>\n",
              "      <td>0</td>\n",
              "      <td>30.1</td>\n",
              "      <td>0.349</td>\n",
              "      <td>47</td>\n",
              "      <td>1</td>\n",
              "    </tr>\n",
              "    <tr>\n",
              "      <th>767</th>\n",
              "      <td>1</td>\n",
              "      <td>93</td>\n",
              "      <td>70</td>\n",
              "      <td>31</td>\n",
              "      <td>0</td>\n",
              "      <td>30.4</td>\n",
              "      <td>0.315</td>\n",
              "      <td>23</td>\n",
              "      <td>0</td>\n",
              "    </tr>\n",
              "  </tbody>\n",
              "</table>\n",
              "<p>768 rows × 9 columns</p>\n",
              "</div>"
            ],
            "text/plain": [
              "     preg  plas  pres  skin  test  mass   pedi  age  class\n",
              "0       6   148    72    35     0  33.6  0.627   50      1\n",
              "1       1    85    66    29     0  26.6  0.351   31      0\n",
              "2       8   183    64     0     0  23.3  0.672   32      1\n",
              "3       1    89    66    23    94  28.1  0.167   21      0\n",
              "4       0   137    40    35   168  43.1  2.288   33      1\n",
              "..    ...   ...   ...   ...   ...   ...    ...  ...    ...\n",
              "763    10   101    76    48   180  32.9  0.171   63      0\n",
              "764     2   122    70    27     0  36.8  0.340   27      0\n",
              "765     5   121    72    23   112  26.2  0.245   30      0\n",
              "766     1   126    60     0     0  30.1  0.349   47      1\n",
              "767     1    93    70    31     0  30.4  0.315   23      0\n",
              "\n",
              "[768 rows x 9 columns]"
            ]
          },
          "metadata": {
            "tags": []
          },
          "execution_count": 4
        }
      ]
    },
    {
      "cell_type": "code",
      "metadata": {
        "colab": {
          "base_uri": "https://localhost:8080/"
        },
        "id": "nXWEPa5s18Yo",
        "outputId": "1714a377-49db-46c8-f9e3-ce8f7c286aab"
      },
      "source": [
        "X"
      ],
      "execution_count": null,
      "outputs": [
        {
          "output_type": "execute_result",
          "data": {
            "text/plain": [
              "array([[  6.   , 148.   ,  72.   , ...,  33.6  ,   0.627,  50.   ],\n",
              "       [  1.   ,  85.   ,  66.   , ...,  26.6  ,   0.351,  31.   ],\n",
              "       [  8.   , 183.   ,  64.   , ...,  23.3  ,   0.672,  32.   ],\n",
              "       ...,\n",
              "       [  5.   , 121.   ,  72.   , ...,  26.2  ,   0.245,  30.   ],\n",
              "       [  1.   , 126.   ,  60.   , ...,  30.1  ,   0.349,  47.   ],\n",
              "       [  1.   ,  93.   ,  70.   , ...,  30.4  ,   0.315,  23.   ]])"
            ]
          },
          "metadata": {
            "tags": []
          },
          "execution_count": 5
        }
      ]
    },
    {
      "cell_type": "code",
      "metadata": {
        "colab": {
          "base_uri": "https://localhost:8080/"
        },
        "id": "iqRS3no27u7P",
        "outputId": "be267e6d-dc6e-490a-bf81-56a78eb7e90e"
      },
      "source": [
        "sfit = StandardScaler().fit(X)\r\n",
        "X_normalized = sfit.transform(X)\r\n",
        "X_normalized"
      ],
      "execution_count": null,
      "outputs": [
        {
          "output_type": "execute_result",
          "data": {
            "text/plain": [
              "array([[ 0.63994726,  0.84832379,  0.14964075, ...,  0.20401277,\n",
              "         0.46849198,  1.4259954 ],\n",
              "       [-0.84488505, -1.12339636, -0.16054575, ..., -0.68442195,\n",
              "        -0.36506078, -0.19067191],\n",
              "       [ 1.23388019,  1.94372388, -0.26394125, ..., -1.10325546,\n",
              "         0.60439732, -0.10558415],\n",
              "       ...,\n",
              "       [ 0.3429808 ,  0.00330087,  0.14964075, ..., -0.73518964,\n",
              "        -0.68519336, -0.27575966],\n",
              "       [-0.84488505,  0.1597866 , -0.47073225, ..., -0.24020459,\n",
              "        -0.37110101,  1.17073215],\n",
              "       [-0.84488505, -0.8730192 ,  0.04624525, ..., -0.20212881,\n",
              "        -0.47378505, -0.87137393]])"
            ]
          },
          "metadata": {
            "tags": []
          },
          "execution_count": 6
        }
      ]
    },
    {
      "cell_type": "code",
      "metadata": {
        "id": "V4iL8QS34h8C"
      },
      "source": [
        "pca = PCA(n_components=2) ## n_components can be 2, 3 , .. less than 8, bigger than 0\r\n",
        "pca.fit(X_normalized)\r\n",
        "X_pca = pca.transform(X_normalized)"
      ],
      "execution_count": null,
      "outputs": []
    },
    {
      "cell_type": "code",
      "metadata": {
        "id": "40FNS_h54siZ",
        "colab": {
          "base_uri": "https://localhost:8080/"
        },
        "outputId": "11174c5a-2429-49a8-eeaa-72b6537271c1"
      },
      "source": [
        "X_pca.shape"
      ],
      "execution_count": null,
      "outputs": [
        {
          "output_type": "execute_result",
          "data": {
            "text/plain": [
              "(768, 2)"
            ]
          },
          "metadata": {
            "tags": []
          },
          "execution_count": 9
        }
      ]
    },
    {
      "cell_type": "code",
      "metadata": {
        "colab": {
          "base_uri": "https://localhost:8080/"
        },
        "id": "ZrjFARXbngy1",
        "outputId": "32d87417-fd87-467e-a451-23262d057065"
      },
      "source": [
        "X_pca"
      ],
      "execution_count": null,
      "outputs": [
        {
          "output_type": "execute_result",
          "data": {
            "text/plain": [
              "array([[ 1.06850273,  1.23489499],\n",
              "       [-1.12168331, -0.73385167],\n",
              "       [-0.39647671,  1.59587594],\n",
              "       ...,\n",
              "       [-0.28347525,  0.09706503],\n",
              "       [-1.06032431,  0.83706234],\n",
              "       [-0.83989172, -1.15175485]])"
            ]
          },
          "metadata": {
            "tags": []
          },
          "execution_count": 11
        }
      ]
    },
    {
      "cell_type": "code",
      "metadata": {
        "colab": {
          "base_uri": "https://localhost:8080/"
        },
        "id": "I1S39NMG9t-a",
        "outputId": "0855a9b0-3183-4973-ab46-c5f39745db04"
      },
      "source": [
        "X.shape"
      ],
      "execution_count": null,
      "outputs": [
        {
          "output_type": "execute_result",
          "data": {
            "text/plain": [
              "(768, 8)"
            ]
          },
          "metadata": {
            "tags": []
          },
          "execution_count": 62
        }
      ]
    },
    {
      "cell_type": "code",
      "metadata": {
        "colab": {
          "base_uri": "https://localhost:8080/",
          "height": 295
        },
        "id": "R0o_ciTv-OyG",
        "outputId": "6fad99d3-9bb2-410a-8aa7-26c4c1a141c7"
      },
      "source": [
        "import matplotlib.pyplot as plt\r\n",
        "\r\n",
        "plt.scatter(X_pca[:, 0], X_pca[:, 1], c=Y, s=30, cmap='Set1')\r\n",
        "plt.title('All data in just tow principal components')\r\n",
        "plt.xlabel('First prinicipal component')\r\n",
        "plt.ylabel('Second prinicipal component')\r\n",
        "plt.show()"
      ],
      "execution_count": null,
      "outputs": [
        {
          "output_type": "display_data",
          "data": {
            "image/png": "[encoded data removed]",
            "text/plain": [
              "<Figure size 432x288 with 1 Axes>"
            ]
          },
          "metadata": {
            "tags": [],
            "needs_background": "light"
          }
        }
      ]
    },
    {
      "cell_type": "markdown",
      "metadata": {
        "id": "cTjq7A1EUsAm"
      },
      "source": [
        "## Singular Value Decomposition ( SVD )\r\n",
        "\r\n",
        "- It's a matrix decomposition that may reduce number of features to a smaller subset of features that are most relevant to the prediction problem.\r\n",
        "The result is a matrix with a lower rank that is said to approximate the original matrix.\r\n",
        "\r\n",
        "For simplicity:\r\n",
        "\r\n",
        "[ input( dim = 10) ] -> ( SVD ) -> [ output ( dim = 3) ]\r\n",
        "\r\n",
        "Supposing that n_components = 3 "
      ]
    },
    {
      "cell_type": "code",
      "metadata": {
        "id": "gE0KRMlxBiFD"
      },
      "source": [
        "from sklearn.decomposition import TruncatedSVD\r\n",
        "\r\n",
        "svd = TruncatedSVD(n_components=2)\r\n",
        "svd.fit(X,Y)\r\n",
        "X_svd = svd.transform(X)"
      ],
      "execution_count": null,
      "outputs": []
    },
    {
      "cell_type": "code",
      "metadata": {
        "colab": {
          "base_uri": "https://localhost:8080/"
        },
        "id": "QiuE5idjEbPI",
        "outputId": "386f030f-291a-4bb0-df1b-f08f4eddc994"
      },
      "source": [
        "X_svd.shape"
      ],
      "execution_count": null,
      "outputs": [
        {
          "output_type": "execute_result",
          "data": {
            "text/plain": [
              "(768, 2)"
            ]
          },
          "metadata": {
            "tags": []
          },
          "execution_count": 14
        }
      ]
    },
    {
      "cell_type": "code",
      "metadata": {
        "colab": {
          "base_uri": "https://localhost:8080/"
        },
        "id": "oZvLxm7wH0dt",
        "outputId": "3483fc00-3f48-42c1-efe6-96b51f5d3c3d"
      },
      "source": [
        "X.shape"
      ],
      "execution_count": null,
      "outputs": [
        {
          "output_type": "execute_result",
          "data": {
            "text/plain": [
              "(768, 8)"
            ]
          },
          "metadata": {
            "tags": []
          },
          "execution_count": 15
        }
      ]
    },
    {
      "cell_type": "code",
      "metadata": {
        "colab": {
          "base_uri": "https://localhost:8080/",
          "height": 295
        },
        "id": "IMKGDHKfH06t",
        "outputId": "2de61ea8-5f46-4148-81e4-51cc5ddf199c"
      },
      "source": [
        "plt.scatter(X_svd[:, 0], X_svd[:, 1], c=Y, s=30, cmap='Set1')\r\n",
        "plt.title('All data in just tow principal components')\r\n",
        "plt.xlabel('First prinicipal component')\r\n",
        "plt.ylabel('Second prinicipal component')\r\n",
        "plt.show()"
      ],
      "execution_count": null,
      "outputs": [
        {
          "output_type": "display_data",
          "data": {
            "image/png": "[encoded data removed]",
            "text/plain": [
              "<Figure size 432x288 with 1 Axes>"
            ]
          },
          "metadata": {
            "tags": [],
            "needs_background": "light"
          }
        }
      ]
    },
    {
      "cell_type": "markdown",
      "metadata": {
        "id": "5svQ65epZRoH"
      },
      "source": [
        "## Linear Discriminant Analysis ( LDA )\r\n",
        "\r\n",
        "- Linear Discriminant Analysis seeks to best separate (or discriminate) the samples in the dataset by their class value ( y or the output ). Specifically, the model seeks to find a linear combination of input variables that achieves the maximum separation for samples between classes (class centroids or means) and the minimum separation of samples within each class.\r\n",
        "\r\n",
        "- Can only be used in classification tasks.\r\n",
        "- Doesn't take a n_component argument."
      ]
    },
    {
      "cell_type": "code",
      "metadata": {
        "id": "bASS8XQ-JYAl"
      },
      "source": [
        "from sklearn.discriminant_analysis import LinearDiscriminantAnalysis\r\n",
        "\r\n",
        "lda = LinearDiscriminantAnalysis()\r\n",
        "lda.fit(X,Y)\r\n",
        "X_lda = lda.transform(X)"
      ],
      "execution_count": null,
      "outputs": []
    },
    {
      "cell_type": "code",
      "metadata": {
        "colab": {
          "base_uri": "https://localhost:8080/"
        },
        "id": "xTJn1aThLydb",
        "outputId": "aa83e2ff-aa5a-4fec-ddbf-3fcca8f3f5f0"
      },
      "source": [
        "X_lda.shape"
      ],
      "execution_count": null,
      "outputs": [
        {
          "output_type": "execute_result",
          "data": {
            "text/plain": [
              "(768, 1)"
            ]
          },
          "metadata": {
            "tags": []
          },
          "execution_count": 19
        }
      ]
    },
    {
      "cell_type": "code",
      "metadata": {
        "colab": {
          "base_uri": "https://localhost:8080/"
        },
        "id": "ZpDBLSF2L19L",
        "outputId": "dbc77506-c58d-416f-810e-57418e1685fb"
      },
      "source": [
        "X.shape"
      ],
      "execution_count": null,
      "outputs": [
        {
          "output_type": "execute_result",
          "data": {
            "text/plain": [
              "(768, 8)"
            ]
          },
          "metadata": {
            "tags": []
          },
          "execution_count": 20
        }
      ]
    },
    {
      "cell_type": "code",
      "metadata": {
        "colab": {
          "base_uri": "https://localhost:8080/"
        },
        "id": "dPajkmwcL50-",
        "outputId": "8a5ae185-7ed4-490a-b3b1-5c7a7da8034b"
      },
      "source": [
        "X_lda[:20]"
      ],
      "execution_count": null,
      "outputs": [
        {
          "output_type": "execute_result",
          "data": {
            "text/plain": [
              "array([[ 1.38024702],\n",
              "       [-1.56452399],\n",
              "       [ 1.76618515],\n",
              "       [-1.69058752],\n",
              "       [ 2.20726804],\n",
              "       [-0.63094501],\n",
              "       [-1.32918043],\n",
              "       [ 1.12663761],\n",
              "       [ 1.44250389],\n",
              "       [-1.57821647],\n",
              "       [-0.36032508],\n",
              "       [ 2.26355831],\n",
              "       [ 1.64069266],\n",
              "       [ 1.18282272],\n",
              "       [ 1.13107071],\n",
              "       [ 0.39103911],\n",
              "       [ 0.15757544],\n",
              "       [-0.39709357],\n",
              "       [ 0.16125157],\n",
              "       [-0.26137216]])"
            ]
          },
          "metadata": {
            "tags": []
          },
          "execution_count": 21
        }
      ]
    }
  ]
}