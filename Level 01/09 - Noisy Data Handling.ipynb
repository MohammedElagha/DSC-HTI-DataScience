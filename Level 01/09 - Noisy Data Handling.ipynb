{
  "nbformat": 4,
  "nbformat_minor": 0,
  "metadata": {
    "colab": {
      "name": "DSC_D_S_Session3.ipynb",
      "provenance": [],
      "collapsed_sections": [
        "Y-NPnEvOngNw",
        "xfqMRjMxVsRC",
        "bV4R2RkWWdD4"
      ]
    },
    "kernelspec": {
      "name": "python3",
      "display_name": "Python 3"
    }
  },
  "cells": [
    {
      "cell_type": "markdown",
      "metadata": {
        "id": "76YpFkbFxAgc"
      },
      "source": [
        "# Noisy data\n",
        "\n",
        "Suppose that we have a dataset in which we have some measured attributes. Now, these attributes might carry some random error or variance. Such errors in attribute values are called as noise in the data.\n",
        "\n",
        "If such errors persist in our data, it will return inaccurate results."
      ]
    },
    {
      "cell_type": "markdown",
      "metadata": {
        "id": "Y-NPnEvOngNw"
      },
      "source": [
        "## Data cleaning\n",
        "\n",
        "Real-world data tend to be noisy. Noisy data is data with a large amount of additional meaningless \n",
        "information in it called noise. Data cleaning (or data cleansing) routines attempt to smooth out noise \n",
        "while identifying outliers in the data."
      ]
    },
    {
      "cell_type": "markdown",
      "metadata": {
        "id": "FjwoH-7unxsp"
      },
      "source": [
        "There are three data smoothing techniques as follows:\n",
        "\n",
        "1. Binning : Binning methods smooth a sorted data value by consulting its “neighborhood”, that is, the values around it.\n",
        "\n",
        "2. Regression : It conforms data values to a function. Linear regression involves finding the “best” line to fit two attributes (or variables) so that one attribute can be used to predict the other.\n",
        "\n",
        "3. Outlier analysis : Outliers may be detected by clustering, for example, where similar values are organized into groups, or “clusters”. Intuitively, values that fall outside of the set of clusters may be considered as outliers."
      ]
    },
    {
      "cell_type": "markdown",
      "metadata": {
        "id": "xfqMRjMxVsRC"
      },
      "source": [
        "## 1. Binning"
      ]
    },
    {
      "cell_type": "markdown",
      "metadata": {
        "id": "4FynDIRfoUZB"
      },
      "source": [
        "Types of smoothing using binning:\n",
        "\n",
        "Smoothing by bin means : In smoothing by bin means, each value in a bin is replaced by the mean value of the bin.\n",
        "\n",
        "Smoothing by bin median : In this method each bin value is replaced by its bin median value.\n",
        "\n",
        "Smoothing by bin boundary : In smoothing by bin boundaries, the minimum and maximum values in a given bin are identified as the bin boundaries. Each bin value is then replaced by the closest boundary value."
      ]
    },
    {
      "cell_type": "markdown",
      "metadata": {
        "id": "OUUf2p-Q1uxW"
      },
      "source": [
        "Bin = [ 2, 6, 7, 9, 13, 20, 21, 25, 30 ]\n",
        "\n",
        "Partition using equal frequency approach:\n",
        "\n",
        "Bin 1 : 2, 6, 7\n",
        "\n",
        "Bin 2 : 9, 13, 20\n",
        "\n",
        "Bin 3 : 21, 24, 30\n",
        "\n",
        "Smoothing by bin mean :\n",
        "\n",
        "Bin 1 : 5, 5, 5\n",
        "\n",
        "Bin 2 : 14, 14, 14\n",
        "\n",
        "Bin 3 : 25, 25, 25\n",
        "\n",
        "Smoothing by bin median :\n",
        "\n",
        "Bin 1 : 6,6,6\n",
        "\n",
        "Bin 2 : 13,13,13\n",
        "\n",
        "Bin 3 : 24,24,24\n",
        "\n",
        "Smoothing by bin boundaries :\n",
        "\n",
        "Boundary_bins = [0,7,14,21,30]\n",
        "\n",
        "Bin = [ 2, 6, 7, 9, 13, 20, 21, 25, 30 ]\n",
        "\n",
        "New_bin = [ (0,7] , (0,7] , (0,7] , (7,14], (7,14], (14,21], (14,21], (25,30] , (25,30]  ] \n"
      ]
    },
    {
      "cell_type": "code",
      "metadata": {
        "id": "C8oT9zrZLLS-"
      },
      "source": [
        "import pandas as pd\n",
        "import matplotlib.pyplot as plt"
      ],
      "execution_count": 67,
      "outputs": []
    },
    {
      "cell_type": "code",
      "metadata": {
        "id": "R0w918s5ItpH"
      },
      "source": [
        "ages = [20, 22, 25, 27, 21, 23, 37, 31, 61, 45, 41, 32]\n",
        "\n",
        "bound_bins = [18, 25, 35, 60, 100]\n",
        "categories = ['18_25','25_35' , '35_60' , '60_100' ]"
      ],
      "execution_count": 91,
      "outputs": []
    },
    {
      "cell_type": "code",
      "metadata": {
        "id": "GqYvBfn0LOY3"
      },
      "source": [
        "cats = pd.cut(ages, bound_bins)"
      ],
      "execution_count": 92,
      "outputs": []
    },
    {
      "cell_type": "code",
      "metadata": {
        "colab": {
          "base_uri": "https://localhost:8080/"
        },
        "id": "0Ii7pvh8JoBR",
        "outputId": "4f50edd5-8346-4359-e22a-1fa9c030df9b"
      },
      "source": [
        "cats"
      ],
      "execution_count": 93,
      "outputs": [
        {
          "output_type": "execute_result",
          "data": {
            "text/plain": [
              "[(18, 25], (18, 25], (18, 25], (25, 35], (18, 25], ..., (25, 35], (60, 100], (35, 60], (35, 60], (25, 35]]\n",
              "Length: 12\n",
              "Categories (4, interval[int64]): [(18, 25] < (25, 35] < (35, 60] < (60, 100]]"
            ]
          },
          "metadata": {
            "tags": []
          },
          "execution_count": 93
        }
      ]
    },
    {
      "cell_type": "code",
      "metadata": {
        "colab": {
          "base_uri": "https://localhost:8080/"
        },
        "id": "q0mucWXATdfd",
        "outputId": "87479196-b1a0-45f7-bcfe-12233c3ca671"
      },
      "source": [
        "cats[6]"
      ],
      "execution_count": 94,
      "outputs": [
        {
          "output_type": "execute_result",
          "data": {
            "text/plain": [
              "Interval(35, 60, closed='right')"
            ]
          },
          "metadata": {
            "tags": []
          },
          "execution_count": 94
        }
      ]
    },
    {
      "cell_type": "code",
      "metadata": {
        "colab": {
          "base_uri": "https://localhost:8080/"
        },
        "id": "UgYEAA13L1E8",
        "outputId": "16d48706-75dd-4120-a057-b1af28cf1746"
      },
      "source": [
        "y = pd.value_counts(cats)\n",
        "y"
      ],
      "execution_count": 95,
      "outputs": [
        {
          "output_type": "execute_result",
          "data": {
            "text/plain": [
              "(18, 25]     5\n",
              "(35, 60]     3\n",
              "(25, 35]     3\n",
              "(60, 100]    1\n",
              "dtype: int64"
            ]
          },
          "metadata": {
            "tags": []
          },
          "execution_count": 95
        }
      ]
    },
    {
      "cell_type": "code",
      "metadata": {
        "colab": {
          "base_uri": "https://localhost:8080/",
          "height": 266
        },
        "id": "-OkWk30iSwGp",
        "outputId": "a46965d3-6e78-4b92-f230-beaa910cfdd2"
      },
      "source": [
        "plt.bar(categories,y)\n",
        "plt.show()"
      ],
      "execution_count": 96,
      "outputs": [
        {
          "output_type": "display_data",
          "data": {
            "image/png": "[encoded data removed]",
            "text/plain": [
              "<Figure size 432x288 with 1 Axes>"
            ]
          },
          "metadata": {
            "tags": [],
            "needs_background": "light"
          }
        }
      ]
    },
    {
      "cell_type": "code",
      "metadata": {
        "id": "o-SmT9MNQLlZ"
      },
      "source": [
        "cut_labels = ['young', 'adult', 'old', 'very_old']\n",
        "cut_bins = [18, 25, 35, 60, 100]\n",
        "cats = pd.cut(ages, bins=cut_bins, labels=cut_labels)"
      ],
      "execution_count": 85,
      "outputs": []
    },
    {
      "cell_type": "code",
      "metadata": {
        "colab": {
          "base_uri": "https://localhost:8080/"
        },
        "id": "KtYj7X9nRPqL",
        "outputId": "2c7ff549-bf2a-4f37-b526-765a7e75b817"
      },
      "source": [
        "cats"
      ],
      "execution_count": 86,
      "outputs": [
        {
          "output_type": "execute_result",
          "data": {
            "text/plain": [
              "['young', 'young', 'young', 'adult', 'young', ..., 'adult', 'very_old', 'old', 'old', 'adult']\n",
              "Length: 12\n",
              "Categories (4, object): ['young' < 'adult' < 'old' < 'very_old']"
            ]
          },
          "metadata": {
            "tags": []
          },
          "execution_count": 86
        }
      ]
    },
    {
      "cell_type": "code",
      "metadata": {
        "colab": {
          "base_uri": "https://localhost:8080/"
        },
        "id": "qQVNgIqhSjHH",
        "outputId": "b79b972b-ff56-4171-8442-972f131cd3ed"
      },
      "source": [
        "y = pd.value_counts(cats)\n",
        "y"
      ],
      "execution_count": 89,
      "outputs": [
        {
          "output_type": "execute_result",
          "data": {
            "text/plain": [
              "young       5\n",
              "old         3\n",
              "adult       3\n",
              "very_old    1\n",
              "dtype: int64"
            ]
          },
          "metadata": {
            "tags": []
          },
          "execution_count": 89
        }
      ]
    },
    {
      "cell_type": "code",
      "metadata": {
        "colab": {
          "base_uri": "https://localhost:8080/",
          "height": 266
        },
        "id": "35QwKYwMRmrO",
        "outputId": "11fe1da0-7e89-4a5f-ac56-11edb51fc797"
      },
      "source": [
        "plt.bar(cut_labels,y,width= 0.7)\n",
        "plt.show()"
      ],
      "execution_count": 90,
      "outputs": [
        {
          "output_type": "display_data",
          "data": {
            "image/png": "[encoded data removed]",
            "text/plain": [
              "<Figure size 432x288 with 1 Axes>"
            ]
          },
          "metadata": {
            "tags": [],
            "needs_background": "light"
          }
        }
      ]
    },
    {
      "cell_type": "code",
      "metadata": {
        "id": "3G0kjZ7xPc-p"
      },
      "source": [
        "cats2 = pd.qcut(ages, q = 4)"
      ],
      "execution_count": 97,
      "outputs": []
    },
    {
      "cell_type": "code",
      "metadata": {
        "colab": {
          "base_uri": "https://localhost:8080/"
        },
        "id": "9bxau8eZP1sX",
        "outputId": "e6a8fd9e-794a-475b-a5e5-d9891f62a128"
      },
      "source": [
        "cats2"
      ],
      "execution_count": 98,
      "outputs": [
        {
          "output_type": "execute_result",
          "data": {
            "text/plain": [
              "[(19.999, 22.75], (19.999, 22.75], (22.75, 29.0], (22.75, 29.0], (19.999, 22.75], ..., (29.0, 38.0], (38.0, 61.0], (38.0, 61.0], (38.0, 61.0], (29.0, 38.0]]\n",
              "Length: 12\n",
              "Categories (4, interval[float64]): [(19.999, 22.75] < (22.75, 29.0] < (29.0, 38.0] < (38.0, 61.0]]"
            ]
          },
          "metadata": {
            "tags": []
          },
          "execution_count": 98
        }
      ]
    },
    {
      "cell_type": "code",
      "metadata": {
        "colab": {
          "base_uri": "https://localhost:8080/"
        },
        "id": "VL21FeopQJEL",
        "outputId": "10dc62c7-3fe3-4917-d4e7-ee54c556877d"
      },
      "source": [
        "y = pd.value_counts(cats2)\n",
        "y"
      ],
      "execution_count": 100,
      "outputs": [
        {
          "output_type": "execute_result",
          "data": {
            "text/plain": [
              "(38.0, 61.0]       3\n",
              "(29.0, 38.0]       3\n",
              "(22.75, 29.0]      3\n",
              "(19.999, 22.75]    3\n",
              "dtype: int64"
            ]
          },
          "metadata": {
            "tags": []
          },
          "execution_count": 100
        }
      ]
    },
    {
      "cell_type": "markdown",
      "metadata": {
        "id": "KFJ-ZA2EVv1R"
      },
      "source": [
        "## 2. Regression\n",
        "\n",
        "Used to predict for individuals on the basis of information gained from a previous sample of similar individuals"
      ]
    },
    {
      "cell_type": "markdown",
      "metadata": {
        "id": "bV4R2RkWWdD4"
      },
      "source": [
        "## 3. Clustering \n",
        "\n",
        "Clustering is the task of dividing the data points into a number of groups (you choose it) such that data points in the same groups are more similar to other data points in the same group and dissimilar to the data points in other groups.\n"
      ]
    },
    {
      "cell_type": "markdown",
      "metadata": {
        "id": "mr-L7mxLt6Qg"
      },
      "source": [
        "Reference:\n",
        " \n",
        " https://en.wikipedia.org/wiki/Data_binning\n",
        "           \n",
        " https://www.geeksforgeeks.org/ml-binning-or-discretization/\n"
      ]
    }
  ]
}
